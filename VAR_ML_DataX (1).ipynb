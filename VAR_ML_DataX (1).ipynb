{
  "nbformat": 4,
  "nbformat_minor": 0,
  "metadata": {
    "colab": {
      "name": "VAR_ML_DataX.ipynb",
      "provenance": [],
      "collapsed_sections": []
    },
    "kernelspec": {
      "display_name": "Python 3 (ipykernel)",
      "language": "python",
      "name": "python3"
    },
    "language_info": {
      "codemirror_mode": {
        "name": "ipython",
        "version": 3
      },
      "file_extension": ".py",
      "mimetype": "text/x-python",
      "name": "python",
      "nbconvert_exporter": "python",
      "pygments_lexer": "ipython3",
      "version": "3.9.7"
    }
  },
  "cells": [
    {
      "cell_type": "markdown",
      "metadata": {
        "id": "fuGz66tpvfqx"
      },
      "source": [
        "### Vector Autoregression Model  "
      ]
    },
    {
      "cell_type": "markdown",
      "metadata": {
        "id": "gix-bED9tLwl"
      },
      "source": [
        "Vector autoregression (VAR) is used for to capture the relationship among multiple features including 'CRASH_DT', 'K_PEOPLE', 'PERSONS_INJURED',  'PEDESTRIANS_KILLED,' and 'PEDESTRIANS_INJURED.' This is our baseline model to test the best possible fit. \n"
      ]
    },
    {
      "cell_type": "code",
      "metadata": {
        "id": "Wwcdb9lj5bWX"
      },
      "source": [
        "import numpy as np\n",
        "import pandas as pd\n",
        "from sklearn.linear_model import LinearRegression\n",
        "import datetime\n",
        "import matplotlib.pyplot as plt\n"
      ],
      "execution_count": 57,
      "outputs": []
    },
    {
      "cell_type": "code",
      "metadata": {
        "id": "EBSG_jarEyju"
      },
      "source": [
        "data = pd.read_csv(\"full_crash1.csv\")"
      ],
      "execution_count": 58,
      "outputs": []
    },
    {
      "cell_type": "code",
      "metadata": {
        "colab": {
          "base_uri": "https://localhost:8080/"
        },
        "id": "IuO7CzKO7hE3",
        "outputId": "102df323-fcfb-4b7d-89c4-799a0edf1bcf"
      },
      "source": [
        "\n",
        "data['CRASH_YEAR'].value_counts()\n"
      ],
      "execution_count": 59,
      "outputs": [
        {
          "output_type": "execute_result",
          "data": {
            "text/plain": [
              "2018    131848\n",
              "2016    128525\n",
              "2019    128172\n",
              "2017    127375\n",
              "2015    125800\n",
              "2014    120282\n",
              "2020    105600\n",
              "2021     64514\n",
              "Name: CRASH_YEAR, dtype: int64"
            ]
          },
          "metadata": {},
          "execution_count": 59
        }
      ]
    },
    {
      "cell_type": "code",
      "metadata": {
        "id": "H9fdrVUxiGoT"
      },
      "source": [
        ""
      ],
      "execution_count": 59,
      "outputs": []
    },
    {
      "cell_type": "code",
      "metadata": {
        "id": "Dk4WxFEG8Q6i"
      },
      "source": [
        "data = data[data['CRASH_YEAR'] < 2020]"
      ],
      "execution_count": 60,
      "outputs": []
    },
    {
      "cell_type": "code",
      "metadata": {
        "colab": {
          "base_uri": "https://localhost:8080/"
        },
        "id": "T95q59Mz8gqM",
        "outputId": "1cfda6b5-b8c2-4fcc-f8ab-c444149c85e3"
      },
      "source": [
        "data['CRASH_YEAR'].value_counts()\n"
      ],
      "execution_count": 61,
      "outputs": [
        {
          "output_type": "execute_result",
          "data": {
            "text/plain": [
              "2018    131848\n",
              "2016    128525\n",
              "2019    128172\n",
              "2017    127375\n",
              "2015    125800\n",
              "2014    120282\n",
              "Name: CRASH_YEAR, dtype: int64"
            ]
          },
          "metadata": {},
          "execution_count": 61
        }
      ]
    },
    {
      "cell_type": "code",
      "metadata": {
        "scrolled": true,
        "colab": {
          "base_uri": "https://localhost:8080/"
        },
        "id": "XLbnBOFeeI1y",
        "outputId": "b81d2349-0a85-44d2-830d-b8f9ba1485be"
      },
      "source": [
        "data['PLAN_DISTRICT'].value_counts()"
      ],
      "execution_count": 62,
      "outputs": [
        {
          "output_type": "execute_result",
          "data": {
            "text/plain": [
              "Northern Virginia                          178363\n",
              "Hampton Roads                              153863\n",
              "Richmond Regional                           88583\n",
              "George Washington Regional                  37987\n",
              "Richmond Regional, Crater                   34065\n",
              "Central Shenandoah                          29688\n",
              "Roanoke Valley-Alleghany                    27282\n",
              "Thomas Jefferson                            24205\n",
              "Region 2000                                 22489\n",
              "Northern Shenandoah Valley                  21549\n",
              "Mount Rogers                                20535\n",
              "Rappahannock - Rapidan                      19259\n",
              "Crater                                      18096\n",
              "New River Valley                            16927\n",
              "West Piedmont                               16108\n",
              "Cumberland Plateau                           8661\n",
              "Commonwealth Regional                        8045\n",
              "Southside                                    7988\n",
              "Lenowisco                                    7573\n",
              "Roanoke Valley-Alleghany, West Piedmont      5484\n",
              "Middle Peninsula                             4843\n",
              "Accomack-Northampton                         4508\n",
              "Northern Neck                                2784\n",
              "Middle Peninsula, Hampton Roads              2517\n",
              "Crater, Hampton Roads                         600\n",
              "Name: PLAN_DISTRICT, dtype: int64"
            ]
          },
          "metadata": {},
          "execution_count": 62
        }
      ]
    },
    {
      "cell_type": "markdown",
      "metadata": {
        "id": "VZxOszgReI10"
      },
      "source": [
        "Northern Virginia                       \n",
        "Hampton Roads                           \n",
        "George Washington Regional             \n",
        "Central Shenandoah                         \n",
        "Roanoke Valley-Alleghany                   \n",
        "Thomas Jefferson                         \n",
        "Region 2000                                 \n",
        "Northern Shenandoah Valley\n",
        "Rappahannock - Rapidan"
      ]
    },
    {
      "cell_type": "code",
      "metadata": {
        "id": "MePf0Y7yjmcP"
      },
      "source": [
        "data1 = data[data['PLAN_DISTRICT'] == 'Northern Virginia']\n",
        "data2 = data[data['PLAN_DISTRICT'] == 'Hampton Roads']\n",
        "data3 = data[data['PLAN_DISTRICT'] == 'George Washington Regional']\n",
        "data4 = data[data['PLAN_DISTRICT'] == 'Central Shenandoah']\n",
        "data5 = data[data['PLAN_DISTRICT'] == 'Roanoke Valley-Alleghany']\n",
        "data6 = data[data['PLAN_DISTRICT'] == 'Thomas Jefferson']\n",
        "data7 = data[data['PLAN_DISTRICT'] == 'Region 2000']\n",
        "data8 = data[data['PLAN_DISTRICT'] == 'Northern Shenandoah Valley']\n",
        "data9 = data[data['PLAN_DISTRICT'] == 'Rappahannock - Rapidan']\n"
      ],
      "execution_count": 63,
      "outputs": []
    },
    {
      "cell_type": "code",
      "metadata": {
        "id": "zUrsrD-akltz"
      },
      "source": [
        ""
      ],
      "execution_count": 63,
      "outputs": []
    },
    {
      "cell_type": "code",
      "metadata": {
        "colab": {
          "base_uri": "https://localhost:8080/"
        },
        "id": "KHvuGWIK9bML",
        "outputId": "875a1fc3-f67e-4558-f2c9-1588d9b91d4d"
      },
      "source": [
        "data1.columns"
      ],
      "execution_count": 64,
      "outputs": [
        {
          "output_type": "execute_result",
          "data": {
            "text/plain": [
              "Index(['X', 'Y', 'OBJECTID', 'DOCUMENT_NBR', 'CRASH_YEAR', 'CRASH_DT',\n",
              "       'CRASH_MILITARY_TM', 'CRASH_SEVERITY', 'K_PEOPLE', 'A_PEOPLE',\n",
              "       'B_PEOPLE', 'C_PEOPLE', 'PERSONS_INJURED', 'PEDESTRIANS_KILLED',\n",
              "       'PEDESTRIANS_INJURED', 'VEH_COUNT', 'COLLISION_TYPE',\n",
              "       'WEATHER_CONDITION', 'LIGHT_CONDITION', 'RD_TYPE',\n",
              "       'ROADWAY_SURFACE_COND', 'RELATION_TO_ROADWAY', 'ROADWAY_ALIGNMENT',\n",
              "       'ROADWAY_SURFACE_TYPE', 'ROADWAY_DEFECT', 'ROADWAY_DESCRIPTION',\n",
              "       'INTERSECTION_TYPE', 'TRAFFIC_CONTROL_TYPE', 'TRFC_CTRL_STATUS_TYPE',\n",
              "       'WORK_ZONE_RELATED', 'WORK_ZONE_LOCATION', 'WORK_ZONE_TYPE',\n",
              "       'FIRST_HARMFUL_EVENT', 'FIRST_HARMFUL_EVENT_LOC', 'ALCOHOL_NOTALCOHOL',\n",
              "       'BELTED_UNBELTED', 'BIKE_NONBIKE', 'DISTRACTED_NOTDISTRACTED',\n",
              "       'DROWSY_NOTDROWSY', 'DRUG_NODRUG', 'GR_NOGR', 'HITRUN_NOT_HITRUN',\n",
              "       'LGTRUCK_NONLGTRUCK', 'MOTOR_NONMOTOR', 'PED_NONPED', 'SPEED_NOTSPEED',\n",
              "       'SCHOOL_ZONE', 'SENIOR_NOTSENIOR', 'YOUNG_NOTYOUNG', 'MAINLINE_YN',\n",
              "       'NIGHT', 'VDOT_DISTRICT', 'JURIS_CODE', 'PHYSICAL_JURIS', 'FUN', 'FAC',\n",
              "       'AREA_TYPE', 'SYSTEM', 'VSP', 'OWNERSHIP', 'INTERSECTION_ANALYSIS',\n",
              "       'PLAN_DISTRICT', 'MPO_NAME', 'RTE_NM', 'RNS_MP', 'NODE', 'OFFSET',\n",
              "       'ANIMAL', 'SPEED_DIFF_MAX'],\n",
              "      dtype='object')"
            ]
          },
          "metadata": {},
          "execution_count": 64
        }
      ]
    },
    {
      "cell_type": "code",
      "metadata": {
        "colab": {
          "base_uri": "https://localhost:8080/"
        },
        "id": "PlXzcuBp8nNi",
        "outputId": "ac193b59-833f-475e-bfa9-021c1d98b52c"
      },
      "source": [
        "data1['VDOT_DISTRICT'].value_counts()"
      ],
      "execution_count": 65,
      "outputs": [
        {
          "output_type": "execute_result",
          "data": {
            "text/plain": [
              "9. Northern Virginia    178363\n",
              "Name: VDOT_DISTRICT, dtype: int64"
            ]
          },
          "metadata": {},
          "execution_count": 65
        }
      ]
    },
    {
      "cell_type": "code",
      "metadata": {
        "id": "VWxP1giL9mgi"
      },
      "source": [
        "#Chris dont touch my cells"
      ],
      "execution_count": 66,
      "outputs": []
    },
    {
      "cell_type": "code",
      "metadata": {
        "id": "yRhsRBon0SYL"
      },
      "source": [
        "#Forecast - the number of crashes for follwing year 2014-2019\n",
        "#change data column into month"
      ],
      "execution_count": 67,
      "outputs": []
    },
    {
      "cell_type": "code",
      "metadata": {
        "id": "Ql3ueCFx0Sgu",
        "colab": {
          "base_uri": "https://localhost:8080/",
          "height": 666
        },
        "outputId": "2088adb4-7fdc-4185-8830-61f1ebf6aa16"
      },
      "source": [
        "data1.head()"
      ],
      "execution_count": 68,
      "outputs": [
        {
          "output_type": "execute_result",
          "data": {
            "text/html": [
              "<div>\n",
              "<style scoped>\n",
              "    .dataframe tbody tr th:only-of-type {\n",
              "        vertical-align: middle;\n",
              "    }\n",
              "\n",
              "    .dataframe tbody tr th {\n",
              "        vertical-align: top;\n",
              "    }\n",
              "\n",
              "    .dataframe thead th {\n",
              "        text-align: right;\n",
              "    }\n",
              "</style>\n",
              "<table border=\"1\" class=\"dataframe\">\n",
              "  <thead>\n",
              "    <tr style=\"text-align: right;\">\n",
              "      <th></th>\n",
              "      <th>X</th>\n",
              "      <th>Y</th>\n",
              "      <th>OBJECTID</th>\n",
              "      <th>DOCUMENT_NBR</th>\n",
              "      <th>CRASH_YEAR</th>\n",
              "      <th>CRASH_DT</th>\n",
              "      <th>CRASH_MILITARY_TM</th>\n",
              "      <th>CRASH_SEVERITY</th>\n",
              "      <th>K_PEOPLE</th>\n",
              "      <th>A_PEOPLE</th>\n",
              "      <th>B_PEOPLE</th>\n",
              "      <th>C_PEOPLE</th>\n",
              "      <th>PERSONS_INJURED</th>\n",
              "      <th>PEDESTRIANS_KILLED</th>\n",
              "      <th>PEDESTRIANS_INJURED</th>\n",
              "      <th>VEH_COUNT</th>\n",
              "      <th>COLLISION_TYPE</th>\n",
              "      <th>WEATHER_CONDITION</th>\n",
              "      <th>LIGHT_CONDITION</th>\n",
              "      <th>RD_TYPE</th>\n",
              "      <th>ROADWAY_SURFACE_COND</th>\n",
              "      <th>RELATION_TO_ROADWAY</th>\n",
              "      <th>ROADWAY_ALIGNMENT</th>\n",
              "      <th>ROADWAY_SURFACE_TYPE</th>\n",
              "      <th>ROADWAY_DEFECT</th>\n",
              "      <th>ROADWAY_DESCRIPTION</th>\n",
              "      <th>INTERSECTION_TYPE</th>\n",
              "      <th>TRAFFIC_CONTROL_TYPE</th>\n",
              "      <th>TRFC_CTRL_STATUS_TYPE</th>\n",
              "      <th>WORK_ZONE_RELATED</th>\n",
              "      <th>WORK_ZONE_LOCATION</th>\n",
              "      <th>WORK_ZONE_TYPE</th>\n",
              "      <th>FIRST_HARMFUL_EVENT</th>\n",
              "      <th>FIRST_HARMFUL_EVENT_LOC</th>\n",
              "      <th>ALCOHOL_NOTALCOHOL</th>\n",
              "      <th>BELTED_UNBELTED</th>\n",
              "      <th>BIKE_NONBIKE</th>\n",
              "      <th>DISTRACTED_NOTDISTRACTED</th>\n",
              "      <th>DROWSY_NOTDROWSY</th>\n",
              "      <th>DRUG_NODRUG</th>\n",
              "      <th>GR_NOGR</th>\n",
              "      <th>HITRUN_NOT_HITRUN</th>\n",
              "      <th>LGTRUCK_NONLGTRUCK</th>\n",
              "      <th>MOTOR_NONMOTOR</th>\n",
              "      <th>PED_NONPED</th>\n",
              "      <th>SPEED_NOTSPEED</th>\n",
              "      <th>SCHOOL_ZONE</th>\n",
              "      <th>SENIOR_NOTSENIOR</th>\n",
              "      <th>YOUNG_NOTYOUNG</th>\n",
              "      <th>MAINLINE_YN</th>\n",
              "      <th>NIGHT</th>\n",
              "      <th>VDOT_DISTRICT</th>\n",
              "      <th>JURIS_CODE</th>\n",
              "      <th>PHYSICAL_JURIS</th>\n",
              "      <th>FUN</th>\n",
              "      <th>FAC</th>\n",
              "      <th>AREA_TYPE</th>\n",
              "      <th>SYSTEM</th>\n",
              "      <th>VSP</th>\n",
              "      <th>OWNERSHIP</th>\n",
              "      <th>INTERSECTION_ANALYSIS</th>\n",
              "      <th>PLAN_DISTRICT</th>\n",
              "      <th>MPO_NAME</th>\n",
              "      <th>RTE_NM</th>\n",
              "      <th>RNS_MP</th>\n",
              "      <th>NODE</th>\n",
              "      <th>OFFSET</th>\n",
              "      <th>ANIMAL</th>\n",
              "      <th>SPEED_DIFF_MAX</th>\n",
              "    </tr>\n",
              "  </thead>\n",
              "  <tbody>\n",
              "    <tr>\n",
              "      <th>2</th>\n",
              "      <td>-77.220990</td>\n",
              "      <td>38.762770</td>\n",
              "      <td>3</td>\n",
              "      <td>141740135</td>\n",
              "      <td>2014</td>\n",
              "      <td>2014/03/31 17:00:00+00</td>\n",
              "      <td>1746</td>\n",
              "      <td>C. Nonvisible Injury</td>\n",
              "      <td>0</td>\n",
              "      <td>0</td>\n",
              "      <td>0</td>\n",
              "      <td>1</td>\n",
              "      <td>1</td>\n",
              "      <td>0</td>\n",
              "      <td>0</td>\n",
              "      <td>2</td>\n",
              "      <td>1. Rear End</td>\n",
              "      <td>1. No Adverse Condition (Clear/Cloudy)</td>\n",
              "      <td>2. Daylight</td>\n",
              "      <td>NOT_RD</td>\n",
              "      <td>1. Dry</td>\n",
              "      <td>10. Intersection Related - Within 150 Feet</td>\n",
              "      <td>1. Straight - Level</td>\n",
              "      <td>2. Blacktop, Asphalt, Bituminous</td>\n",
              "      <td>1. No Defects</td>\n",
              "      <td>2. Two-Way, Divided, Unprotected Median</td>\n",
              "      <td>2. Two Approaches</td>\n",
              "      <td>6. Traffic Lanes Marked</td>\n",
              "      <td>6. No Traffic Control Device Present</td>\n",
              "      <td>2. No</td>\n",
              "      <td>NaN</td>\n",
              "      <td>NaN</td>\n",
              "      <td>20. Motor Vehicle In Transport</td>\n",
              "      <td>1. On Roadway</td>\n",
              "      <td>No</td>\n",
              "      <td>Belted</td>\n",
              "      <td>No</td>\n",
              "      <td>Yes</td>\n",
              "      <td>No</td>\n",
              "      <td>No</td>\n",
              "      <td>No</td>\n",
              "      <td>No</td>\n",
              "      <td>No</td>\n",
              "      <td>No</td>\n",
              "      <td>No</td>\n",
              "      <td>No</td>\n",
              "      <td>3. No</td>\n",
              "      <td>No</td>\n",
              "      <td>No</td>\n",
              "      <td>No</td>\n",
              "      <td>No</td>\n",
              "      <td>9. Northern Virginia</td>\n",
              "      <td>29</td>\n",
              "      <td>029. Fairfax County</td>\n",
              "      <td>H. Urban Minor Arterial</td>\n",
              "      <td>4. One-way, part of a one-way system</td>\n",
              "      <td>Urban</td>\n",
              "      <td>SECONDARY</td>\n",
              "      <td>7</td>\n",
              "      <td>VDOT_SEC</td>\n",
              "      <td>VDOT Intersection</td>\n",
              "      <td>Northern Virginia</td>\n",
              "      <td>Northern Virginia Portion of The Metropolitan ...</td>\n",
              "      <td>R-VA029SC06945NB      RMP001.00A</td>\n",
              "      <td>0.03</td>\n",
              "      <td>757276.0</td>\n",
              "      <td>0.0</td>\n",
              "      <td>No</td>\n",
              "      <td>NaN</td>\n",
              "    </tr>\n",
              "    <tr>\n",
              "      <th>4</th>\n",
              "      <td>-77.306306</td>\n",
              "      <td>38.847087</td>\n",
              "      <td>5</td>\n",
              "      <td>141715186</td>\n",
              "      <td>2014</td>\n",
              "      <td>2014/06/19 17:00:00+00</td>\n",
              "      <td>806</td>\n",
              "      <td>B. Visible Injury</td>\n",
              "      <td>0</td>\n",
              "      <td>0</td>\n",
              "      <td>1</td>\n",
              "      <td>0</td>\n",
              "      <td>1</td>\n",
              "      <td>0</td>\n",
              "      <td>0</td>\n",
              "      <td>2</td>\n",
              "      <td>1. Rear End</td>\n",
              "      <td>1. No Adverse Condition (Clear/Cloudy)</td>\n",
              "      <td>2. Daylight</td>\n",
              "      <td>NOT_RD</td>\n",
              "      <td>1. Dry</td>\n",
              "      <td>8. Non-Intersection</td>\n",
              "      <td>1. Straight - Level</td>\n",
              "      <td>2. Blacktop, Asphalt, Bituminous</td>\n",
              "      <td>1. No Defects</td>\n",
              "      <td>1. Two-Way, Not Divided</td>\n",
              "      <td>1. Not at Intersection</td>\n",
              "      <td>6. Traffic Lanes Marked</td>\n",
              "      <td>1. Yes - Working</td>\n",
              "      <td>2. No</td>\n",
              "      <td>NaN</td>\n",
              "      <td>NaN</td>\n",
              "      <td>20. Motor Vehicle In Transport</td>\n",
              "      <td>1. On Roadway</td>\n",
              "      <td>No</td>\n",
              "      <td>Unbelted</td>\n",
              "      <td>No</td>\n",
              "      <td>No</td>\n",
              "      <td>No</td>\n",
              "      <td>No</td>\n",
              "      <td>No</td>\n",
              "      <td>No</td>\n",
              "      <td>No</td>\n",
              "      <td>No</td>\n",
              "      <td>No</td>\n",
              "      <td>No</td>\n",
              "      <td>3. No</td>\n",
              "      <td>No</td>\n",
              "      <td>Yes</td>\n",
              "      <td>Yes</td>\n",
              "      <td>No</td>\n",
              "      <td>9. Northern Virginia</td>\n",
              "      <td>151</td>\n",
              "      <td>151. City of Fairfax</td>\n",
              "      <td>E. Urban Other Principal Arterials; Connecting...</td>\n",
              "      <td>0. Two-way, non-divided</td>\n",
              "      <td>Urban</td>\n",
              "      <td>OTHER</td>\n",
              "      <td>7</td>\n",
              "      <td>URBAN_PRI</td>\n",
              "      <td>Urban Intersection</td>\n",
              "      <td>Northern Virginia</td>\n",
              "      <td>Northern Virginia Portion of The Metropolitan ...</td>\n",
              "      <td>R-VA   SR00123SB</td>\n",
              "      <td>15.01</td>\n",
              "      <td>278857.0</td>\n",
              "      <td>53.0</td>\n",
              "      <td>No</td>\n",
              "      <td>NaN</td>\n",
              "    </tr>\n",
              "    <tr>\n",
              "      <th>12</th>\n",
              "      <td>-77.670294</td>\n",
              "      <td>38.883672</td>\n",
              "      <td>13</td>\n",
              "      <td>141675203</td>\n",
              "      <td>2014</td>\n",
              "      <td>2014/06/15 17:00:00+00</td>\n",
              "      <td>1400</td>\n",
              "      <td>B. Visible Injury</td>\n",
              "      <td>0</td>\n",
              "      <td>0</td>\n",
              "      <td>1</td>\n",
              "      <td>0</td>\n",
              "      <td>1</td>\n",
              "      <td>0</td>\n",
              "      <td>0</td>\n",
              "      <td>2</td>\n",
              "      <td>2. Angle</td>\n",
              "      <td>1. No Adverse Condition (Clear/Cloudy)</td>\n",
              "      <td>2. Daylight</td>\n",
              "      <td>NOT_RD</td>\n",
              "      <td>1. Dry</td>\n",
              "      <td>9. Within Intersection</td>\n",
              "      <td>5. Hillcrest - Straight</td>\n",
              "      <td>2. Blacktop, Asphalt, Bituminous</td>\n",
              "      <td>1. No Defects</td>\n",
              "      <td>2. Two-Way, Divided, Unprotected Median</td>\n",
              "      <td>2. Two Approaches</td>\n",
              "      <td>4. Stop Sign</td>\n",
              "      <td>1. Yes - Working</td>\n",
              "      <td>2. No</td>\n",
              "      <td>NaN</td>\n",
              "      <td>NaN</td>\n",
              "      <td>20. Motor Vehicle In Transport</td>\n",
              "      <td>1. On Roadway</td>\n",
              "      <td>No</td>\n",
              "      <td>Belted</td>\n",
              "      <td>Yes</td>\n",
              "      <td>Yes</td>\n",
              "      <td>No</td>\n",
              "      <td>No</td>\n",
              "      <td>No</td>\n",
              "      <td>No</td>\n",
              "      <td>No</td>\n",
              "      <td>No</td>\n",
              "      <td>No</td>\n",
              "      <td>No</td>\n",
              "      <td>3. No</td>\n",
              "      <td>No</td>\n",
              "      <td>No</td>\n",
              "      <td>Yes</td>\n",
              "      <td>No</td>\n",
              "      <td>9. Northern Virginia</td>\n",
              "      <td>76</td>\n",
              "      <td>076. Prince William County</td>\n",
              "      <td>6. Rural Local</td>\n",
              "      <td>0. Two-way, non-divided</td>\n",
              "      <td>Rural</td>\n",
              "      <td>SECONDARY</td>\n",
              "      <td>7</td>\n",
              "      <td>VDOT_SEC</td>\n",
              "      <td>VDOT Intersection</td>\n",
              "      <td>Northern Virginia</td>\n",
              "      <td>Northern Virginia Portion of The Metropolitan ...</td>\n",
              "      <td>R-VA076SC00600SB</td>\n",
              "      <td>2.22</td>\n",
              "      <td>546004.0</td>\n",
              "      <td>95.0</td>\n",
              "      <td>No</td>\n",
              "      <td>NaN</td>\n",
              "    </tr>\n",
              "    <tr>\n",
              "      <th>19</th>\n",
              "      <td>-77.300515</td>\n",
              "      <td>38.850329</td>\n",
              "      <td>20</td>\n",
              "      <td>143525245</td>\n",
              "      <td>2014</td>\n",
              "      <td>2014/12/16 17:00:00+00</td>\n",
              "      <td>900</td>\n",
              "      <td>B. Visible Injury</td>\n",
              "      <td>0</td>\n",
              "      <td>0</td>\n",
              "      <td>1</td>\n",
              "      <td>1</td>\n",
              "      <td>2</td>\n",
              "      <td>0</td>\n",
              "      <td>0</td>\n",
              "      <td>2</td>\n",
              "      <td>4. Sideswipe - Same Direction</td>\n",
              "      <td>1. No Adverse Condition (Clear/Cloudy)</td>\n",
              "      <td>2. Daylight</td>\n",
              "      <td>NOT_RD</td>\n",
              "      <td>1. Dry</td>\n",
              "      <td>10. Intersection Related - Within 150 Feet</td>\n",
              "      <td>1. Straight - Level</td>\n",
              "      <td>2. Blacktop, Asphalt, Bituminous</td>\n",
              "      <td>1. No Defects</td>\n",
              "      <td>1. Two-Way, Not Divided</td>\n",
              "      <td>4. Four Approaches</td>\n",
              "      <td>4. Stop Sign</td>\n",
              "      <td>1. Yes - Working</td>\n",
              "      <td>2. No</td>\n",
              "      <td>NaN</td>\n",
              "      <td>NaN</td>\n",
              "      <td>20. Motor Vehicle In Transport</td>\n",
              "      <td>1. On Roadway</td>\n",
              "      <td>No</td>\n",
              "      <td>Belted</td>\n",
              "      <td>No</td>\n",
              "      <td>No</td>\n",
              "      <td>No</td>\n",
              "      <td>No</td>\n",
              "      <td>No</td>\n",
              "      <td>No</td>\n",
              "      <td>No</td>\n",
              "      <td>No</td>\n",
              "      <td>No</td>\n",
              "      <td>No</td>\n",
              "      <td>3. No</td>\n",
              "      <td>No</td>\n",
              "      <td>No</td>\n",
              "      <td>Yes</td>\n",
              "      <td>No</td>\n",
              "      <td>9. Northern Virginia</td>\n",
              "      <td>151</td>\n",
              "      <td>151. City of Fairfax</td>\n",
              "      <td>I. Urban Collector</td>\n",
              "      <td>0. Two-way, non-divided</td>\n",
              "      <td>Urban</td>\n",
              "      <td>OTHER</td>\n",
              "      <td>7</td>\n",
              "      <td>URBAN_SEC</td>\n",
              "      <td>Urban Intersection</td>\n",
              "      <td>Northern Virginia</td>\n",
              "      <td>Northern Virginia Portion of The Metropolitan ...</td>\n",
              "      <td>R-VA151UR00003WB</td>\n",
              "      <td>0.22</td>\n",
              "      <td>279681.0</td>\n",
              "      <td>359.0</td>\n",
              "      <td>No</td>\n",
              "      <td>NaN</td>\n",
              "    </tr>\n",
              "    <tr>\n",
              "      <th>20</th>\n",
              "      <td>-77.068308</td>\n",
              "      <td>38.855431</td>\n",
              "      <td>21</td>\n",
              "      <td>142005120</td>\n",
              "      <td>2014</td>\n",
              "      <td>2014/07/19 17:00:00+00</td>\n",
              "      <td>1156</td>\n",
              "      <td>PDO. Property Damage Only</td>\n",
              "      <td>0</td>\n",
              "      <td>0</td>\n",
              "      <td>0</td>\n",
              "      <td>0</td>\n",
              "      <td>0</td>\n",
              "      <td>0</td>\n",
              "      <td>0</td>\n",
              "      <td>3</td>\n",
              "      <td>1. Rear End</td>\n",
              "      <td>1. No Adverse Condition (Clear/Cloudy)</td>\n",
              "      <td>2. Daylight</td>\n",
              "      <td>NOT_RD</td>\n",
              "      <td>1. Dry</td>\n",
              "      <td>10. Intersection Related - Within 150 Feet</td>\n",
              "      <td>1. Straight - Level</td>\n",
              "      <td>2. Blacktop, Asphalt, Bituminous</td>\n",
              "      <td>1. No Defects</td>\n",
              "      <td>2. Two-Way, Divided, Unprotected Median</td>\n",
              "      <td>4. Four Approaches</td>\n",
              "      <td>8. Yield Sign</td>\n",
              "      <td>1. Yes - Working</td>\n",
              "      <td>2. No</td>\n",
              "      <td>NaN</td>\n",
              "      <td>NaN</td>\n",
              "      <td>20. Motor Vehicle In Transport</td>\n",
              "      <td>1. On Roadway</td>\n",
              "      <td>No</td>\n",
              "      <td>Belted</td>\n",
              "      <td>No</td>\n",
              "      <td>No</td>\n",
              "      <td>No</td>\n",
              "      <td>No</td>\n",
              "      <td>No</td>\n",
              "      <td>No</td>\n",
              "      <td>No</td>\n",
              "      <td>No</td>\n",
              "      <td>No</td>\n",
              "      <td>No</td>\n",
              "      <td>3. No</td>\n",
              "      <td>No</td>\n",
              "      <td>No</td>\n",
              "      <td>Yes</td>\n",
              "      <td>No</td>\n",
              "      <td>9. Northern Virginia</td>\n",
              "      <td>0</td>\n",
              "      <td>000. Arlington County</td>\n",
              "      <td>H. Urban Minor Arterial</td>\n",
              "      <td>0. Two-way, non-divided</td>\n",
              "      <td>Urban</td>\n",
              "      <td>OTHER</td>\n",
              "      <td>7</td>\n",
              "      <td>URBAN_SEC</td>\n",
              "      <td>Urban Intersection</td>\n",
              "      <td>Northern Virginia</td>\n",
              "      <td>Northern Virginia Portion of The Metropolitan ...</td>\n",
              "      <td>R-VA000SC06591NB</td>\n",
              "      <td>0.78</td>\n",
              "      <td>100773.0</td>\n",
              "      <td>829.0</td>\n",
              "      <td>No</td>\n",
              "      <td>NaN</td>\n",
              "    </tr>\n",
              "  </tbody>\n",
              "</table>\n",
              "</div>"
            ],
            "text/plain": [
              "            X          Y  OBJECTID  ...  OFFSET  ANIMAL SPEED_DIFF_MAX\n",
              "2  -77.220990  38.762770         3  ...     0.0      No            NaN\n",
              "4  -77.306306  38.847087         5  ...    53.0      No            NaN\n",
              "12 -77.670294  38.883672        13  ...    95.0      No            NaN\n",
              "19 -77.300515  38.850329        20  ...   359.0      No            NaN\n",
              "20 -77.068308  38.855431        21  ...   829.0      No            NaN\n",
              "\n",
              "[5 rows x 69 columns]"
            ]
          },
          "metadata": {},
          "execution_count": 68
        }
      ]
    },
    {
      "cell_type": "code",
      "metadata": {
        "colab": {
          "base_uri": "https://localhost:8080/"
        },
        "id": "bF-8AbpMeI17",
        "outputId": "8110bd0e-158e-4d43-efe9-ce8cbfdd1c9b"
      },
      "source": [
        "isinstance(data1[\"CRASH_DT\"],str)"
      ],
      "execution_count": 69,
      "outputs": [
        {
          "output_type": "execute_result",
          "data": {
            "text/plain": [
              "False"
            ]
          },
          "metadata": {},
          "execution_count": 69
        }
      ]
    },
    {
      "cell_type": "code",
      "metadata": {
        "id": "jm0mcbYc0Smf"
      },
      "source": [
        "def change_date(date):\n",
        "    month = date[5: 7]\n",
        "    year = date[0: 4]\n",
        "    full_date =  year + '-' + month\n",
        "    return full_date\n"
      ],
      "execution_count": 70,
      "outputs": []
    },
    {
      "cell_type": "code",
      "metadata": {
        "id": "5Y7XtRLjeI18"
      },
      "source": [
        "def to_time_it(x):\n",
        "    return pd.to_datetime(x, format='%Y-%m', errors='ignore')"
      ],
      "execution_count": 71,
      "outputs": []
    },
    {
      "cell_type": "code",
      "metadata": {
        "id": "6yjeDGF60Sro"
      },
      "source": [
        "#change_date(data1.loc[0,\"CRASH_DT\"])  "
      ],
      "execution_count": 72,
      "outputs": []
    },
    {
      "cell_type": "code",
      "metadata": {
        "colab": {
          "base_uri": "https://localhost:8080/",
          "height": 1000
        },
        "id": "elCBJ5ZaeI19",
        "outputId": "1c124a0f-7a49-4a6c-89e2-adb762906400"
      },
      "source": [
        "data1['CRASH_DT'] = data1['CRASH_DT'].map(lambda x: change_date(x))\n",
        "data1['CRASH_DT'] = data1['CRASH_DT'].map(lambda x: to_time_it(x))\n",
        "\n",
        "data2['CRASH_DT'] = data2['CRASH_DT'].map(lambda x: change_date(x))\n",
        "data2['CRASH_DT'] = data2['CRASH_DT'].map(lambda x: to_time_it(x))\n",
        "\n",
        "data3['CRASH_DT'] = data3['CRASH_DT'].map(lambda x: change_date(x))\n",
        "data3['CRASH_DT'] = data3['CRASH_DT'].map(lambda x: to_time_it(x))\n",
        "\n",
        "data4['CRASH_DT'] = data4['CRASH_DT'].map(lambda x: change_date(x))\n",
        "data4['CRASH_DT'] = data4['CRASH_DT'].map(lambda x: to_time_it(x))\n",
        "\n",
        "data5['CRASH_DT'] = data5['CRASH_DT'].map(lambda x: change_date(x))\n",
        "data5['CRASH_DT'] = data5['CRASH_DT'].map(lambda x: to_time_it(x))\n",
        "\n",
        "data6['CRASH_DT'] = data6['CRASH_DT'].map(lambda x: change_date(x))\n",
        "data6['CRASH_DT'] = data6['CRASH_DT'].map(lambda x: to_time_it(x))\n",
        "\n",
        "data7['CRASH_DT'] = data7['CRASH_DT'].map(lambda x: change_date(x))\n",
        "data7['CRASH_DT'] = data7['CRASH_DT'].map(lambda x: to_time_it(x))\n",
        "\n",
        "data8['CRASH_DT'] = data8['CRASH_DT'].map(lambda x: change_date(x))\n",
        "data8['CRASH_DT'] = data8['CRASH_DT'].map(lambda x: to_time_it(x))\n",
        "\n",
        "data9['CRASH_DT'] = data9['CRASH_DT'].map(lambda x: change_date(x))\n",
        "data9['CRASH_DT'] = data9['CRASH_DT'].map(lambda x: to_time_it(x))\n",
        "\n",
        "data1.head()"
      ],
      "execution_count": 73,
      "outputs": [
        {
          "output_type": "stream",
          "name": "stderr",
          "text": [
            "/usr/local/lib/python3.7/dist-packages/ipykernel_launcher.py:1: SettingWithCopyWarning: \n",
            "A value is trying to be set on a copy of a slice from a DataFrame.\n",
            "Try using .loc[row_indexer,col_indexer] = value instead\n",
            "\n",
            "See the caveats in the documentation: https://pandas.pydata.org/pandas-docs/stable/user_guide/indexing.html#returning-a-view-versus-a-copy\n",
            "  \"\"\"Entry point for launching an IPython kernel.\n",
            "/usr/local/lib/python3.7/dist-packages/ipykernel_launcher.py:2: SettingWithCopyWarning: \n",
            "A value is trying to be set on a copy of a slice from a DataFrame.\n",
            "Try using .loc[row_indexer,col_indexer] = value instead\n",
            "\n",
            "See the caveats in the documentation: https://pandas.pydata.org/pandas-docs/stable/user_guide/indexing.html#returning-a-view-versus-a-copy\n",
            "  \n",
            "/usr/local/lib/python3.7/dist-packages/ipykernel_launcher.py:4: SettingWithCopyWarning: \n",
            "A value is trying to be set on a copy of a slice from a DataFrame.\n",
            "Try using .loc[row_indexer,col_indexer] = value instead\n",
            "\n",
            "See the caveats in the documentation: https://pandas.pydata.org/pandas-docs/stable/user_guide/indexing.html#returning-a-view-versus-a-copy\n",
            "  after removing the cwd from sys.path.\n",
            "/usr/local/lib/python3.7/dist-packages/ipykernel_launcher.py:5: SettingWithCopyWarning: \n",
            "A value is trying to be set on a copy of a slice from a DataFrame.\n",
            "Try using .loc[row_indexer,col_indexer] = value instead\n",
            "\n",
            "See the caveats in the documentation: https://pandas.pydata.org/pandas-docs/stable/user_guide/indexing.html#returning-a-view-versus-a-copy\n",
            "  \"\"\"\n",
            "/usr/local/lib/python3.7/dist-packages/ipykernel_launcher.py:7: SettingWithCopyWarning: \n",
            "A value is trying to be set on a copy of a slice from a DataFrame.\n",
            "Try using .loc[row_indexer,col_indexer] = value instead\n",
            "\n",
            "See the caveats in the documentation: https://pandas.pydata.org/pandas-docs/stable/user_guide/indexing.html#returning-a-view-versus-a-copy\n",
            "  import sys\n",
            "/usr/local/lib/python3.7/dist-packages/ipykernel_launcher.py:8: SettingWithCopyWarning: \n",
            "A value is trying to be set on a copy of a slice from a DataFrame.\n",
            "Try using .loc[row_indexer,col_indexer] = value instead\n",
            "\n",
            "See the caveats in the documentation: https://pandas.pydata.org/pandas-docs/stable/user_guide/indexing.html#returning-a-view-versus-a-copy\n",
            "  \n",
            "/usr/local/lib/python3.7/dist-packages/ipykernel_launcher.py:10: SettingWithCopyWarning: \n",
            "A value is trying to be set on a copy of a slice from a DataFrame.\n",
            "Try using .loc[row_indexer,col_indexer] = value instead\n",
            "\n",
            "See the caveats in the documentation: https://pandas.pydata.org/pandas-docs/stable/user_guide/indexing.html#returning-a-view-versus-a-copy\n",
            "  # Remove the CWD from sys.path while we load stuff.\n",
            "/usr/local/lib/python3.7/dist-packages/ipykernel_launcher.py:11: SettingWithCopyWarning: \n",
            "A value is trying to be set on a copy of a slice from a DataFrame.\n",
            "Try using .loc[row_indexer,col_indexer] = value instead\n",
            "\n",
            "See the caveats in the documentation: https://pandas.pydata.org/pandas-docs/stable/user_guide/indexing.html#returning-a-view-versus-a-copy\n",
            "  # This is added back by InteractiveShellApp.init_path()\n",
            "/usr/local/lib/python3.7/dist-packages/ipykernel_launcher.py:13: SettingWithCopyWarning: \n",
            "A value is trying to be set on a copy of a slice from a DataFrame.\n",
            "Try using .loc[row_indexer,col_indexer] = value instead\n",
            "\n",
            "See the caveats in the documentation: https://pandas.pydata.org/pandas-docs/stable/user_guide/indexing.html#returning-a-view-versus-a-copy\n",
            "  del sys.path[0]\n",
            "/usr/local/lib/python3.7/dist-packages/ipykernel_launcher.py:14: SettingWithCopyWarning: \n",
            "A value is trying to be set on a copy of a slice from a DataFrame.\n",
            "Try using .loc[row_indexer,col_indexer] = value instead\n",
            "\n",
            "See the caveats in the documentation: https://pandas.pydata.org/pandas-docs/stable/user_guide/indexing.html#returning-a-view-versus-a-copy\n",
            "  \n",
            "/usr/local/lib/python3.7/dist-packages/ipykernel_launcher.py:16: SettingWithCopyWarning: \n",
            "A value is trying to be set on a copy of a slice from a DataFrame.\n",
            "Try using .loc[row_indexer,col_indexer] = value instead\n",
            "\n",
            "See the caveats in the documentation: https://pandas.pydata.org/pandas-docs/stable/user_guide/indexing.html#returning-a-view-versus-a-copy\n",
            "  app.launch_new_instance()\n",
            "/usr/local/lib/python3.7/dist-packages/ipykernel_launcher.py:17: SettingWithCopyWarning: \n",
            "A value is trying to be set on a copy of a slice from a DataFrame.\n",
            "Try using .loc[row_indexer,col_indexer] = value instead\n",
            "\n",
            "See the caveats in the documentation: https://pandas.pydata.org/pandas-docs/stable/user_guide/indexing.html#returning-a-view-versus-a-copy\n",
            "/usr/local/lib/python3.7/dist-packages/ipykernel_launcher.py:19: SettingWithCopyWarning: \n",
            "A value is trying to be set on a copy of a slice from a DataFrame.\n",
            "Try using .loc[row_indexer,col_indexer] = value instead\n",
            "\n",
            "See the caveats in the documentation: https://pandas.pydata.org/pandas-docs/stable/user_guide/indexing.html#returning-a-view-versus-a-copy\n",
            "/usr/local/lib/python3.7/dist-packages/ipykernel_launcher.py:20: SettingWithCopyWarning: \n",
            "A value is trying to be set on a copy of a slice from a DataFrame.\n",
            "Try using .loc[row_indexer,col_indexer] = value instead\n",
            "\n",
            "See the caveats in the documentation: https://pandas.pydata.org/pandas-docs/stable/user_guide/indexing.html#returning-a-view-versus-a-copy\n",
            "/usr/local/lib/python3.7/dist-packages/ipykernel_launcher.py:22: SettingWithCopyWarning: \n",
            "A value is trying to be set on a copy of a slice from a DataFrame.\n",
            "Try using .loc[row_indexer,col_indexer] = value instead\n",
            "\n",
            "See the caveats in the documentation: https://pandas.pydata.org/pandas-docs/stable/user_guide/indexing.html#returning-a-view-versus-a-copy\n",
            "/usr/local/lib/python3.7/dist-packages/ipykernel_launcher.py:23: SettingWithCopyWarning: \n",
            "A value is trying to be set on a copy of a slice from a DataFrame.\n",
            "Try using .loc[row_indexer,col_indexer] = value instead\n",
            "\n",
            "See the caveats in the documentation: https://pandas.pydata.org/pandas-docs/stable/user_guide/indexing.html#returning-a-view-versus-a-copy\n",
            "/usr/local/lib/python3.7/dist-packages/ipykernel_launcher.py:25: SettingWithCopyWarning: \n",
            "A value is trying to be set on a copy of a slice from a DataFrame.\n",
            "Try using .loc[row_indexer,col_indexer] = value instead\n",
            "\n",
            "See the caveats in the documentation: https://pandas.pydata.org/pandas-docs/stable/user_guide/indexing.html#returning-a-view-versus-a-copy\n",
            "/usr/local/lib/python3.7/dist-packages/ipykernel_launcher.py:26: SettingWithCopyWarning: \n",
            "A value is trying to be set on a copy of a slice from a DataFrame.\n",
            "Try using .loc[row_indexer,col_indexer] = value instead\n",
            "\n",
            "See the caveats in the documentation: https://pandas.pydata.org/pandas-docs/stable/user_guide/indexing.html#returning-a-view-versus-a-copy\n"
          ]
        },
        {
          "output_type": "execute_result",
          "data": {
            "text/html": [
              "<div>\n",
              "<style scoped>\n",
              "    .dataframe tbody tr th:only-of-type {\n",
              "        vertical-align: middle;\n",
              "    }\n",
              "\n",
              "    .dataframe tbody tr th {\n",
              "        vertical-align: top;\n",
              "    }\n",
              "\n",
              "    .dataframe thead th {\n",
              "        text-align: right;\n",
              "    }\n",
              "</style>\n",
              "<table border=\"1\" class=\"dataframe\">\n",
              "  <thead>\n",
              "    <tr style=\"text-align: right;\">\n",
              "      <th></th>\n",
              "      <th>X</th>\n",
              "      <th>Y</th>\n",
              "      <th>OBJECTID</th>\n",
              "      <th>DOCUMENT_NBR</th>\n",
              "      <th>CRASH_YEAR</th>\n",
              "      <th>CRASH_DT</th>\n",
              "      <th>CRASH_MILITARY_TM</th>\n",
              "      <th>CRASH_SEVERITY</th>\n",
              "      <th>K_PEOPLE</th>\n",
              "      <th>A_PEOPLE</th>\n",
              "      <th>B_PEOPLE</th>\n",
              "      <th>C_PEOPLE</th>\n",
              "      <th>PERSONS_INJURED</th>\n",
              "      <th>PEDESTRIANS_KILLED</th>\n",
              "      <th>PEDESTRIANS_INJURED</th>\n",
              "      <th>VEH_COUNT</th>\n",
              "      <th>COLLISION_TYPE</th>\n",
              "      <th>WEATHER_CONDITION</th>\n",
              "      <th>LIGHT_CONDITION</th>\n",
              "      <th>RD_TYPE</th>\n",
              "      <th>ROADWAY_SURFACE_COND</th>\n",
              "      <th>RELATION_TO_ROADWAY</th>\n",
              "      <th>ROADWAY_ALIGNMENT</th>\n",
              "      <th>ROADWAY_SURFACE_TYPE</th>\n",
              "      <th>ROADWAY_DEFECT</th>\n",
              "      <th>ROADWAY_DESCRIPTION</th>\n",
              "      <th>INTERSECTION_TYPE</th>\n",
              "      <th>TRAFFIC_CONTROL_TYPE</th>\n",
              "      <th>TRFC_CTRL_STATUS_TYPE</th>\n",
              "      <th>WORK_ZONE_RELATED</th>\n",
              "      <th>WORK_ZONE_LOCATION</th>\n",
              "      <th>WORK_ZONE_TYPE</th>\n",
              "      <th>FIRST_HARMFUL_EVENT</th>\n",
              "      <th>FIRST_HARMFUL_EVENT_LOC</th>\n",
              "      <th>ALCOHOL_NOTALCOHOL</th>\n",
              "      <th>BELTED_UNBELTED</th>\n",
              "      <th>BIKE_NONBIKE</th>\n",
              "      <th>DISTRACTED_NOTDISTRACTED</th>\n",
              "      <th>DROWSY_NOTDROWSY</th>\n",
              "      <th>DRUG_NODRUG</th>\n",
              "      <th>GR_NOGR</th>\n",
              "      <th>HITRUN_NOT_HITRUN</th>\n",
              "      <th>LGTRUCK_NONLGTRUCK</th>\n",
              "      <th>MOTOR_NONMOTOR</th>\n",
              "      <th>PED_NONPED</th>\n",
              "      <th>SPEED_NOTSPEED</th>\n",
              "      <th>SCHOOL_ZONE</th>\n",
              "      <th>SENIOR_NOTSENIOR</th>\n",
              "      <th>YOUNG_NOTYOUNG</th>\n",
              "      <th>MAINLINE_YN</th>\n",
              "      <th>NIGHT</th>\n",
              "      <th>VDOT_DISTRICT</th>\n",
              "      <th>JURIS_CODE</th>\n",
              "      <th>PHYSICAL_JURIS</th>\n",
              "      <th>FUN</th>\n",
              "      <th>FAC</th>\n",
              "      <th>AREA_TYPE</th>\n",
              "      <th>SYSTEM</th>\n",
              "      <th>VSP</th>\n",
              "      <th>OWNERSHIP</th>\n",
              "      <th>INTERSECTION_ANALYSIS</th>\n",
              "      <th>PLAN_DISTRICT</th>\n",
              "      <th>MPO_NAME</th>\n",
              "      <th>RTE_NM</th>\n",
              "      <th>RNS_MP</th>\n",
              "      <th>NODE</th>\n",
              "      <th>OFFSET</th>\n",
              "      <th>ANIMAL</th>\n",
              "      <th>SPEED_DIFF_MAX</th>\n",
              "    </tr>\n",
              "  </thead>\n",
              "  <tbody>\n",
              "    <tr>\n",
              "      <th>2</th>\n",
              "      <td>-77.220990</td>\n",
              "      <td>38.762770</td>\n",
              "      <td>3</td>\n",
              "      <td>141740135</td>\n",
              "      <td>2014</td>\n",
              "      <td>2014-03-01</td>\n",
              "      <td>1746</td>\n",
              "      <td>C. Nonvisible Injury</td>\n",
              "      <td>0</td>\n",
              "      <td>0</td>\n",
              "      <td>0</td>\n",
              "      <td>1</td>\n",
              "      <td>1</td>\n",
              "      <td>0</td>\n",
              "      <td>0</td>\n",
              "      <td>2</td>\n",
              "      <td>1. Rear End</td>\n",
              "      <td>1. No Adverse Condition (Clear/Cloudy)</td>\n",
              "      <td>2. Daylight</td>\n",
              "      <td>NOT_RD</td>\n",
              "      <td>1. Dry</td>\n",
              "      <td>10. Intersection Related - Within 150 Feet</td>\n",
              "      <td>1. Straight - Level</td>\n",
              "      <td>2. Blacktop, Asphalt, Bituminous</td>\n",
              "      <td>1. No Defects</td>\n",
              "      <td>2. Two-Way, Divided, Unprotected Median</td>\n",
              "      <td>2. Two Approaches</td>\n",
              "      <td>6. Traffic Lanes Marked</td>\n",
              "      <td>6. No Traffic Control Device Present</td>\n",
              "      <td>2. No</td>\n",
              "      <td>NaN</td>\n",
              "      <td>NaN</td>\n",
              "      <td>20. Motor Vehicle In Transport</td>\n",
              "      <td>1. On Roadway</td>\n",
              "      <td>No</td>\n",
              "      <td>Belted</td>\n",
              "      <td>No</td>\n",
              "      <td>Yes</td>\n",
              "      <td>No</td>\n",
              "      <td>No</td>\n",
              "      <td>No</td>\n",
              "      <td>No</td>\n",
              "      <td>No</td>\n",
              "      <td>No</td>\n",
              "      <td>No</td>\n",
              "      <td>No</td>\n",
              "      <td>3. No</td>\n",
              "      <td>No</td>\n",
              "      <td>No</td>\n",
              "      <td>No</td>\n",
              "      <td>No</td>\n",
              "      <td>9. Northern Virginia</td>\n",
              "      <td>29</td>\n",
              "      <td>029. Fairfax County</td>\n",
              "      <td>H. Urban Minor Arterial</td>\n",
              "      <td>4. One-way, part of a one-way system</td>\n",
              "      <td>Urban</td>\n",
              "      <td>SECONDARY</td>\n",
              "      <td>7</td>\n",
              "      <td>VDOT_SEC</td>\n",
              "      <td>VDOT Intersection</td>\n",
              "      <td>Northern Virginia</td>\n",
              "      <td>Northern Virginia Portion of The Metropolitan ...</td>\n",
              "      <td>R-VA029SC06945NB      RMP001.00A</td>\n",
              "      <td>0.03</td>\n",
              "      <td>757276.0</td>\n",
              "      <td>0.0</td>\n",
              "      <td>No</td>\n",
              "      <td>NaN</td>\n",
              "    </tr>\n",
              "    <tr>\n",
              "      <th>4</th>\n",
              "      <td>-77.306306</td>\n",
              "      <td>38.847087</td>\n",
              "      <td>5</td>\n",
              "      <td>141715186</td>\n",
              "      <td>2014</td>\n",
              "      <td>2014-06-01</td>\n",
              "      <td>806</td>\n",
              "      <td>B. Visible Injury</td>\n",
              "      <td>0</td>\n",
              "      <td>0</td>\n",
              "      <td>1</td>\n",
              "      <td>0</td>\n",
              "      <td>1</td>\n",
              "      <td>0</td>\n",
              "      <td>0</td>\n",
              "      <td>2</td>\n",
              "      <td>1. Rear End</td>\n",
              "      <td>1. No Adverse Condition (Clear/Cloudy)</td>\n",
              "      <td>2. Daylight</td>\n",
              "      <td>NOT_RD</td>\n",
              "      <td>1. Dry</td>\n",
              "      <td>8. Non-Intersection</td>\n",
              "      <td>1. Straight - Level</td>\n",
              "      <td>2. Blacktop, Asphalt, Bituminous</td>\n",
              "      <td>1. No Defects</td>\n",
              "      <td>1. Two-Way, Not Divided</td>\n",
              "      <td>1. Not at Intersection</td>\n",
              "      <td>6. Traffic Lanes Marked</td>\n",
              "      <td>1. Yes - Working</td>\n",
              "      <td>2. No</td>\n",
              "      <td>NaN</td>\n",
              "      <td>NaN</td>\n",
              "      <td>20. Motor Vehicle In Transport</td>\n",
              "      <td>1. On Roadway</td>\n",
              "      <td>No</td>\n",
              "      <td>Unbelted</td>\n",
              "      <td>No</td>\n",
              "      <td>No</td>\n",
              "      <td>No</td>\n",
              "      <td>No</td>\n",
              "      <td>No</td>\n",
              "      <td>No</td>\n",
              "      <td>No</td>\n",
              "      <td>No</td>\n",
              "      <td>No</td>\n",
              "      <td>No</td>\n",
              "      <td>3. No</td>\n",
              "      <td>No</td>\n",
              "      <td>Yes</td>\n",
              "      <td>Yes</td>\n",
              "      <td>No</td>\n",
              "      <td>9. Northern Virginia</td>\n",
              "      <td>151</td>\n",
              "      <td>151. City of Fairfax</td>\n",
              "      <td>E. Urban Other Principal Arterials; Connecting...</td>\n",
              "      <td>0. Two-way, non-divided</td>\n",
              "      <td>Urban</td>\n",
              "      <td>OTHER</td>\n",
              "      <td>7</td>\n",
              "      <td>URBAN_PRI</td>\n",
              "      <td>Urban Intersection</td>\n",
              "      <td>Northern Virginia</td>\n",
              "      <td>Northern Virginia Portion of The Metropolitan ...</td>\n",
              "      <td>R-VA   SR00123SB</td>\n",
              "      <td>15.01</td>\n",
              "      <td>278857.0</td>\n",
              "      <td>53.0</td>\n",
              "      <td>No</td>\n",
              "      <td>NaN</td>\n",
              "    </tr>\n",
              "    <tr>\n",
              "      <th>12</th>\n",
              "      <td>-77.670294</td>\n",
              "      <td>38.883672</td>\n",
              "      <td>13</td>\n",
              "      <td>141675203</td>\n",
              "      <td>2014</td>\n",
              "      <td>2014-06-01</td>\n",
              "      <td>1400</td>\n",
              "      <td>B. Visible Injury</td>\n",
              "      <td>0</td>\n",
              "      <td>0</td>\n",
              "      <td>1</td>\n",
              "      <td>0</td>\n",
              "      <td>1</td>\n",
              "      <td>0</td>\n",
              "      <td>0</td>\n",
              "      <td>2</td>\n",
              "      <td>2. Angle</td>\n",
              "      <td>1. No Adverse Condition (Clear/Cloudy)</td>\n",
              "      <td>2. Daylight</td>\n",
              "      <td>NOT_RD</td>\n",
              "      <td>1. Dry</td>\n",
              "      <td>9. Within Intersection</td>\n",
              "      <td>5. Hillcrest - Straight</td>\n",
              "      <td>2. Blacktop, Asphalt, Bituminous</td>\n",
              "      <td>1. No Defects</td>\n",
              "      <td>2. Two-Way, Divided, Unprotected Median</td>\n",
              "      <td>2. Two Approaches</td>\n",
              "      <td>4. Stop Sign</td>\n",
              "      <td>1. Yes - Working</td>\n",
              "      <td>2. No</td>\n",
              "      <td>NaN</td>\n",
              "      <td>NaN</td>\n",
              "      <td>20. Motor Vehicle In Transport</td>\n",
              "      <td>1. On Roadway</td>\n",
              "      <td>No</td>\n",
              "      <td>Belted</td>\n",
              "      <td>Yes</td>\n",
              "      <td>Yes</td>\n",
              "      <td>No</td>\n",
              "      <td>No</td>\n",
              "      <td>No</td>\n",
              "      <td>No</td>\n",
              "      <td>No</td>\n",
              "      <td>No</td>\n",
              "      <td>No</td>\n",
              "      <td>No</td>\n",
              "      <td>3. No</td>\n",
              "      <td>No</td>\n",
              "      <td>No</td>\n",
              "      <td>Yes</td>\n",
              "      <td>No</td>\n",
              "      <td>9. Northern Virginia</td>\n",
              "      <td>76</td>\n",
              "      <td>076. Prince William County</td>\n",
              "      <td>6. Rural Local</td>\n",
              "      <td>0. Two-way, non-divided</td>\n",
              "      <td>Rural</td>\n",
              "      <td>SECONDARY</td>\n",
              "      <td>7</td>\n",
              "      <td>VDOT_SEC</td>\n",
              "      <td>VDOT Intersection</td>\n",
              "      <td>Northern Virginia</td>\n",
              "      <td>Northern Virginia Portion of The Metropolitan ...</td>\n",
              "      <td>R-VA076SC00600SB</td>\n",
              "      <td>2.22</td>\n",
              "      <td>546004.0</td>\n",
              "      <td>95.0</td>\n",
              "      <td>No</td>\n",
              "      <td>NaN</td>\n",
              "    </tr>\n",
              "    <tr>\n",
              "      <th>19</th>\n",
              "      <td>-77.300515</td>\n",
              "      <td>38.850329</td>\n",
              "      <td>20</td>\n",
              "      <td>143525245</td>\n",
              "      <td>2014</td>\n",
              "      <td>2014-12-01</td>\n",
              "      <td>900</td>\n",
              "      <td>B. Visible Injury</td>\n",
              "      <td>0</td>\n",
              "      <td>0</td>\n",
              "      <td>1</td>\n",
              "      <td>1</td>\n",
              "      <td>2</td>\n",
              "      <td>0</td>\n",
              "      <td>0</td>\n",
              "      <td>2</td>\n",
              "      <td>4. Sideswipe - Same Direction</td>\n",
              "      <td>1. No Adverse Condition (Clear/Cloudy)</td>\n",
              "      <td>2. Daylight</td>\n",
              "      <td>NOT_RD</td>\n",
              "      <td>1. Dry</td>\n",
              "      <td>10. Intersection Related - Within 150 Feet</td>\n",
              "      <td>1. Straight - Level</td>\n",
              "      <td>2. Blacktop, Asphalt, Bituminous</td>\n",
              "      <td>1. No Defects</td>\n",
              "      <td>1. Two-Way, Not Divided</td>\n",
              "      <td>4. Four Approaches</td>\n",
              "      <td>4. Stop Sign</td>\n",
              "      <td>1. Yes - Working</td>\n",
              "      <td>2. No</td>\n",
              "      <td>NaN</td>\n",
              "      <td>NaN</td>\n",
              "      <td>20. Motor Vehicle In Transport</td>\n",
              "      <td>1. On Roadway</td>\n",
              "      <td>No</td>\n",
              "      <td>Belted</td>\n",
              "      <td>No</td>\n",
              "      <td>No</td>\n",
              "      <td>No</td>\n",
              "      <td>No</td>\n",
              "      <td>No</td>\n",
              "      <td>No</td>\n",
              "      <td>No</td>\n",
              "      <td>No</td>\n",
              "      <td>No</td>\n",
              "      <td>No</td>\n",
              "      <td>3. No</td>\n",
              "      <td>No</td>\n",
              "      <td>No</td>\n",
              "      <td>Yes</td>\n",
              "      <td>No</td>\n",
              "      <td>9. Northern Virginia</td>\n",
              "      <td>151</td>\n",
              "      <td>151. City of Fairfax</td>\n",
              "      <td>I. Urban Collector</td>\n",
              "      <td>0. Two-way, non-divided</td>\n",
              "      <td>Urban</td>\n",
              "      <td>OTHER</td>\n",
              "      <td>7</td>\n",
              "      <td>URBAN_SEC</td>\n",
              "      <td>Urban Intersection</td>\n",
              "      <td>Northern Virginia</td>\n",
              "      <td>Northern Virginia Portion of The Metropolitan ...</td>\n",
              "      <td>R-VA151UR00003WB</td>\n",
              "      <td>0.22</td>\n",
              "      <td>279681.0</td>\n",
              "      <td>359.0</td>\n",
              "      <td>No</td>\n",
              "      <td>NaN</td>\n",
              "    </tr>\n",
              "    <tr>\n",
              "      <th>20</th>\n",
              "      <td>-77.068308</td>\n",
              "      <td>38.855431</td>\n",
              "      <td>21</td>\n",
              "      <td>142005120</td>\n",
              "      <td>2014</td>\n",
              "      <td>2014-07-01</td>\n",
              "      <td>1156</td>\n",
              "      <td>PDO. Property Damage Only</td>\n",
              "      <td>0</td>\n",
              "      <td>0</td>\n",
              "      <td>0</td>\n",
              "      <td>0</td>\n",
              "      <td>0</td>\n",
              "      <td>0</td>\n",
              "      <td>0</td>\n",
              "      <td>3</td>\n",
              "      <td>1. Rear End</td>\n",
              "      <td>1. No Adverse Condition (Clear/Cloudy)</td>\n",
              "      <td>2. Daylight</td>\n",
              "      <td>NOT_RD</td>\n",
              "      <td>1. Dry</td>\n",
              "      <td>10. Intersection Related - Within 150 Feet</td>\n",
              "      <td>1. Straight - Level</td>\n",
              "      <td>2. Blacktop, Asphalt, Bituminous</td>\n",
              "      <td>1. No Defects</td>\n",
              "      <td>2. Two-Way, Divided, Unprotected Median</td>\n",
              "      <td>4. Four Approaches</td>\n",
              "      <td>8. Yield Sign</td>\n",
              "      <td>1. Yes - Working</td>\n",
              "      <td>2. No</td>\n",
              "      <td>NaN</td>\n",
              "      <td>NaN</td>\n",
              "      <td>20. Motor Vehicle In Transport</td>\n",
              "      <td>1. On Roadway</td>\n",
              "      <td>No</td>\n",
              "      <td>Belted</td>\n",
              "      <td>No</td>\n",
              "      <td>No</td>\n",
              "      <td>No</td>\n",
              "      <td>No</td>\n",
              "      <td>No</td>\n",
              "      <td>No</td>\n",
              "      <td>No</td>\n",
              "      <td>No</td>\n",
              "      <td>No</td>\n",
              "      <td>No</td>\n",
              "      <td>3. No</td>\n",
              "      <td>No</td>\n",
              "      <td>No</td>\n",
              "      <td>Yes</td>\n",
              "      <td>No</td>\n",
              "      <td>9. Northern Virginia</td>\n",
              "      <td>0</td>\n",
              "      <td>000. Arlington County</td>\n",
              "      <td>H. Urban Minor Arterial</td>\n",
              "      <td>0. Two-way, non-divided</td>\n",
              "      <td>Urban</td>\n",
              "      <td>OTHER</td>\n",
              "      <td>7</td>\n",
              "      <td>URBAN_SEC</td>\n",
              "      <td>Urban Intersection</td>\n",
              "      <td>Northern Virginia</td>\n",
              "      <td>Northern Virginia Portion of The Metropolitan ...</td>\n",
              "      <td>R-VA000SC06591NB</td>\n",
              "      <td>0.78</td>\n",
              "      <td>100773.0</td>\n",
              "      <td>829.0</td>\n",
              "      <td>No</td>\n",
              "      <td>NaN</td>\n",
              "    </tr>\n",
              "  </tbody>\n",
              "</table>\n",
              "</div>"
            ],
            "text/plain": [
              "            X          Y  OBJECTID  ...  OFFSET  ANIMAL SPEED_DIFF_MAX\n",
              "2  -77.220990  38.762770         3  ...     0.0      No            NaN\n",
              "4  -77.306306  38.847087         5  ...    53.0      No            NaN\n",
              "12 -77.670294  38.883672        13  ...    95.0      No            NaN\n",
              "19 -77.300515  38.850329        20  ...   359.0      No            NaN\n",
              "20 -77.068308  38.855431        21  ...   829.0      No            NaN\n",
              "\n",
              "[5 rows x 69 columns]"
            ]
          },
          "metadata": {},
          "execution_count": 73
        }
      ]
    },
    {
      "cell_type": "code",
      "metadata": {
        "colab": {
          "base_uri": "https://localhost:8080/"
        },
        "id": "E4QYqJWHeI1-",
        "outputId": "73408682-0d80-4f8c-9ad6-1997feb2c99c"
      },
      "source": [
        "data1['WORK_ZONE_LOCATION'].value_counts()"
      ],
      "execution_count": 74,
      "outputs": [
        {
          "output_type": "execute_result",
          "data": {
            "text/plain": [
              "3. Activity Area           5216\n",
              "1. Advance Warning Area    1086\n",
              "2. Transition Area          772\n",
              "4. Termination Area         316\n",
              "Name: WORK_ZONE_LOCATION, dtype: int64"
            ]
          },
          "metadata": {},
          "execution_count": 74
        }
      ]
    },
    {
      "cell_type": "code",
      "metadata": {
        "id": "H3U5UTm-eI1-"
      },
      "source": [
        "#data1.set_index('RTE_NM', inplace=True)"
      ],
      "execution_count": 75,
      "outputs": []
    },
    {
      "cell_type": "code",
      "metadata": {
        "id": "-ljGN6FXeI1_"
      },
      "source": [
        "#data1.head()"
      ],
      "execution_count": 76,
      "outputs": []
    },
    {
      "cell_type": "code",
      "metadata": {
        "id": "HvhVHsGCeI1_"
      },
      "source": [
        "#, Suspected Serious Injury (A), \n",
        "#Suspected Minor Injury (B), Possible Injury (C), and No Apparent Injury (O)"
      ],
      "execution_count": 77,
      "outputs": []
    },
    {
      "cell_type": "code",
      "metadata": {
        "id": "OwM-8M8geI2A"
      },
      "source": [
        "data1 = data1[['CRASH_DT','K_PEOPLE', 'PERSONS_INJURED', 'PEDESTRIANS_KILLED',\n",
        "       'PEDESTRIANS_INJURED']]\n",
        "data2 = data2[['CRASH_DT','K_PEOPLE', 'PERSONS_INJURED', 'PEDESTRIANS_KILLED',\n",
        "       'PEDESTRIANS_INJURED']]\n",
        "data3 = data3[['CRASH_DT','K_PEOPLE', 'PERSONS_INJURED', 'PEDESTRIANS_KILLED',\n",
        "       'PEDESTRIANS_INJURED']]\n",
        "data4 = data4[['CRASH_DT','K_PEOPLE', 'PERSONS_INJURED', 'PEDESTRIANS_KILLED',\n",
        "       'PEDESTRIANS_INJURED']]\n",
        "data5 = data5[['CRASH_DT','K_PEOPLE', 'PERSONS_INJURED', 'PEDESTRIANS_KILLED',\n",
        "       'PEDESTRIANS_INJURED']]\n",
        "data6 = data6[['CRASH_DT','K_PEOPLE', 'PERSONS_INJURED', 'PEDESTRIANS_KILLED',\n",
        "       'PEDESTRIANS_INJURED']]\n",
        "data7 = data7[['CRASH_DT','K_PEOPLE', 'PERSONS_INJURED', 'PEDESTRIANS_KILLED',\n",
        "       'PEDESTRIANS_INJURED']]\n",
        "data8 = data8[['CRASH_DT','K_PEOPLE', 'PERSONS_INJURED', 'PEDESTRIANS_KILLED',\n",
        "       'PEDESTRIANS_INJURED']]     \n",
        "data9 = data9[['CRASH_DT','K_PEOPLE', 'PERSONS_INJURED', 'PEDESTRIANS_KILLED',\n",
        "       'PEDESTRIANS_INJURED']]              "
      ],
      "execution_count": 78,
      "outputs": []
    },
    {
      "cell_type": "code",
      "metadata": {
        "id": "DBlafyp2eI2B"
      },
      "source": [
        "grouped1 = data1.groupby(by = [\"CRASH_DT\"]).sum()\n",
        "grouped2 = data2.groupby(by = [\"CRASH_DT\"]).sum()\n",
        "grouped3 = data3.groupby(by = [\"CRASH_DT\"]).sum()\n",
        "grouped4 = data4.groupby(by = [\"CRASH_DT\"]).sum()\n",
        "grouped5 = data5.groupby(by = [\"CRASH_DT\"]).sum()\n",
        "grouped6 = data6.groupby(by = [\"CRASH_DT\"]).sum()\n",
        "grouped7 = data7.groupby(by = [\"CRASH_DT\"]).sum()\n",
        "grouped8 = data8.groupby(by = [\"CRASH_DT\"]).sum()\n",
        "grouped9 = data9.groupby(by = [\"CRASH_DT\"]).sum()"
      ],
      "execution_count": 79,
      "outputs": []
    },
    {
      "cell_type": "code",
      "metadata": {
        "id": "iAAC7ekZeI2B"
      },
      "source": [
        "\n",
        "#crashed_dt = grouped.sum()\n",
        "#CRASH_DT.loc[rows, columns]"
      ],
      "execution_count": 80,
      "outputs": []
    },
    {
      "cell_type": "code",
      "metadata": {
        "colab": {
          "base_uri": "https://localhost:8080/",
          "height": 235
        },
        "id": "iHHoEXOQeI2B",
        "outputId": "8cf8d605-c4d8-46a7-d7ce-fdfbc63c885b"
      },
      "source": [
        "grouped1.head()"
      ],
      "execution_count": 81,
      "outputs": [
        {
          "output_type": "execute_result",
          "data": {
            "text/html": [
              "<div>\n",
              "<style scoped>\n",
              "    .dataframe tbody tr th:only-of-type {\n",
              "        vertical-align: middle;\n",
              "    }\n",
              "\n",
              "    .dataframe tbody tr th {\n",
              "        vertical-align: top;\n",
              "    }\n",
              "\n",
              "    .dataframe thead th {\n",
              "        text-align: right;\n",
              "    }\n",
              "</style>\n",
              "<table border=\"1\" class=\"dataframe\">\n",
              "  <thead>\n",
              "    <tr style=\"text-align: right;\">\n",
              "      <th></th>\n",
              "      <th>K_PEOPLE</th>\n",
              "      <th>PERSONS_INJURED</th>\n",
              "      <th>PEDESTRIANS_KILLED</th>\n",
              "      <th>PEDESTRIANS_INJURED</th>\n",
              "    </tr>\n",
              "    <tr>\n",
              "      <th>CRASH_DT</th>\n",
              "      <th></th>\n",
              "      <th></th>\n",
              "      <th></th>\n",
              "      <th></th>\n",
              "    </tr>\n",
              "  </thead>\n",
              "  <tbody>\n",
              "    <tr>\n",
              "      <th>2014-01-01</th>\n",
              "      <td>7</td>\n",
              "      <td>1135</td>\n",
              "      <td>1</td>\n",
              "      <td>51</td>\n",
              "    </tr>\n",
              "    <tr>\n",
              "      <th>2014-02-01</th>\n",
              "      <td>9</td>\n",
              "      <td>1000</td>\n",
              "      <td>3</td>\n",
              "      <td>32</td>\n",
              "    </tr>\n",
              "    <tr>\n",
              "      <th>2014-03-01</th>\n",
              "      <td>7</td>\n",
              "      <td>1166</td>\n",
              "      <td>3</td>\n",
              "      <td>22</td>\n",
              "    </tr>\n",
              "    <tr>\n",
              "      <th>2014-04-01</th>\n",
              "      <td>3</td>\n",
              "      <td>1271</td>\n",
              "      <td>0</td>\n",
              "      <td>44</td>\n",
              "    </tr>\n",
              "    <tr>\n",
              "      <th>2014-05-01</th>\n",
              "      <td>12</td>\n",
              "      <td>1514</td>\n",
              "      <td>2</td>\n",
              "      <td>47</td>\n",
              "    </tr>\n",
              "  </tbody>\n",
              "</table>\n",
              "</div>"
            ],
            "text/plain": [
              "            K_PEOPLE  PERSONS_INJURED  PEDESTRIANS_KILLED  PEDESTRIANS_INJURED\n",
              "CRASH_DT                                                                      \n",
              "2014-01-01         7             1135                   1                   51\n",
              "2014-02-01         9             1000                   3                   32\n",
              "2014-03-01         7             1166                   3                   22\n",
              "2014-04-01         3             1271                   0                   44\n",
              "2014-05-01        12             1514                   2                   47"
            ]
          },
          "metadata": {},
          "execution_count": 81
        }
      ]
    },
    {
      "cell_type": "code",
      "metadata": {
        "id": "_NvPw7NneI2C"
      },
      "source": [
        "#check if stationary"
      ],
      "execution_count": 82,
      "outputs": []
    },
    {
      "cell_type": "code",
      "metadata": {
        "id": "5zcXUVUdeI2C"
      },
      "source": [
        ""
      ],
      "execution_count": 82,
      "outputs": []
    },
    {
      "cell_type": "code",
      "metadata": {
        "colab": {
          "base_uri": "https://localhost:8080/"
        },
        "id": "0EUeAYJQeI2C",
        "outputId": "573305f1-a685-4032-b18a-9d3cbcb4008b"
      },
      "source": [
        "grouped1.dtypes\n"
      ],
      "execution_count": 83,
      "outputs": [
        {
          "output_type": "execute_result",
          "data": {
            "text/plain": [
              "K_PEOPLE               int64\n",
              "PERSONS_INJURED        int64\n",
              "PEDESTRIANS_KILLED     int64\n",
              "PEDESTRIANS_INJURED    int64\n",
              "dtype: object"
            ]
          },
          "metadata": {},
          "execution_count": 83
        }
      ]
    },
    {
      "cell_type": "code",
      "metadata": {
        "id": "yxNAfEyGeI2D"
      },
      "source": [
        "#checking stationary"
      ],
      "execution_count": 84,
      "outputs": []
    },
    {
      "cell_type": "code",
      "metadata": {
        "id": "OB7J4JELeI2D"
      },
      "source": [
        "from statsmodels.tsa.vector_ar.vecm import coint_johansen\n"
      ],
      "execution_count": 85,
      "outputs": []
    },
    {
      "cell_type": "code",
      "metadata": {
        "colab": {
          "base_uri": "https://localhost:8080/"
        },
        "id": "0Qn3NN4feI2E",
        "outputId": "a5a83757-3bfd-4e4a-9418-1ccd492507f9"
      },
      "source": [
        "coint_johansen(grouped1,-1,1).eig\n",
        "coint_johansen(grouped2,-1,1).eig\n",
        "coint_johansen(grouped3,-1,1).eig\n",
        "coint_johansen(grouped4,-1,1).eig\n",
        "coint_johansen(grouped5,-1,1).eig\n",
        "coint_johansen(grouped6,-1,1).eig\n",
        "coint_johansen(grouped7,-1,1).eig\n",
        "coint_johansen(grouped8,-1,1).eig\n",
        "coint_johansen(grouped9,-1,1).eig\n"
      ],
      "execution_count": 86,
      "outputs": [
        {
          "output_type": "execute_result",
          "data": {
            "text/plain": [
              "array([0.44943551, 0.26472482, 0.23459534, 0.00284976])"
            ]
          },
          "metadata": {},
          "execution_count": 86
        }
      ]
    },
    {
      "cell_type": "code",
      "metadata": {
        "id": "YT0bczCceI2E"
      },
      "source": [
        "#creating a train & validation set"
      ],
      "execution_count": 87,
      "outputs": []
    },
    {
      "cell_type": "code",
      "metadata": {
        "id": "dfoBI3SreI2E"
      },
      "source": [
        "train1 = grouped1[:int(0.8*(len(grouped1)))]\n",
        "valid1 = grouped1[int(0.8*(len(grouped1))):]\n",
        "\n",
        "train2 = grouped2[:int(0.8*(len(grouped2)))]\n",
        "valid2 = grouped2[int(0.8*(len(grouped2))):]\n",
        "\n",
        "train3 = grouped3[:int(0.8*(len(grouped3)))]\n",
        "valid3 = grouped3[int(0.8*(len(grouped3))):]\n",
        "\n",
        "train4 = grouped4[:int(0.8*(len(grouped4)))]\n",
        "valid4 = grouped4[int(0.8*(len(grouped4))):]\n",
        "\n",
        "train5 = grouped5[:int(0.8*(len(grouped5)))]\n",
        "valid5 = grouped5[int(0.8*(len(grouped5))):]\n",
        "\n",
        "train6 = grouped6[:int(0.8*(len(grouped6)))]\n",
        "valid6 = grouped6[int(0.8*(len(grouped6))):]\n",
        "\n",
        "train7 = grouped7[:int(0.8*(len(grouped7)))]\n",
        "valid7 = grouped7[int(0.8*(len(grouped7))):]\n",
        "\n",
        "train8 = grouped8[:int(0.8*(len(grouped8)))]\n",
        "valid8 = grouped8[int(0.8*(len(grouped8))):]\n",
        "\n",
        "train9 = grouped9[:int(0.8*(len(grouped9)))]\n",
        "valid9 = grouped9[int(0.8*(len(grouped9))):]"
      ],
      "execution_count": 88,
      "outputs": []
    },
    {
      "cell_type": "code",
      "metadata": {
        "id": "SOanEGAneI2E"
      },
      "source": [
        "from statsmodels.tsa.vector_ar.var_model import VAR\n"
      ],
      "execution_count": 89,
      "outputs": []
    },
    {
      "cell_type": "code",
      "metadata": {
        "colab": {
          "base_uri": "https://localhost:8080/"
        },
        "id": "jmToTYnIeI2F",
        "outputId": "a94d94ed-cdfa-48ef-e85d-67212c0c6952"
      },
      "source": [
        "model1 = VAR(endog=train1)\n",
        "model_fit1 = model1.fit()\n",
        "\n",
        "model2 = VAR(endog=train2)\n",
        "model_fit2 = model2.fit()\n",
        "\n",
        "model3 = VAR(endog=train3)\n",
        "model_fit3 = model3.fit()\n",
        "\n",
        "model4 = VAR(endog=train4)\n",
        "model_fit4 = model4.fit()\n",
        "\n",
        "model5 = VAR(endog=train5)\n",
        "model_fit5 = model5.fit()\n",
        "\n",
        "model6 = VAR(endog=train6)\n",
        "model_fit6 = model6.fit()\n",
        "\n",
        "model7 = VAR(endog=train7)\n",
        "model_fit7 = model7.fit()\n",
        "\n",
        "model8 = VAR(endog=train8)\n",
        "model_fit8 = model8.fit()\n",
        "\n",
        "model9 = VAR(endog=train9)\n",
        "model_fit9 = model9.fit()\n",
        "\n",
        "\n"
      ],
      "execution_count": 90,
      "outputs": [
        {
          "output_type": "stream",
          "name": "stderr",
          "text": [
            "/usr/local/lib/python3.7/dist-packages/statsmodels/tsa/base/tsa_model.py:165: ValueWarning: No frequency information was provided, so inferred frequency MS will be used.\n",
            "  % freq, ValueWarning)\n",
            "/usr/local/lib/python3.7/dist-packages/statsmodels/tsa/base/tsa_model.py:165: ValueWarning: No frequency information was provided, so inferred frequency MS will be used.\n",
            "  % freq, ValueWarning)\n",
            "/usr/local/lib/python3.7/dist-packages/statsmodels/tsa/base/tsa_model.py:165: ValueWarning: No frequency information was provided, so inferred frequency MS will be used.\n",
            "  % freq, ValueWarning)\n",
            "/usr/local/lib/python3.7/dist-packages/statsmodels/tsa/base/tsa_model.py:165: ValueWarning: No frequency information was provided, so inferred frequency MS will be used.\n",
            "  % freq, ValueWarning)\n",
            "/usr/local/lib/python3.7/dist-packages/statsmodels/tsa/base/tsa_model.py:165: ValueWarning: No frequency information was provided, so inferred frequency MS will be used.\n",
            "  % freq, ValueWarning)\n",
            "/usr/local/lib/python3.7/dist-packages/statsmodels/tsa/base/tsa_model.py:165: ValueWarning: No frequency information was provided, so inferred frequency MS will be used.\n",
            "  % freq, ValueWarning)\n",
            "/usr/local/lib/python3.7/dist-packages/statsmodels/tsa/base/tsa_model.py:165: ValueWarning: No frequency information was provided, so inferred frequency MS will be used.\n",
            "  % freq, ValueWarning)\n",
            "/usr/local/lib/python3.7/dist-packages/statsmodels/tsa/base/tsa_model.py:165: ValueWarning: No frequency information was provided, so inferred frequency MS will be used.\n",
            "  % freq, ValueWarning)\n",
            "/usr/local/lib/python3.7/dist-packages/statsmodels/tsa/base/tsa_model.py:165: ValueWarning: No frequency information was provided, so inferred frequency MS will be used.\n",
            "  % freq, ValueWarning)\n"
          ]
        }
      ]
    },
    {
      "cell_type": "code",
      "metadata": {
        "colab": {
          "base_uri": "https://localhost:8080/"
        },
        "id": "7K7U8-IieI2F",
        "outputId": "6ddfd601-2b74-4336-945f-882e7537f4cf"
      },
      "source": [
        "prediction1 = model_fit1.forecast(model_fit1.y, steps=len(valid1))\n",
        "\n",
        "prediction2 = model_fit2.forecast(model_fit2.y, steps=len(valid2))\n",
        "\n",
        "prediction3 = model_fit3.forecast(model_fit3.y, steps=len(valid3))\n",
        "\n",
        "prediction4 = model_fit4.forecast(model_fit4.y, steps=len(valid4))\n",
        "\n",
        "prediction5 = model_fit5.forecast(model_fit5.y, steps=len(valid5))\n",
        "\n",
        "prediction6 = model_fit6.forecast(model_fit6.y, steps=len(valid6))\n",
        "\n",
        "prediction7 = model_fit7.forecast(model_fit7.y, steps=len(valid7))\n",
        "\n",
        "prediction8 = model_fit8.forecast(model_fit8.y, steps=len(valid8))\n",
        "\n",
        "prediction9 = model_fit9.forecast(model_fit9.y, steps=len(valid9))\n",
        "\n"
      ],
      "execution_count": 91,
      "outputs": [
        {
          "output_type": "stream",
          "name": "stderr",
          "text": [
            "/usr/local/lib/python3.7/dist-packages/statsmodels/base/wrapper.py:35: FutureWarning: y is a deprecated alias for endog, will be removed in version 0.11.0\n",
            "  obj = getattr(results, attr)\n"
          ]
        }
      ]
    },
    {
      "cell_type": "code",
      "metadata": {
        "id": "rXIA_OZceI2F"
      },
      "source": [
        "from math import sqrt\n",
        "from sklearn.metrics import mean_squared_error\n"
      ],
      "execution_count": 92,
      "outputs": []
    },
    {
      "cell_type": "code",
      "metadata": {
        "colab": {
          "base_uri": "https://localhost:8080/"
        },
        "id": "IlLR6DZ3eI2F",
        "outputId": "9e27378f-d38d-4a29-91b9-0497a2659971"
      },
      "source": [
        "cols = grouped1.columns\n",
        "\n",
        "pred1 = pd.DataFrame(index=range(0,len(prediction1)),columns=[cols])\n",
        "for j in range(0,4):\n",
        "    for i in range(0, len(prediction1)):\n",
        "        pred1.iloc[i][j] = prediction1[i][j]\n",
        "\n",
        "#check mse\n",
        "\n",
        "print('mse value for K_PEOPLE is : ', mean_squared_error(pred1.iloc[:,0], valid1.iloc[:,0]))\n",
        "print('mse value for PERSON_INJURED is : ', mean_squared_error(pred1.iloc[:,1], valid1.iloc[:,1]))\n",
        "print('mse value for PEDESTRIANS_KILLED is : ', mean_squared_error(pred1.iloc[:,2], valid1.iloc[:,2]))\n",
        "print('mse value for PEDESTRIANS_INJURED is : ', mean_squared_error(pred1.iloc[:,3], valid1.iloc[:,3]))\n"
      ],
      "execution_count": 105,
      "outputs": [
        {
          "output_type": "stream",
          "name": "stdout",
          "text": [
            "mse value for K_PEOPLE is :  7.267044135926099\n",
            "mse value for PERSON_INJURED is :  17555.252175894406\n",
            "mse value for PEDESTRIANS_KILLED is :  3.1332037954778396\n",
            "mse value for PEDESTRIANS_INJURED is :  163.1127520746814\n"
          ]
        }
      ]
    },
    {
      "cell_type": "code",
      "metadata": {
        "id": "lO8y3dWxwQbi",
        "colab": {
          "base_uri": "https://localhost:8080/"
        },
        "outputId": "af9ae378-453f-4551-a4fc-b496cf5b81bd"
      },
      "source": [
        "cols = grouped1.columns\n",
        "\n",
        "pred2 = pd.DataFrame(index=range(0,len(prediction2)),columns=[cols])\n",
        "for j in range(0,4):\n",
        "    for i in range(0, len(prediction2)):\n",
        "        pred2.iloc[i][j] = prediction2[i][j]\n",
        "\n",
        "#check mse\n",
        "\n",
        "print('mse value for K_PEOPLE is : ', mean_squared_error(pred2.iloc[:,0], valid2.iloc[:,0]))\n",
        "print('mse value for PERSON_INJURED is : ', mean_squared_error(pred2.iloc[:,1], valid2.iloc[:,1]))\n",
        "print('mse value for PEDESTRIANS_KILLED is : ', mean_squared_error(pred2.iloc[:,2], valid2.iloc[:,2]))\n",
        "print('mse value for PEDESTRIANS_INJURED is : ', mean_squared_error(pred2.iloc[:,3], valid2.iloc[:,3]))\n"
      ],
      "execution_count": 106,
      "outputs": [
        {
          "output_type": "stream",
          "name": "stdout",
          "text": [
            "mse value for K_PEOPLE is :  15.768218313085574\n",
            "mse value for PERSON_INJURED is :  24808.98950005074\n",
            "mse value for PEDESTRIANS_KILLED is :  2.217975220573859\n",
            "mse value for PEDESTRIANS_INJURED is :  29.175759288498213\n"
          ]
        }
      ]
    },
    {
      "cell_type": "code",
      "metadata": {
        "id": "OoF1pPnmwhRk",
        "colab": {
          "base_uri": "https://localhost:8080/"
        },
        "outputId": "a83c089f-a9d6-43ab-e248-f01e4f1bf047"
      },
      "source": [
        "cols = grouped1.columns\n",
        "\n",
        "pred3 = pd.DataFrame(index=range(0,len(prediction3)),columns=[cols])\n",
        "for j in range(0,4):\n",
        "    for i in range(0, len(prediction3)):\n",
        "        pred3.iloc[i][j] = prediction3[i][j]\n",
        "\n",
        "#check mse\n",
        "\n",
        "print('mse value for K_PEOPLE is : ', mean_squared_error(pred3.iloc[:,0], valid3.iloc[:,0]))\n",
        "print('mse value for PERSON_INJURED is : ', mean_squared_error(pred3.iloc[:,1], valid3.iloc[:,1]))\n",
        "print('mse value for PEDESTRIANS_KILLED is : ', mean_squared_error(pred3.iloc[:,2], valid3.iloc[:,2]))\n",
        "print('mse value for PEDESTRIANS_INJURED is : ', mean_squared_error(pred3.iloc[:,3], valid3.iloc[:,3]))"
      ],
      "execution_count": 107,
      "outputs": [
        {
          "output_type": "stream",
          "name": "stdout",
          "text": [
            "mse value for K_PEOPLE is :  9.060254050538273\n",
            "mse value for PERSON_INJURED is :  1831.7543852182332\n",
            "mse value for PEDESTRIANS_KILLED is :  1.192286316138944\n",
            "mse value for PEDESTRIANS_INJURED is :  3.4090983539624817\n"
          ]
        }
      ]
    },
    {
      "cell_type": "code",
      "metadata": {
        "id": "YlufOssPwhyo",
        "colab": {
          "base_uri": "https://localhost:8080/"
        },
        "outputId": "e7f4a5e0-4d42-49ef-fb76-805216e4071d"
      },
      "source": [
        "pred4 = pd.DataFrame(index=range(0,len(prediction4)),columns=[cols])\n",
        "for j in range(0,4):\n",
        "    for i in range(0, len(prediction4)):\n",
        "        pred4.iloc[i][j] = prediction4[i][j]\n",
        "\n",
        "#check mse\n",
        "print('mse value for K_PEOPLE is : ', mean_squared_error(pred4.iloc[:,0], valid4.iloc[:,0]))\n",
        "print('mse value for PERSON_INJURED is : ', mean_squared_error(pred4.iloc[:,1], valid4.iloc[:,1]))\n",
        "print('mse value for PEDESTRIANS_KILLED is : ', mean_squared_error(pred4.iloc[:,2], valid4.iloc[:,2]))\n",
        "print('mse value for PEDESTRIANS_INJURED is : ', mean_squared_error(pred4.iloc[:,3], valid4.iloc[:,3]))"
      ],
      "execution_count": 108,
      "outputs": [
        {
          "output_type": "stream",
          "name": "stdout",
          "text": [
            "mse value for K_PEOPLE is :  4.695534470181564\n",
            "mse value for PERSON_INJURED is :  619.4010101622856\n",
            "mse value for PEDESTRIANS_KILLED is :  1.0872591515132333\n",
            "mse value for PEDESTRIANS_INJURED is :  2.6098535598078314\n"
          ]
        }
      ]
    },
    {
      "cell_type": "code",
      "metadata": {
        "id": "VBmE2UZKwiRQ",
        "colab": {
          "base_uri": "https://localhost:8080/"
        },
        "outputId": "e77b83d1-6df8-4e21-abcc-da6f5263149a"
      },
      "source": [
        "pred5 = pd.DataFrame(index=range(0,len(prediction5)),columns=[cols])\n",
        "for j in range(0,4):\n",
        "    for i in range(0, len(prediction5)):\n",
        "        pred5.iloc[i][j] = prediction5[i][j]\n",
        "\n",
        "#check mse\n",
        "print('mse value for K_PEOPLE is : ', mean_squared_error(pred5.iloc[:,0], valid5.iloc[:,0]))\n",
        "print('mse value for PERSON_INJURED is : ', mean_squared_error(pred5.iloc[:,1], valid5.iloc[:,1]))\n",
        "print('mse value for PEDESTRIANS_KILLED is : ', mean_squared_error(pred5.iloc[:,2], valid5.iloc[:,2]))\n",
        "print('mse value for PEDESTRIANS_INJURED is : ', mean_squared_error(pred5.iloc[:,3], valid5.iloc[:,3]))"
      ],
      "execution_count": 109,
      "outputs": [
        {
          "output_type": "stream",
          "name": "stdout",
          "text": [
            "mse value for K_PEOPLE is :  3.178600114672412\n",
            "mse value for PERSON_INJURED is :  475.0607807785111\n",
            "mse value for PEDESTRIANS_KILLED is :  0.20435787049643755\n",
            "mse value for PEDESTRIANS_INJURED is :  2.9284135927042962\n"
          ]
        }
      ]
    },
    {
      "cell_type": "code",
      "metadata": {
        "id": "FRAEH4_Awiky",
        "colab": {
          "base_uri": "https://localhost:8080/"
        },
        "outputId": "7cd7dc57-6174-4b38-91fa-48ef7389f45d"
      },
      "source": [
        "pred6 = pd.DataFrame(index=range(0,len(prediction6)),columns=[cols])\n",
        "for j in range(0,4):\n",
        "    for i in range(0, len(prediction6)):\n",
        "        pred6.iloc[i][j] = prediction6[i][j]\n",
        "\n",
        "#check mse\n",
        "print('mse value for K_PEOPLE is : ', mean_squared_error(pred6.iloc[:,0], valid6.iloc[:,0]))\n",
        "print('mse value for PERSON_INJURED is : ', mean_squared_error(pred6.iloc[:,1], valid6.iloc[:,1]))\n",
        "print('mse value for PEDESTRIANS_KILLED is : ', mean_squared_error(pred6.iloc[:,2], valid6.iloc[:,2]))\n",
        "print('mse value for PEDESTRIANS_INJURED is : ', mean_squared_error(pred6.iloc[:,3], valid6.iloc[:,3]))"
      ],
      "execution_count": 110,
      "outputs": [
        {
          "output_type": "stream",
          "name": "stdout",
          "text": [
            "mse value for K_PEOPLE is :  4.150479759739522\n",
            "mse value for PERSON_INJURED is :  1732.5536324344314\n",
            "mse value for PEDESTRIANS_KILLED is :  0.21889464695253766\n",
            "mse value for PEDESTRIANS_INJURED is :  3.0694267058619134\n"
          ]
        }
      ]
    },
    {
      "cell_type": "code",
      "metadata": {
        "id": "u_F5iK6Zwi3T",
        "colab": {
          "base_uri": "https://localhost:8080/"
        },
        "outputId": "42a3035a-dc95-4033-e13a-94d43bf87505"
      },
      "source": [
        "pred7 = pd.DataFrame(index=range(0,len(prediction7)),columns=[cols])\n",
        "for j in range(0,4):\n",
        "    for i in range(0, len(prediction7)):\n",
        "        pred7.iloc[i][j] = prediction7[i][j]\n",
        "\n",
        "#check mse\n",
        "print('mse value for K_PEOPLE is : ', mean_squared_error(pred7.iloc[:,0], valid7.iloc[:,0]))\n",
        "print('mse value for PERSON_INJURED is : ', mean_squared_error(pred7.iloc[:,1], valid7.iloc[:,1]))\n",
        "print('mse value for PEDESTRIANS_KILLED is : ', mean_squared_error(pred7.iloc[:,2], valid7.iloc[:,2]))\n",
        "print('mse value for PEDESTRIANS_INJURED is : ', mean_squared_error(pred7.iloc[:,3], valid7.iloc[:,3]))"
      ],
      "execution_count": 111,
      "outputs": [
        {
          "output_type": "stream",
          "name": "stdout",
          "text": [
            "mse value for K_PEOPLE is :  4.363449691963456\n",
            "mse value for PERSON_INJURED is :  869.6642691899232\n",
            "mse value for PEDESTRIANS_KILLED is :  0.27893950623712294\n",
            "mse value for PEDESTRIANS_INJURED is :  1.9341603042445175\n"
          ]
        }
      ]
    },
    {
      "cell_type": "code",
      "metadata": {
        "id": "yzjPAFwBwjI5",
        "colab": {
          "base_uri": "https://localhost:8080/"
        },
        "outputId": "24f6e12f-9641-4a8c-f47a-4741b049659a"
      },
      "source": [
        "pred8 = pd.DataFrame(index=range(0,len(prediction8)),columns=[cols])\n",
        "for j in range(0,4):\n",
        "    for i in range(0, len(prediction8)):\n",
        "        pred8.iloc[i][j] = prediction8[i][j]\n",
        "\n",
        "#check mse\n",
        "print('mse value for K_PEOPLE is : ', mean_squared_error(pred8.iloc[:,0], valid8.iloc[:,0]))\n",
        "print('mse value for PERSON_INJURED is : ', mean_squared_error(pred8.iloc[:,1], valid8.iloc[:,1]))\n",
        "print('mse value for PEDESTRIANS_KILLED is : ', mean_squared_error(pred8.iloc[:,2], valid8.iloc[:,2]))\n",
        "print('mse value for PEDESTRIANS_INJURED is : ', mean_squared_error(pred8.iloc[:,3], valid8.iloc[:,3]))"
      ],
      "execution_count": 112,
      "outputs": [
        {
          "output_type": "stream",
          "name": "stdout",
          "text": [
            "mse value for K_PEOPLE is :  3.1889150897443943\n",
            "mse value for PERSON_INJURED is :  552.0160506013958\n",
            "mse value for PEDESTRIANS_KILLED is :  0.6635371737648269\n",
            "mse value for PEDESTRIANS_INJURED is :  2.11076956682988\n"
          ]
        }
      ]
    },
    {
      "cell_type": "code",
      "metadata": {
        "colab": {
          "base_uri": "https://localhost:8080/"
        },
        "id": "SfIoRT3swjiC",
        "outputId": "0c1349aa-15fd-48f2-f5ed-fe9660e8e6eb"
      },
      "source": [
        "pred9 = pd.DataFrame(index=range(0,len(prediction9)),columns=[cols])\n",
        "for j in range(0,4):\n",
        "    for i in range(0, len(prediction9)):\n",
        "        pred9.iloc[i][j] = prediction9[i][j]\n",
        "\n",
        "#check mse\n",
        "print('mse value for K_PEOPLE is : ', mean_squared_error(pred9.iloc[:,0], valid9.iloc[:,0]))\n",
        "print('mse value for PERSON_INJURED is : ', mean_squared_error(pred9.iloc[:,1], valid9.iloc[:,1]))\n",
        "print('mse value for PEDESTRIANS_KILLED is : ', mean_squared_error(pred9.iloc[:,2], valid9.iloc[:,2]))\n",
        "print('mse value for PEDESTRIANS_INJURED is : ', mean_squared_error(pred9.iloc[:,3], valid9.iloc[:,3]))"
      ],
      "execution_count": 113,
      "outputs": [
        {
          "output_type": "stream",
          "name": "stdout",
          "text": [
            "mse value for K_PEOPLE is :  4.411209106908761\n",
            "mse value for PERSON_INJURED is :  312.62883112533444\n",
            "mse value for PEDESTRIANS_KILLED is :  0.2979861029387231\n",
            "mse value for PEDESTRIANS_INJURED is :  1.40647910088133\n"
          ]
        }
      ]
    },
    {
      "cell_type": "code",
      "metadata": {
        "colab": {
          "base_uri": "https://localhost:8080/"
        },
        "id": "DSXv91OqeI2G",
        "outputId": "7d95c440-379e-4e35-abba-5de561e38f4f"
      },
      "source": [
        "model1 = VAR(endog=grouped1) \n",
        "model_fit1 = model1.fit()\n",
        "yhat1 = model_fit1.forecast(model_fit1.y, steps=3)\n",
        "print(yhat1)\n"
      ],
      "execution_count": 115,
      "outputs": [
        {
          "output_type": "stream",
          "name": "stdout",
          "text": [
            "[[   6.55688057 1161.71784396    1.88847862   47.09157241]\n",
            " [   6.94786922 1177.7363701     1.98894097   43.80660811]\n",
            " [   6.92371095 1198.28049907    2.04270357   43.46832612]]\n"
          ]
        },
        {
          "output_type": "stream",
          "name": "stderr",
          "text": [
            "/usr/local/lib/python3.7/dist-packages/statsmodels/tsa/base/tsa_model.py:165: ValueWarning: No frequency information was provided, so inferred frequency MS will be used.\n",
            "  % freq, ValueWarning)\n",
            "/usr/local/lib/python3.7/dist-packages/statsmodels/base/wrapper.py:35: FutureWarning: y is a deprecated alias for endog, will be removed in version 0.11.0\n",
            "  obj = getattr(results, attr)\n"
          ]
        }
      ]
    },
    {
      "cell_type": "code",
      "metadata": {
        "colab": {
          "base_uri": "https://localhost:8080/"
        },
        "id": "2fP5rimOeI2G",
        "outputId": "963c2286-8057-4e8f-8b1d-c5ee2bd9de24"
      },
      "source": [
        "model2 = VAR(endog=grouped2)\n",
        "model_fit2 = model2.fit()\n",
        "yhat2 = model_fit2.forecast(model_fit2.y, steps=3)\n",
        "print(yhat2)"
      ],
      "execution_count": 116,
      "outputs": [
        {
          "output_type": "stream",
          "name": "stdout",
          "text": [
            "[[  11.20178154 1335.03423327    2.673097     34.16529353]\n",
            " [  11.05323435 1318.65422255    2.15893601   33.54669434]\n",
            " [  10.91941926 1316.63198468    2.06035991   33.09097177]]\n"
          ]
        },
        {
          "output_type": "stream",
          "name": "stderr",
          "text": [
            "/usr/local/lib/python3.7/dist-packages/statsmodels/tsa/base/tsa_model.py:165: ValueWarning: No frequency information was provided, so inferred frequency MS will be used.\n",
            "  % freq, ValueWarning)\n",
            "/usr/local/lib/python3.7/dist-packages/statsmodels/base/wrapper.py:35: FutureWarning: y is a deprecated alias for endog, will be removed in version 0.11.0\n",
            "  obj = getattr(results, attr)\n"
          ]
        }
      ]
    },
    {
      "cell_type": "code",
      "metadata": {
        "colab": {
          "base_uri": "https://localhost:8080/"
        },
        "id": "ndtrEP0ieI2G",
        "outputId": "313ae819-8180-43fc-d40f-ec949cbb6fd5"
      },
      "source": [
        "model3 = VAR(endog=grouped3)\n",
        "model_fit3 = model3.fit()\n",
        "yhat3 = model_fit3.forecast(model_fit3.y, steps=3)\n",
        "print(yhat3)"
      ],
      "execution_count": 117,
      "outputs": [
        {
          "output_type": "stream",
          "name": "stdout",
          "text": [
            "[[  2.84772957 239.67389904   0.3169487    3.61059011]\n",
            " [  3.04865125 248.9548571    0.31074938   3.76232727]\n",
            " [  3.23720672 252.33914526   0.36080871   3.73461635]]\n"
          ]
        },
        {
          "output_type": "stream",
          "name": "stderr",
          "text": [
            "/usr/local/lib/python3.7/dist-packages/statsmodels/tsa/base/tsa_model.py:165: ValueWarning: No frequency information was provided, so inferred frequency MS will be used.\n",
            "  % freq, ValueWarning)\n",
            "/usr/local/lib/python3.7/dist-packages/statsmodels/base/wrapper.py:35: FutureWarning: y is a deprecated alias for endog, will be removed in version 0.11.0\n",
            "  obj = getattr(results, attr)\n"
          ]
        }
      ]
    },
    {
      "cell_type": "code",
      "metadata": {
        "colab": {
          "base_uri": "https://localhost:8080/"
        },
        "id": "RYGU0AfZxRq_",
        "outputId": "9638d531-4768-4bc2-d201-03310f4eca90"
      },
      "source": [
        "model4 = VAR(endog=grouped4)\n",
        "model_fit4 = model4.fit()\n",
        "yhat4 = model_fit4.forecast(model_fit4.y, steps=3)\n",
        "print(yhat4)"
      ],
      "execution_count": 118,
      "outputs": [
        {
          "output_type": "stream",
          "name": "stdout",
          "text": [
            "[[3.29762137e+00 1.91142651e+02 1.87525335e-01 3.25811627e+00]\n",
            " [3.22984322e+00 1.93720447e+02 2.51057601e-01 3.31833453e+00]\n",
            " [3.21026530e+00 1.93853383e+02 2.54653981e-01 3.31955726e+00]]\n"
          ]
        },
        {
          "output_type": "stream",
          "name": "stderr",
          "text": [
            "/usr/local/lib/python3.7/dist-packages/statsmodels/tsa/base/tsa_model.py:165: ValueWarning: No frequency information was provided, so inferred frequency MS will be used.\n",
            "  % freq, ValueWarning)\n",
            "/usr/local/lib/python3.7/dist-packages/statsmodels/base/wrapper.py:35: FutureWarning: y is a deprecated alias for endog, will be removed in version 0.11.0\n",
            "  obj = getattr(results, attr)\n"
          ]
        }
      ]
    },
    {
      "cell_type": "code",
      "metadata": {
        "colab": {
          "base_uri": "https://localhost:8080/"
        },
        "id": "P4WIbNrJxSFK",
        "outputId": "f591400d-d082-47ae-8e04-4e8ce9a4a4e8"
      },
      "source": [
        "model5 = VAR(endog=grouped5)\n",
        "model_fit5 = model5.fit()\n",
        "yhat5 = model_fit5.forecast(model_fit5.y, steps=3)\n",
        "print(yhat5)"
      ],
      "execution_count": 119,
      "outputs": [
        {
          "output_type": "stream",
          "name": "stdout",
          "text": [
            "[[  2.20838037 152.52192017   0.33467409   3.75072405]\n",
            " [  2.07371993 150.19463991   0.33811242   3.9878071 ]\n",
            " [  2.08369754 149.43063616   0.33798715   3.97450014]]\n"
          ]
        },
        {
          "output_type": "stream",
          "name": "stderr",
          "text": [
            "/usr/local/lib/python3.7/dist-packages/statsmodels/tsa/base/tsa_model.py:165: ValueWarning: No frequency information was provided, so inferred frequency MS will be used.\n",
            "  % freq, ValueWarning)\n",
            "/usr/local/lib/python3.7/dist-packages/statsmodels/base/wrapper.py:35: FutureWarning: y is a deprecated alias for endog, will be removed in version 0.11.0\n",
            "  obj = getattr(results, attr)\n"
          ]
        }
      ]
    },
    {
      "cell_type": "code",
      "metadata": {
        "colab": {
          "base_uri": "https://localhost:8080/"
        },
        "id": "Sz0qoPONxSU2",
        "outputId": "390ff7bf-f50b-4422-d0fa-3810cdaad02c"
      },
      "source": [
        "model6 = VAR(endog=grouped6)\n",
        "model_fit6 = model6.fit()\n",
        "yhat6 = model_fit6.forecast(model_fit6.y, steps=3)\n",
        "print(yhat6)"
      ],
      "execution_count": 120,
      "outputs": [
        {
          "output_type": "stream",
          "name": "stdout",
          "text": [
            "[[  2.75689045 174.92677636   0.44912207   3.10024264]\n",
            " [  2.65331414 164.20673257   0.32346577   3.49161289]\n",
            " [  2.64970069 158.64245975   0.28750422   3.61851177]]\n"
          ]
        },
        {
          "output_type": "stream",
          "name": "stderr",
          "text": [
            "/usr/local/lib/python3.7/dist-packages/statsmodels/tsa/base/tsa_model.py:165: ValueWarning: No frequency information was provided, so inferred frequency MS will be used.\n",
            "  % freq, ValueWarning)\n",
            "/usr/local/lib/python3.7/dist-packages/statsmodels/base/wrapper.py:35: FutureWarning: y is a deprecated alias for endog, will be removed in version 0.11.0\n",
            "  obj = getattr(results, attr)\n"
          ]
        }
      ]
    },
    {
      "cell_type": "code",
      "metadata": {
        "colab": {
          "base_uri": "https://localhost:8080/"
        },
        "id": "bkCmzXgvxSlM",
        "outputId": "7b552c99-d7ee-4a43-830d-8365e173d0fb"
      },
      "source": [
        "model7 = VAR(endog=grouped7)\n",
        "model_fit7 = model7.fit()\n",
        "yhat7 = model_fit7.forecast(model_fit7.y, steps=3)\n",
        "print(yhat7)"
      ],
      "execution_count": 121,
      "outputs": [
        {
          "output_type": "stream",
          "name": "stdout",
          "text": [
            "[[2.62329554e+00 1.52496425e+02 2.43615469e-01 2.58834839e+00]\n",
            " [2.69973312e+00 1.57025363e+02 1.41172185e-01 2.38875263e+00]\n",
            " [2.71166664e+00 1.59969781e+02 1.36512220e-01 2.34138595e+00]]\n"
          ]
        },
        {
          "output_type": "stream",
          "name": "stderr",
          "text": [
            "/usr/local/lib/python3.7/dist-packages/statsmodels/tsa/base/tsa_model.py:165: ValueWarning: No frequency information was provided, so inferred frequency MS will be used.\n",
            "  % freq, ValueWarning)\n",
            "/usr/local/lib/python3.7/dist-packages/statsmodels/base/wrapper.py:35: FutureWarning: y is a deprecated alias for endog, will be removed in version 0.11.0\n",
            "  obj = getattr(results, attr)\n"
          ]
        }
      ]
    },
    {
      "cell_type": "code",
      "metadata": {
        "colab": {
          "base_uri": "https://localhost:8080/"
        },
        "id": "S81fFR-nxS2R",
        "outputId": "2ed8c546-89cc-459a-931c-2a61086495cc"
      },
      "source": [
        "model8 = VAR(endog=grouped8)\n",
        "model_fit8 = model8.fit()\n",
        "yhat8 = model_fit8.forecast(model_fit8.y, steps=3)\n",
        "print(yhat8)"
      ],
      "execution_count": 122,
      "outputs": [
        {
          "output_type": "stream",
          "name": "stdout",
          "text": [
            "[[  2.08813772 112.04943016   0.21755312   2.05124727]\n",
            " [  2.70763782 120.62951962   0.27684798   2.38246851]\n",
            " [  2.68513532 122.93661527   0.25546188   2.54796417]]\n"
          ]
        },
        {
          "output_type": "stream",
          "name": "stderr",
          "text": [
            "/usr/local/lib/python3.7/dist-packages/statsmodels/tsa/base/tsa_model.py:165: ValueWarning: No frequency information was provided, so inferred frequency MS will be used.\n",
            "  % freq, ValueWarning)\n",
            "/usr/local/lib/python3.7/dist-packages/statsmodels/base/wrapper.py:35: FutureWarning: y is a deprecated alias for endog, will be removed in version 0.11.0\n",
            "  obj = getattr(results, attr)\n"
          ]
        }
      ]
    },
    {
      "cell_type": "code",
      "metadata": {
        "colab": {
          "base_uri": "https://localhost:8080/"
        },
        "id": "OfR5w_YixTGV",
        "outputId": "3f5f1e11-eaac-446e-dd5d-d06da4585d88"
      },
      "source": [
        "model9 = VAR(endog=grouped9)\n",
        "model_fit9 = model9.fit()\n",
        "yhat9 = model_fit9.forecast(model_fit9.y, steps=3)\n",
        "print(yhat9)"
      ],
      "execution_count": 123,
      "outputs": [
        {
          "output_type": "stream",
          "name": "stdout",
          "text": [
            "[[  2.80793722 150.49071112   0.17103873   1.24095038]\n",
            " [  2.60775357 150.80993692   0.18042047   1.31084516]\n",
            " [  2.62134868 150.0149849    0.19056387   1.28910233]]\n"
          ]
        },
        {
          "output_type": "stream",
          "name": "stderr",
          "text": [
            "/usr/local/lib/python3.7/dist-packages/statsmodels/tsa/base/tsa_model.py:165: ValueWarning: No frequency information was provided, so inferred frequency MS will be used.\n",
            "  % freq, ValueWarning)\n",
            "/usr/local/lib/python3.7/dist-packages/statsmodels/base/wrapper.py:35: FutureWarning: y is a deprecated alias for endog, will be removed in version 0.11.0\n",
            "  obj = getattr(results, attr)\n"
          ]
        }
      ]
    },
    {
      "cell_type": "code",
      "metadata": {
        "colab": {
          "base_uri": "https://localhost:8080/",
          "height": 235
        },
        "id": "evhM_bwd08-h",
        "outputId": "e8b04b56-63f0-4fec-8419-f1cbc07a3cd5"
      },
      "source": [
        "grouped9.head()"
      ],
      "execution_count": 124,
      "outputs": [
        {
          "output_type": "execute_result",
          "data": {
            "text/html": [
              "<div>\n",
              "<style scoped>\n",
              "    .dataframe tbody tr th:only-of-type {\n",
              "        vertical-align: middle;\n",
              "    }\n",
              "\n",
              "    .dataframe tbody tr th {\n",
              "        vertical-align: top;\n",
              "    }\n",
              "\n",
              "    .dataframe thead th {\n",
              "        text-align: right;\n",
              "    }\n",
              "</style>\n",
              "<table border=\"1\" class=\"dataframe\">\n",
              "  <thead>\n",
              "    <tr style=\"text-align: right;\">\n",
              "      <th></th>\n",
              "      <th>K_PEOPLE</th>\n",
              "      <th>PERSONS_INJURED</th>\n",
              "      <th>PEDESTRIANS_KILLED</th>\n",
              "      <th>PEDESTRIANS_INJURED</th>\n",
              "    </tr>\n",
              "    <tr>\n",
              "      <th>CRASH_DT</th>\n",
              "      <th></th>\n",
              "      <th></th>\n",
              "      <th></th>\n",
              "      <th></th>\n",
              "    </tr>\n",
              "  </thead>\n",
              "  <tbody>\n",
              "    <tr>\n",
              "      <th>2014-01-01</th>\n",
              "      <td>3</td>\n",
              "      <td>128</td>\n",
              "      <td>0</td>\n",
              "      <td>2</td>\n",
              "    </tr>\n",
              "    <tr>\n",
              "      <th>2014-02-01</th>\n",
              "      <td>0</td>\n",
              "      <td>115</td>\n",
              "      <td>0</td>\n",
              "      <td>2</td>\n",
              "    </tr>\n",
              "    <tr>\n",
              "      <th>2014-03-01</th>\n",
              "      <td>3</td>\n",
              "      <td>112</td>\n",
              "      <td>0</td>\n",
              "      <td>3</td>\n",
              "    </tr>\n",
              "    <tr>\n",
              "      <th>2014-04-01</th>\n",
              "      <td>3</td>\n",
              "      <td>149</td>\n",
              "      <td>0</td>\n",
              "      <td>2</td>\n",
              "    </tr>\n",
              "    <tr>\n",
              "      <th>2014-05-01</th>\n",
              "      <td>2</td>\n",
              "      <td>178</td>\n",
              "      <td>0</td>\n",
              "      <td>2</td>\n",
              "    </tr>\n",
              "  </tbody>\n",
              "</table>\n",
              "</div>"
            ],
            "text/plain": [
              "            K_PEOPLE  PERSONS_INJURED  PEDESTRIANS_KILLED  PEDESTRIANS_INJURED\n",
              "CRASH_DT                                                                      \n",
              "2014-01-01         3              128                   0                    2\n",
              "2014-02-01         0              115                   0                    2\n",
              "2014-03-01         3              112                   0                    3\n",
              "2014-04-01         3              149                   0                    2\n",
              "2014-05-01         2              178                   0                    2"
            ]
          },
          "metadata": {},
          "execution_count": 124
        }
      ]
    },
    {
      "cell_type": "code",
      "metadata": {
        "id": "4H-wS8LY1SkF"
      },
      "source": [
        ""
      ],
      "execution_count": 124,
      "outputs": []
    }
  ]
}