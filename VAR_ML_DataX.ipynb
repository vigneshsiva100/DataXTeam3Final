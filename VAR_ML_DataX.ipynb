{
  "nbformat": 4,
  "nbformat_minor": 0,
  "metadata": {
    "colab": {
      "name": "VAR_ML_DataX.ipynb",
      "provenance": [],
      "collapsed_sections": []
    },
    "kernelspec": {
      "display_name": "Python 3 (ipykernel)",
      "language": "python",
      "name": "python3"
    },
    "language_info": {
      "codemirror_mode": {
        "name": "ipython",
        "version": 3
      },
      "file_extension": ".py",
      "mimetype": "text/x-python",
      "name": "python",
      "nbconvert_exporter": "python",
      "pygments_lexer": "ipython3",
      "version": "3.9.7"
    }
  },
  "cells": [
    {
      "cell_type": "markdown",
      "metadata": {
        "id": "fuGz66tpvfqx"
      },
      "source": [
        "### Vector Autoregression Model  "
      ]
    },
    {
      "cell_type": "markdown",
      "metadata": {
        "id": "gix-bED9tLwl"
      },
      "source": [
        "Vector autoregression (VAR) is used for to capture the relationship among multiple features including 'CRASH_DT','K_PEOPLE', 'PERSONS_INJURED', 'PEDESTRIANS_KILLED',and'PEDESTRIANS_INJURED.'"
      ]
    },
    {
      "cell_type": "code",
      "metadata": {
        "id": "Wwcdb9lj5bWX"
      },
      "source": [
        "import numpy as np\n",
        "import pandas as pd\n",
        "from sklearn.linear_model import LinearRegression\n",
        "import datetime\n",
        "import matplotlib.pyplot as plt\n"
      ],
      "execution_count": null,
      "outputs": []
    },
    {
      "cell_type": "code",
      "metadata": {
        "id": "EBSG_jarEyju"
      },
      "source": [
        "data = pd.read_csv(\"full_crash1.csv\")"
      ],
      "execution_count": null,
      "outputs": []
    },
    {
      "cell_type": "code",
      "metadata": {
        "colab": {
          "base_uri": "https://localhost:8080/"
        },
        "id": "IuO7CzKO7hE3",
        "outputId": "5e99bf8f-cbae-47ea-b2cf-27832b6205f4"
      },
      "source": [
        "#jack\n",
        "data['CRASH_YEAR'].value_counts()\n"
      ],
      "execution_count": null,
      "outputs": [
        {
          "output_type": "execute_result",
          "data": {
            "text/plain": [
              "2018    131848\n",
              "2016    128525\n",
              "2019    128172\n",
              "2017    127375\n",
              "2015    125800\n",
              "2014    120282\n",
              "2020    105600\n",
              "2021     61836\n",
              "Name: CRASH_YEAR, dtype: int64"
            ]
          },
          "metadata": {},
          "execution_count": 107
        }
      ]
    },
    {
      "cell_type": "code",
      "metadata": {
        "id": "H9fdrVUxiGoT"
      },
      "source": [
        ""
      ],
      "execution_count": null,
      "outputs": []
    },
    {
      "cell_type": "code",
      "metadata": {
        "id": "Dk4WxFEG8Q6i"
      },
      "source": [
        "data = data[data['CRASH_YEAR'] < 2020]"
      ],
      "execution_count": null,
      "outputs": []
    },
    {
      "cell_type": "code",
      "metadata": {
        "colab": {
          "base_uri": "https://localhost:8080/"
        },
        "id": "T95q59Mz8gqM",
        "outputId": "2540c2ca-67ef-418f-b9ae-130fc80c5f77"
      },
      "source": [
        "data['CRASH_YEAR'].value_counts()\n"
      ],
      "execution_count": null,
      "outputs": [
        {
          "output_type": "execute_result",
          "data": {
            "text/plain": [
              "2018    131848\n",
              "2016    128525\n",
              "2019    128172\n",
              "2017    127375\n",
              "2015    125800\n",
              "2014    120282\n",
              "Name: CRASH_YEAR, dtype: int64"
            ]
          },
          "metadata": {},
          "execution_count": 109
        }
      ]
    },
    {
      "cell_type": "code",
      "metadata": {
        "scrolled": true,
        "colab": {
          "base_uri": "https://localhost:8080/"
        },
        "id": "XLbnBOFeeI1y",
        "outputId": "17a67fd6-8db0-44cf-d75f-82207d79aac5"
      },
      "source": [
        "data['PLAN_DISTRICT'].value_counts()"
      ],
      "execution_count": null,
      "outputs": [
        {
          "output_type": "execute_result",
          "data": {
            "text/plain": [
              "Northern Virginia                          178363\n",
              "Hampton Roads                              153863\n",
              "Richmond Regional                           88583\n",
              "George Washington Regional                  37987\n",
              "Richmond Regional, Crater                   34065\n",
              "Central Shenandoah                          29688\n",
              "Roanoke Valley-Alleghany                    27282\n",
              "Thomas Jefferson                            24205\n",
              "Region 2000                                 22489\n",
              "Northern Shenandoah Valley                  21549\n",
              "Mount Rogers                                20535\n",
              "Rappahannock - Rapidan                      19259\n",
              "Crater                                      18096\n",
              "New River Valley                            16927\n",
              "West Piedmont                               16108\n",
              "Cumberland Plateau                           8661\n",
              "Commonwealth Regional                        8045\n",
              "Southside                                    7988\n",
              "Lenowisco                                    7573\n",
              "Roanoke Valley-Alleghany, West Piedmont      5484\n",
              "Middle Peninsula                             4843\n",
              "Accomack-Northampton                         4508\n",
              "Northern Neck                                2784\n",
              "Middle Peninsula, Hampton Roads              2517\n",
              "Crater, Hampton Roads                         600\n",
              "Name: PLAN_DISTRICT, dtype: int64"
            ]
          },
          "metadata": {},
          "execution_count": 110
        }
      ]
    },
    {
      "cell_type": "markdown",
      "metadata": {
        "id": "VZxOszgReI10"
      },
      "source": [
        "Northern Virginia                       \n",
        "Hampton Roads                           \n",
        "George Washington Regional             \n",
        "Central Shenandoah                         \n",
        "Roanoke Valley-Alleghany                   \n",
        "Thomas Jefferson                         \n",
        "Region 2000                                 \n",
        "Northern Shenandoah Valley\n",
        "Rappahannock - Rapidan"
      ]
    },
    {
      "cell_type": "code",
      "metadata": {
        "id": "MePf0Y7yjmcP"
      },
      "source": [
        "data1 = data[data['PLAN_DISTRICT'] == 'Northern Virginia']\n",
        "data2 = data[data['PLAN_DISTRICT'] == 'Hampton Roads']\n",
        "data3 = data[data['PLAN_DISTRICT'] == 'George Washington Regional']\n",
        "data4 = data[data['PLAN_DISTRICT'] == 'Central Shenandoah']\n",
        "data5 = data[data['PLAN_DISTRICT'] == 'Roanoke Valley-Alleghany']\n",
        "data6 = data[data['PLAN_DISTRICT'] == 'Thomas Jefferson']\n",
        "data7 = data[data['PLAN_DISTRICT'] == 'Region 2000']\n",
        "data8 = data[data['PLAN_DISTRICT'] == 'Northern Shenandoah Valley']\n",
        "data9 = data[data['PLAN_DISTRICT'] == 'Rappahannock - Rapidan']\n"
      ],
      "execution_count": null,
      "outputs": []
    },
    {
      "cell_type": "code",
      "metadata": {
        "id": "zUrsrD-akltz"
      },
      "source": [
        ""
      ],
      "execution_count": null,
      "outputs": []
    },
    {
      "cell_type": "code",
      "metadata": {
        "colab": {
          "base_uri": "https://localhost:8080/"
        },
        "id": "KHvuGWIK9bML",
        "outputId": "58d2985a-39a9-4f59-ba8b-2691e921b0e2"
      },
      "source": [
        "data1.columns"
      ],
      "execution_count": null,
      "outputs": [
        {
          "output_type": "execute_result",
          "data": {
            "text/plain": [
              "Index(['X', 'Y', 'OBJECTID', 'DOCUMENT_NBR', 'CRASH_YEAR', 'CRASH_DT',\n",
              "       'CRASH_MILITARY_TM', 'CRASH_SEVERITY', 'K_PEOPLE', 'A_PEOPLE',\n",
              "       'B_PEOPLE', 'C_PEOPLE', 'PERSONS_INJURED', 'PEDESTRIANS_KILLED',\n",
              "       'PEDESTRIANS_INJURED', 'VEH_COUNT', 'COLLISION_TYPE',\n",
              "       'WEATHER_CONDITION', 'LIGHT_CONDITION', 'RD_TYPE',\n",
              "       'ROADWAY_SURFACE_COND', 'RELATION_TO_ROADWAY', 'ROADWAY_ALIGNMENT',\n",
              "       'ROADWAY_SURFACE_TYPE', 'ROADWAY_DEFECT', 'ROADWAY_DESCRIPTION',\n",
              "       'INTERSECTION_TYPE', 'TRAFFIC_CONTROL_TYPE', 'TRFC_CTRL_STATUS_TYPE',\n",
              "       'WORK_ZONE_RELATED', 'WORK_ZONE_LOCATION', 'WORK_ZONE_TYPE',\n",
              "       'FIRST_HARMFUL_EVENT', 'FIRST_HARMFUL_EVENT_LOC', 'ALCOHOL_NOTALCOHOL',\n",
              "       'BELTED_UNBELTED', 'BIKE_NONBIKE', 'DISTRACTED_NOTDISTRACTED',\n",
              "       'DROWSY_NOTDROWSY', 'DRUG_NODRUG', 'GR_NOGR', 'HITRUN_NOT_HITRUN',\n",
              "       'LGTRUCK_NONLGTRUCK', 'MOTOR_NONMOTOR', 'PED_NONPED', 'SPEED_NOTSPEED',\n",
              "       'SCHOOL_ZONE', 'SENIOR_NOTSENIOR', 'YOUNG_NOTYOUNG', 'MAINLINE_YN',\n",
              "       'NIGHT', 'VDOT_DISTRICT', 'JURIS_CODE', 'PHYSICAL_JURIS', 'FUN', 'FAC',\n",
              "       'AREA_TYPE', 'SYSTEM', 'VSP', 'OWNERSHIP', 'INTERSECTION_ANALYSIS',\n",
              "       'PLAN_DISTRICT', 'MPO_NAME', 'RTE_NM', 'RNS_MP', 'NODE', 'OFFSET',\n",
              "       'ANIMAL', 'SPEED_DIFF_MAX'],\n",
              "      dtype='object')"
            ]
          },
          "metadata": {},
          "execution_count": 112
        }
      ]
    },
    {
      "cell_type": "code",
      "metadata": {
        "colab": {
          "base_uri": "https://localhost:8080/"
        },
        "id": "PlXzcuBp8nNi",
        "outputId": "f6496b52-cb47-44ec-b0a8-55541e04af3d"
      },
      "source": [
        "data1['VDOT_DISTRICT'].value_counts()"
      ],
      "execution_count": null,
      "outputs": [
        {
          "output_type": "execute_result",
          "data": {
            "text/plain": [
              "9. Northern Virginia    178363\n",
              "Name: VDOT_DISTRICT, dtype: int64"
            ]
          },
          "metadata": {},
          "execution_count": 113
        }
      ]
    },
    {
      "cell_type": "code",
      "metadata": {
        "id": "VWxP1giL9mgi"
      },
      "source": [
        "#Chris dont touch my cells"
      ],
      "execution_count": null,
      "outputs": []
    },
    {
      "cell_type": "code",
      "metadata": {
        "id": "yRhsRBon0SYL"
      },
      "source": [
        "#Forecast - the number of crashes for follwing year 2014-2019\n",
        "#change data column into month"
      ],
      "execution_count": null,
      "outputs": []
    },
    {
      "cell_type": "code",
      "metadata": {
        "id": "Ql3ueCFx0Sgu",
        "colab": {
          "base_uri": "https://localhost:8080/",
          "height": 666
        },
        "outputId": "79ff6574-d668-4d0a-b171-c97a5d57033b"
      },
      "source": [
        "data1.head()"
      ],
      "execution_count": null,
      "outputs": [
        {
          "output_type": "execute_result",
          "data": {
            "text/html": [
              "<div>\n",
              "<style scoped>\n",
              "    .dataframe tbody tr th:only-of-type {\n",
              "        vertical-align: middle;\n",
              "    }\n",
              "\n",
              "    .dataframe tbody tr th {\n",
              "        vertical-align: top;\n",
              "    }\n",
              "\n",
              "    .dataframe thead th {\n",
              "        text-align: right;\n",
              "    }\n",
              "</style>\n",
              "<table border=\"1\" class=\"dataframe\">\n",
              "  <thead>\n",
              "    <tr style=\"text-align: right;\">\n",
              "      <th></th>\n",
              "      <th>X</th>\n",
              "      <th>Y</th>\n",
              "      <th>OBJECTID</th>\n",
              "      <th>DOCUMENT_NBR</th>\n",
              "      <th>CRASH_YEAR</th>\n",
              "      <th>CRASH_DT</th>\n",
              "      <th>CRASH_MILITARY_TM</th>\n",
              "      <th>CRASH_SEVERITY</th>\n",
              "      <th>K_PEOPLE</th>\n",
              "      <th>A_PEOPLE</th>\n",
              "      <th>B_PEOPLE</th>\n",
              "      <th>C_PEOPLE</th>\n",
              "      <th>PERSONS_INJURED</th>\n",
              "      <th>PEDESTRIANS_KILLED</th>\n",
              "      <th>PEDESTRIANS_INJURED</th>\n",
              "      <th>VEH_COUNT</th>\n",
              "      <th>COLLISION_TYPE</th>\n",
              "      <th>WEATHER_CONDITION</th>\n",
              "      <th>LIGHT_CONDITION</th>\n",
              "      <th>RD_TYPE</th>\n",
              "      <th>ROADWAY_SURFACE_COND</th>\n",
              "      <th>RELATION_TO_ROADWAY</th>\n",
              "      <th>ROADWAY_ALIGNMENT</th>\n",
              "      <th>ROADWAY_SURFACE_TYPE</th>\n",
              "      <th>ROADWAY_DEFECT</th>\n",
              "      <th>ROADWAY_DESCRIPTION</th>\n",
              "      <th>INTERSECTION_TYPE</th>\n",
              "      <th>TRAFFIC_CONTROL_TYPE</th>\n",
              "      <th>TRFC_CTRL_STATUS_TYPE</th>\n",
              "      <th>WORK_ZONE_RELATED</th>\n",
              "      <th>WORK_ZONE_LOCATION</th>\n",
              "      <th>WORK_ZONE_TYPE</th>\n",
              "      <th>FIRST_HARMFUL_EVENT</th>\n",
              "      <th>FIRST_HARMFUL_EVENT_LOC</th>\n",
              "      <th>ALCOHOL_NOTALCOHOL</th>\n",
              "      <th>BELTED_UNBELTED</th>\n",
              "      <th>BIKE_NONBIKE</th>\n",
              "      <th>DISTRACTED_NOTDISTRACTED</th>\n",
              "      <th>DROWSY_NOTDROWSY</th>\n",
              "      <th>DRUG_NODRUG</th>\n",
              "      <th>GR_NOGR</th>\n",
              "      <th>HITRUN_NOT_HITRUN</th>\n",
              "      <th>LGTRUCK_NONLGTRUCK</th>\n",
              "      <th>MOTOR_NONMOTOR</th>\n",
              "      <th>PED_NONPED</th>\n",
              "      <th>SPEED_NOTSPEED</th>\n",
              "      <th>SCHOOL_ZONE</th>\n",
              "      <th>SENIOR_NOTSENIOR</th>\n",
              "      <th>YOUNG_NOTYOUNG</th>\n",
              "      <th>MAINLINE_YN</th>\n",
              "      <th>NIGHT</th>\n",
              "      <th>VDOT_DISTRICT</th>\n",
              "      <th>JURIS_CODE</th>\n",
              "      <th>PHYSICAL_JURIS</th>\n",
              "      <th>FUN</th>\n",
              "      <th>FAC</th>\n",
              "      <th>AREA_TYPE</th>\n",
              "      <th>SYSTEM</th>\n",
              "      <th>VSP</th>\n",
              "      <th>OWNERSHIP</th>\n",
              "      <th>INTERSECTION_ANALYSIS</th>\n",
              "      <th>PLAN_DISTRICT</th>\n",
              "      <th>MPO_NAME</th>\n",
              "      <th>RTE_NM</th>\n",
              "      <th>RNS_MP</th>\n",
              "      <th>NODE</th>\n",
              "      <th>OFFSET</th>\n",
              "      <th>ANIMAL</th>\n",
              "      <th>SPEED_DIFF_MAX</th>\n",
              "    </tr>\n",
              "  </thead>\n",
              "  <tbody>\n",
              "    <tr>\n",
              "      <th>2</th>\n",
              "      <td>-77.220990</td>\n",
              "      <td>38.762770</td>\n",
              "      <td>3</td>\n",
              "      <td>141740135</td>\n",
              "      <td>2014</td>\n",
              "      <td>2014/03/31 17:00:00+00</td>\n",
              "      <td>1746</td>\n",
              "      <td>C. Nonvisible Injury</td>\n",
              "      <td>0</td>\n",
              "      <td>0</td>\n",
              "      <td>0</td>\n",
              "      <td>1</td>\n",
              "      <td>1</td>\n",
              "      <td>0</td>\n",
              "      <td>0</td>\n",
              "      <td>2</td>\n",
              "      <td>1. Rear End</td>\n",
              "      <td>1. No Adverse Condition (Clear/Cloudy)</td>\n",
              "      <td>2. Daylight</td>\n",
              "      <td>NOT_RD</td>\n",
              "      <td>1. Dry</td>\n",
              "      <td>10. Intersection Related - Within 150 Feet</td>\n",
              "      <td>1. Straight - Level</td>\n",
              "      <td>2. Blacktop, Asphalt, Bituminous</td>\n",
              "      <td>1. No Defects</td>\n",
              "      <td>2. Two-Way, Divided, Unprotected Median</td>\n",
              "      <td>2. Two Approaches</td>\n",
              "      <td>6. Traffic Lanes Marked</td>\n",
              "      <td>6. No Traffic Control Device Present</td>\n",
              "      <td>2. No</td>\n",
              "      <td>NaN</td>\n",
              "      <td>NaN</td>\n",
              "      <td>20. Motor Vehicle In Transport</td>\n",
              "      <td>1. On Roadway</td>\n",
              "      <td>No</td>\n",
              "      <td>Belted</td>\n",
              "      <td>No</td>\n",
              "      <td>Yes</td>\n",
              "      <td>No</td>\n",
              "      <td>No</td>\n",
              "      <td>No</td>\n",
              "      <td>No</td>\n",
              "      <td>No</td>\n",
              "      <td>No</td>\n",
              "      <td>No</td>\n",
              "      <td>No</td>\n",
              "      <td>3. No</td>\n",
              "      <td>No</td>\n",
              "      <td>No</td>\n",
              "      <td>No</td>\n",
              "      <td>No</td>\n",
              "      <td>9. Northern Virginia</td>\n",
              "      <td>29.0</td>\n",
              "      <td>029. Fairfax County</td>\n",
              "      <td>H. Urban Minor Arterial</td>\n",
              "      <td>4. One-way, part of a one-way system</td>\n",
              "      <td>Urban</td>\n",
              "      <td>SECONDARY</td>\n",
              "      <td>7.0</td>\n",
              "      <td>VDOT_SEC</td>\n",
              "      <td>VDOT Intersection</td>\n",
              "      <td>Northern Virginia</td>\n",
              "      <td>Northern Virginia Portion of The Metropolitan ...</td>\n",
              "      <td>R-VA029SC06945NB      RMP001.00A</td>\n",
              "      <td>0.03</td>\n",
              "      <td>757276.0</td>\n",
              "      <td>0.0</td>\n",
              "      <td>No</td>\n",
              "      <td>NaN</td>\n",
              "    </tr>\n",
              "    <tr>\n",
              "      <th>4</th>\n",
              "      <td>-77.306306</td>\n",
              "      <td>38.847087</td>\n",
              "      <td>5</td>\n",
              "      <td>141715186</td>\n",
              "      <td>2014</td>\n",
              "      <td>2014/06/19 17:00:00+00</td>\n",
              "      <td>806</td>\n",
              "      <td>B. Visible Injury</td>\n",
              "      <td>0</td>\n",
              "      <td>0</td>\n",
              "      <td>1</td>\n",
              "      <td>0</td>\n",
              "      <td>1</td>\n",
              "      <td>0</td>\n",
              "      <td>0</td>\n",
              "      <td>2</td>\n",
              "      <td>1. Rear End</td>\n",
              "      <td>1. No Adverse Condition (Clear/Cloudy)</td>\n",
              "      <td>2. Daylight</td>\n",
              "      <td>NOT_RD</td>\n",
              "      <td>1. Dry</td>\n",
              "      <td>8. Non-Intersection</td>\n",
              "      <td>1. Straight - Level</td>\n",
              "      <td>2. Blacktop, Asphalt, Bituminous</td>\n",
              "      <td>1. No Defects</td>\n",
              "      <td>1. Two-Way, Not Divided</td>\n",
              "      <td>1. Not at Intersection</td>\n",
              "      <td>6. Traffic Lanes Marked</td>\n",
              "      <td>1. Yes - Working</td>\n",
              "      <td>2. No</td>\n",
              "      <td>NaN</td>\n",
              "      <td>NaN</td>\n",
              "      <td>20. Motor Vehicle In Transport</td>\n",
              "      <td>1. On Roadway</td>\n",
              "      <td>No</td>\n",
              "      <td>Unbelted</td>\n",
              "      <td>No</td>\n",
              "      <td>No</td>\n",
              "      <td>No</td>\n",
              "      <td>No</td>\n",
              "      <td>No</td>\n",
              "      <td>No</td>\n",
              "      <td>No</td>\n",
              "      <td>No</td>\n",
              "      <td>No</td>\n",
              "      <td>No</td>\n",
              "      <td>3. No</td>\n",
              "      <td>No</td>\n",
              "      <td>Yes</td>\n",
              "      <td>Yes</td>\n",
              "      <td>No</td>\n",
              "      <td>9. Northern Virginia</td>\n",
              "      <td>151.0</td>\n",
              "      <td>151. City of Fairfax</td>\n",
              "      <td>E. Urban Other Principal Arterials; Connecting...</td>\n",
              "      <td>0. Two-way, non-divided</td>\n",
              "      <td>Urban</td>\n",
              "      <td>OTHER</td>\n",
              "      <td>7.0</td>\n",
              "      <td>URBAN_PRI</td>\n",
              "      <td>Urban Intersection</td>\n",
              "      <td>Northern Virginia</td>\n",
              "      <td>Northern Virginia Portion of The Metropolitan ...</td>\n",
              "      <td>R-VA   SR00123SB</td>\n",
              "      <td>15.01</td>\n",
              "      <td>278857.0</td>\n",
              "      <td>53.0</td>\n",
              "      <td>No</td>\n",
              "      <td>NaN</td>\n",
              "    </tr>\n",
              "    <tr>\n",
              "      <th>12</th>\n",
              "      <td>-77.670294</td>\n",
              "      <td>38.883672</td>\n",
              "      <td>13</td>\n",
              "      <td>141675203</td>\n",
              "      <td>2014</td>\n",
              "      <td>2014/06/15 17:00:00+00</td>\n",
              "      <td>1400</td>\n",
              "      <td>B. Visible Injury</td>\n",
              "      <td>0</td>\n",
              "      <td>0</td>\n",
              "      <td>1</td>\n",
              "      <td>0</td>\n",
              "      <td>1</td>\n",
              "      <td>0</td>\n",
              "      <td>0</td>\n",
              "      <td>2</td>\n",
              "      <td>2. Angle</td>\n",
              "      <td>1. No Adverse Condition (Clear/Cloudy)</td>\n",
              "      <td>2. Daylight</td>\n",
              "      <td>NOT_RD</td>\n",
              "      <td>1. Dry</td>\n",
              "      <td>9. Within Intersection</td>\n",
              "      <td>5. Hillcrest - Straight</td>\n",
              "      <td>2. Blacktop, Asphalt, Bituminous</td>\n",
              "      <td>1. No Defects</td>\n",
              "      <td>2. Two-Way, Divided, Unprotected Median</td>\n",
              "      <td>2. Two Approaches</td>\n",
              "      <td>4. Stop Sign</td>\n",
              "      <td>1. Yes - Working</td>\n",
              "      <td>2. No</td>\n",
              "      <td>NaN</td>\n",
              "      <td>NaN</td>\n",
              "      <td>20. Motor Vehicle In Transport</td>\n",
              "      <td>1. On Roadway</td>\n",
              "      <td>No</td>\n",
              "      <td>Belted</td>\n",
              "      <td>Yes</td>\n",
              "      <td>Yes</td>\n",
              "      <td>No</td>\n",
              "      <td>No</td>\n",
              "      <td>No</td>\n",
              "      <td>No</td>\n",
              "      <td>No</td>\n",
              "      <td>No</td>\n",
              "      <td>No</td>\n",
              "      <td>No</td>\n",
              "      <td>3. No</td>\n",
              "      <td>No</td>\n",
              "      <td>No</td>\n",
              "      <td>Yes</td>\n",
              "      <td>No</td>\n",
              "      <td>9. Northern Virginia</td>\n",
              "      <td>76.0</td>\n",
              "      <td>076. Prince William County</td>\n",
              "      <td>6. Rural Local</td>\n",
              "      <td>0. Two-way, non-divided</td>\n",
              "      <td>Rural</td>\n",
              "      <td>SECONDARY</td>\n",
              "      <td>7.0</td>\n",
              "      <td>VDOT_SEC</td>\n",
              "      <td>VDOT Intersection</td>\n",
              "      <td>Northern Virginia</td>\n",
              "      <td>Northern Virginia Portion of The Metropolitan ...</td>\n",
              "      <td>R-VA076SC00600SB</td>\n",
              "      <td>2.22</td>\n",
              "      <td>546004.0</td>\n",
              "      <td>95.0</td>\n",
              "      <td>No</td>\n",
              "      <td>NaN</td>\n",
              "    </tr>\n",
              "    <tr>\n",
              "      <th>19</th>\n",
              "      <td>-77.300515</td>\n",
              "      <td>38.850329</td>\n",
              "      <td>20</td>\n",
              "      <td>143525245</td>\n",
              "      <td>2014</td>\n",
              "      <td>2014/12/16 17:00:00+00</td>\n",
              "      <td>900</td>\n",
              "      <td>B. Visible Injury</td>\n",
              "      <td>0</td>\n",
              "      <td>0</td>\n",
              "      <td>1</td>\n",
              "      <td>1</td>\n",
              "      <td>2</td>\n",
              "      <td>0</td>\n",
              "      <td>0</td>\n",
              "      <td>2</td>\n",
              "      <td>4. Sideswipe - Same Direction</td>\n",
              "      <td>1. No Adverse Condition (Clear/Cloudy)</td>\n",
              "      <td>2. Daylight</td>\n",
              "      <td>NOT_RD</td>\n",
              "      <td>1. Dry</td>\n",
              "      <td>10. Intersection Related - Within 150 Feet</td>\n",
              "      <td>1. Straight - Level</td>\n",
              "      <td>2. Blacktop, Asphalt, Bituminous</td>\n",
              "      <td>1. No Defects</td>\n",
              "      <td>1. Two-Way, Not Divided</td>\n",
              "      <td>4. Four Approaches</td>\n",
              "      <td>4. Stop Sign</td>\n",
              "      <td>1. Yes - Working</td>\n",
              "      <td>2. No</td>\n",
              "      <td>NaN</td>\n",
              "      <td>NaN</td>\n",
              "      <td>20. Motor Vehicle In Transport</td>\n",
              "      <td>1. On Roadway</td>\n",
              "      <td>No</td>\n",
              "      <td>Belted</td>\n",
              "      <td>No</td>\n",
              "      <td>No</td>\n",
              "      <td>No</td>\n",
              "      <td>No</td>\n",
              "      <td>No</td>\n",
              "      <td>No</td>\n",
              "      <td>No</td>\n",
              "      <td>No</td>\n",
              "      <td>No</td>\n",
              "      <td>No</td>\n",
              "      <td>3. No</td>\n",
              "      <td>No</td>\n",
              "      <td>No</td>\n",
              "      <td>Yes</td>\n",
              "      <td>No</td>\n",
              "      <td>9. Northern Virginia</td>\n",
              "      <td>151.0</td>\n",
              "      <td>151. City of Fairfax</td>\n",
              "      <td>I. Urban Collector</td>\n",
              "      <td>0. Two-way, non-divided</td>\n",
              "      <td>Urban</td>\n",
              "      <td>OTHER</td>\n",
              "      <td>7.0</td>\n",
              "      <td>URBAN_SEC</td>\n",
              "      <td>Urban Intersection</td>\n",
              "      <td>Northern Virginia</td>\n",
              "      <td>Northern Virginia Portion of The Metropolitan ...</td>\n",
              "      <td>R-VA151UR00003WB</td>\n",
              "      <td>0.22</td>\n",
              "      <td>279681.0</td>\n",
              "      <td>359.0</td>\n",
              "      <td>No</td>\n",
              "      <td>NaN</td>\n",
              "    </tr>\n",
              "    <tr>\n",
              "      <th>20</th>\n",
              "      <td>-77.068308</td>\n",
              "      <td>38.855431</td>\n",
              "      <td>21</td>\n",
              "      <td>142005120</td>\n",
              "      <td>2014</td>\n",
              "      <td>2014/07/19 17:00:00+00</td>\n",
              "      <td>1156</td>\n",
              "      <td>PDO. Property Damage Only</td>\n",
              "      <td>0</td>\n",
              "      <td>0</td>\n",
              "      <td>0</td>\n",
              "      <td>0</td>\n",
              "      <td>0</td>\n",
              "      <td>0</td>\n",
              "      <td>0</td>\n",
              "      <td>3</td>\n",
              "      <td>1. Rear End</td>\n",
              "      <td>1. No Adverse Condition (Clear/Cloudy)</td>\n",
              "      <td>2. Daylight</td>\n",
              "      <td>NOT_RD</td>\n",
              "      <td>1. Dry</td>\n",
              "      <td>10. Intersection Related - Within 150 Feet</td>\n",
              "      <td>1. Straight - Level</td>\n",
              "      <td>2. Blacktop, Asphalt, Bituminous</td>\n",
              "      <td>1. No Defects</td>\n",
              "      <td>2. Two-Way, Divided, Unprotected Median</td>\n",
              "      <td>4. Four Approaches</td>\n",
              "      <td>8. Yield Sign</td>\n",
              "      <td>1. Yes - Working</td>\n",
              "      <td>2. No</td>\n",
              "      <td>NaN</td>\n",
              "      <td>NaN</td>\n",
              "      <td>20. Motor Vehicle In Transport</td>\n",
              "      <td>1. On Roadway</td>\n",
              "      <td>No</td>\n",
              "      <td>Belted</td>\n",
              "      <td>No</td>\n",
              "      <td>No</td>\n",
              "      <td>No</td>\n",
              "      <td>No</td>\n",
              "      <td>No</td>\n",
              "      <td>No</td>\n",
              "      <td>No</td>\n",
              "      <td>No</td>\n",
              "      <td>No</td>\n",
              "      <td>No</td>\n",
              "      <td>3. No</td>\n",
              "      <td>No</td>\n",
              "      <td>No</td>\n",
              "      <td>Yes</td>\n",
              "      <td>No</td>\n",
              "      <td>9. Northern Virginia</td>\n",
              "      <td>0.0</td>\n",
              "      <td>000. Arlington County</td>\n",
              "      <td>H. Urban Minor Arterial</td>\n",
              "      <td>0. Two-way, non-divided</td>\n",
              "      <td>Urban</td>\n",
              "      <td>OTHER</td>\n",
              "      <td>7.0</td>\n",
              "      <td>URBAN_SEC</td>\n",
              "      <td>Urban Intersection</td>\n",
              "      <td>Northern Virginia</td>\n",
              "      <td>Northern Virginia Portion of The Metropolitan ...</td>\n",
              "      <td>R-VA000SC06591NB</td>\n",
              "      <td>0.78</td>\n",
              "      <td>100773.0</td>\n",
              "      <td>829.0</td>\n",
              "      <td>No</td>\n",
              "      <td>NaN</td>\n",
              "    </tr>\n",
              "  </tbody>\n",
              "</table>\n",
              "</div>"
            ],
            "text/plain": [
              "            X          Y  OBJECTID  ...  OFFSET  ANIMAL SPEED_DIFF_MAX\n",
              "2  -77.220990  38.762770         3  ...     0.0      No            NaN\n",
              "4  -77.306306  38.847087         5  ...    53.0      No            NaN\n",
              "12 -77.670294  38.883672        13  ...    95.0      No            NaN\n",
              "19 -77.300515  38.850329        20  ...   359.0      No            NaN\n",
              "20 -77.068308  38.855431        21  ...   829.0      No            NaN\n",
              "\n",
              "[5 rows x 69 columns]"
            ]
          },
          "metadata": {},
          "execution_count": 116
        }
      ]
    },
    {
      "cell_type": "code",
      "metadata": {
        "colab": {
          "base_uri": "https://localhost:8080/"
        },
        "id": "bF-8AbpMeI17",
        "outputId": "5632ca68-2508-45c6-f388-9d51e7f58d77"
      },
      "source": [
        "isinstance(data1[\"CRASH_DT\"],str)"
      ],
      "execution_count": null,
      "outputs": [
        {
          "output_type": "execute_result",
          "data": {
            "text/plain": [
              "False"
            ]
          },
          "metadata": {},
          "execution_count": 117
        }
      ]
    },
    {
      "cell_type": "code",
      "metadata": {
        "id": "jm0mcbYc0Smf"
      },
      "source": [
        "def change_date(date):\n",
        "    month = date[5: 7]\n",
        "    year = date[0: 4]\n",
        "    full_date =  year + '-' + month\n",
        "    return full_date\n"
      ],
      "execution_count": null,
      "outputs": []
    },
    {
      "cell_type": "code",
      "metadata": {
        "id": "5Y7XtRLjeI18"
      },
      "source": [
        "def to_time_it(x):\n",
        "    return pd.to_datetime(x, format='%Y-%m', errors='ignore')"
      ],
      "execution_count": null,
      "outputs": []
    },
    {
      "cell_type": "code",
      "metadata": {
        "id": "6yjeDGF60Sro"
      },
      "source": [
        "#change_date(data1.loc[0,\"CRASH_DT\"])  "
      ],
      "execution_count": null,
      "outputs": []
    },
    {
      "cell_type": "code",
      "metadata": {
        "colab": {
          "base_uri": "https://localhost:8080/",
          "height": 1000
        },
        "id": "elCBJ5ZaeI19",
        "outputId": "c4644f6c-be34-4593-f680-81b921a9fbab"
      },
      "source": [
        "data1['CRASH_DT'] = data1['CRASH_DT'].map(lambda x: change_date(x))\n",
        "data1['CRASH_DT'] = data1['CRASH_DT'].map(lambda x: to_time_it(x))\n",
        "\n",
        "data2['CRASH_DT'] = data2['CRASH_DT'].map(lambda x: change_date(x))\n",
        "data2['CRASH_DT'] = data2['CRASH_DT'].map(lambda x: to_time_it(x))\n",
        "\n",
        "data3['CRASH_DT'] = data3['CRASH_DT'].map(lambda x: change_date(x))\n",
        "data3['CRASH_DT'] = data3['CRASH_DT'].map(lambda x: to_time_it(x))\n",
        "\n",
        "data4['CRASH_DT'] = data4['CRASH_DT'].map(lambda x: change_date(x))\n",
        "data4['CRASH_DT'] = data4['CRASH_DT'].map(lambda x: to_time_it(x))\n",
        "\n",
        "data5['CRASH_DT'] = data5['CRASH_DT'].map(lambda x: change_date(x))\n",
        "data5['CRASH_DT'] = data5['CRASH_DT'].map(lambda x: to_time_it(x))\n",
        "\n",
        "data6['CRASH_DT'] = data6['CRASH_DT'].map(lambda x: change_date(x))\n",
        "data6['CRASH_DT'] = data6['CRASH_DT'].map(lambda x: to_time_it(x))\n",
        "\n",
        "data7['CRASH_DT'] = data7['CRASH_DT'].map(lambda x: change_date(x))\n",
        "data7['CRASH_DT'] = data7['CRASH_DT'].map(lambda x: to_time_it(x))\n",
        "\n",
        "data8['CRASH_DT'] = data8['CRASH_DT'].map(lambda x: change_date(x))\n",
        "data8['CRASH_DT'] = data8['CRASH_DT'].map(lambda x: to_time_it(x))\n",
        "\n",
        "data9['CRASH_DT'] = data9['CRASH_DT'].map(lambda x: change_date(x))\n",
        "data9['CRASH_DT'] = data9['CRASH_DT'].map(lambda x: to_time_it(x))\n",
        "\n",
        "data1.head()"
      ],
      "execution_count": null,
      "outputs": [
        {
          "output_type": "stream",
          "name": "stderr",
          "text": [
            "/usr/local/lib/python3.7/dist-packages/ipykernel_launcher.py:1: SettingWithCopyWarning: \n",
            "A value is trying to be set on a copy of a slice from a DataFrame.\n",
            "Try using .loc[row_indexer,col_indexer] = value instead\n",
            "\n",
            "See the caveats in the documentation: https://pandas.pydata.org/pandas-docs/stable/user_guide/indexing.html#returning-a-view-versus-a-copy\n",
            "  \"\"\"Entry point for launching an IPython kernel.\n",
            "/usr/local/lib/python3.7/dist-packages/ipykernel_launcher.py:2: SettingWithCopyWarning: \n",
            "A value is trying to be set on a copy of a slice from a DataFrame.\n",
            "Try using .loc[row_indexer,col_indexer] = value instead\n",
            "\n",
            "See the caveats in the documentation: https://pandas.pydata.org/pandas-docs/stable/user_guide/indexing.html#returning-a-view-versus-a-copy\n",
            "  \n",
            "/usr/local/lib/python3.7/dist-packages/ipykernel_launcher.py:4: SettingWithCopyWarning: \n",
            "A value is trying to be set on a copy of a slice from a DataFrame.\n",
            "Try using .loc[row_indexer,col_indexer] = value instead\n",
            "\n",
            "See the caveats in the documentation: https://pandas.pydata.org/pandas-docs/stable/user_guide/indexing.html#returning-a-view-versus-a-copy\n",
            "  after removing the cwd from sys.path.\n",
            "/usr/local/lib/python3.7/dist-packages/ipykernel_launcher.py:5: SettingWithCopyWarning: \n",
            "A value is trying to be set on a copy of a slice from a DataFrame.\n",
            "Try using .loc[row_indexer,col_indexer] = value instead\n",
            "\n",
            "See the caveats in the documentation: https://pandas.pydata.org/pandas-docs/stable/user_guide/indexing.html#returning-a-view-versus-a-copy\n",
            "  \"\"\"\n",
            "/usr/local/lib/python3.7/dist-packages/ipykernel_launcher.py:7: SettingWithCopyWarning: \n",
            "A value is trying to be set on a copy of a slice from a DataFrame.\n",
            "Try using .loc[row_indexer,col_indexer] = value instead\n",
            "\n",
            "See the caveats in the documentation: https://pandas.pydata.org/pandas-docs/stable/user_guide/indexing.html#returning-a-view-versus-a-copy\n",
            "  import sys\n",
            "/usr/local/lib/python3.7/dist-packages/ipykernel_launcher.py:8: SettingWithCopyWarning: \n",
            "A value is trying to be set on a copy of a slice from a DataFrame.\n",
            "Try using .loc[row_indexer,col_indexer] = value instead\n",
            "\n",
            "See the caveats in the documentation: https://pandas.pydata.org/pandas-docs/stable/user_guide/indexing.html#returning-a-view-versus-a-copy\n",
            "  \n",
            "/usr/local/lib/python3.7/dist-packages/ipykernel_launcher.py:10: SettingWithCopyWarning: \n",
            "A value is trying to be set on a copy of a slice from a DataFrame.\n",
            "Try using .loc[row_indexer,col_indexer] = value instead\n",
            "\n",
            "See the caveats in the documentation: https://pandas.pydata.org/pandas-docs/stable/user_guide/indexing.html#returning-a-view-versus-a-copy\n",
            "  # Remove the CWD from sys.path while we load stuff.\n",
            "/usr/local/lib/python3.7/dist-packages/ipykernel_launcher.py:11: SettingWithCopyWarning: \n",
            "A value is trying to be set on a copy of a slice from a DataFrame.\n",
            "Try using .loc[row_indexer,col_indexer] = value instead\n",
            "\n",
            "See the caveats in the documentation: https://pandas.pydata.org/pandas-docs/stable/user_guide/indexing.html#returning-a-view-versus-a-copy\n",
            "  # This is added back by InteractiveShellApp.init_path()\n",
            "/usr/local/lib/python3.7/dist-packages/ipykernel_launcher.py:13: SettingWithCopyWarning: \n",
            "A value is trying to be set on a copy of a slice from a DataFrame.\n",
            "Try using .loc[row_indexer,col_indexer] = value instead\n",
            "\n",
            "See the caveats in the documentation: https://pandas.pydata.org/pandas-docs/stable/user_guide/indexing.html#returning-a-view-versus-a-copy\n",
            "  del sys.path[0]\n",
            "/usr/local/lib/python3.7/dist-packages/ipykernel_launcher.py:14: SettingWithCopyWarning: \n",
            "A value is trying to be set on a copy of a slice from a DataFrame.\n",
            "Try using .loc[row_indexer,col_indexer] = value instead\n",
            "\n",
            "See the caveats in the documentation: https://pandas.pydata.org/pandas-docs/stable/user_guide/indexing.html#returning-a-view-versus-a-copy\n",
            "  \n",
            "/usr/local/lib/python3.7/dist-packages/ipykernel_launcher.py:16: SettingWithCopyWarning: \n",
            "A value is trying to be set on a copy of a slice from a DataFrame.\n",
            "Try using .loc[row_indexer,col_indexer] = value instead\n",
            "\n",
            "See the caveats in the documentation: https://pandas.pydata.org/pandas-docs/stable/user_guide/indexing.html#returning-a-view-versus-a-copy\n",
            "  app.launch_new_instance()\n",
            "/usr/local/lib/python3.7/dist-packages/ipykernel_launcher.py:17: SettingWithCopyWarning: \n",
            "A value is trying to be set on a copy of a slice from a DataFrame.\n",
            "Try using .loc[row_indexer,col_indexer] = value instead\n",
            "\n",
            "See the caveats in the documentation: https://pandas.pydata.org/pandas-docs/stable/user_guide/indexing.html#returning-a-view-versus-a-copy\n",
            "/usr/local/lib/python3.7/dist-packages/ipykernel_launcher.py:19: SettingWithCopyWarning: \n",
            "A value is trying to be set on a copy of a slice from a DataFrame.\n",
            "Try using .loc[row_indexer,col_indexer] = value instead\n",
            "\n",
            "See the caveats in the documentation: https://pandas.pydata.org/pandas-docs/stable/user_guide/indexing.html#returning-a-view-versus-a-copy\n",
            "/usr/local/lib/python3.7/dist-packages/ipykernel_launcher.py:20: SettingWithCopyWarning: \n",
            "A value is trying to be set on a copy of a slice from a DataFrame.\n",
            "Try using .loc[row_indexer,col_indexer] = value instead\n",
            "\n",
            "See the caveats in the documentation: https://pandas.pydata.org/pandas-docs/stable/user_guide/indexing.html#returning-a-view-versus-a-copy\n",
            "/usr/local/lib/python3.7/dist-packages/ipykernel_launcher.py:22: SettingWithCopyWarning: \n",
            "A value is trying to be set on a copy of a slice from a DataFrame.\n",
            "Try using .loc[row_indexer,col_indexer] = value instead\n",
            "\n",
            "See the caveats in the documentation: https://pandas.pydata.org/pandas-docs/stable/user_guide/indexing.html#returning-a-view-versus-a-copy\n",
            "/usr/local/lib/python3.7/dist-packages/ipykernel_launcher.py:23: SettingWithCopyWarning: \n",
            "A value is trying to be set on a copy of a slice from a DataFrame.\n",
            "Try using .loc[row_indexer,col_indexer] = value instead\n",
            "\n",
            "See the caveats in the documentation: https://pandas.pydata.org/pandas-docs/stable/user_guide/indexing.html#returning-a-view-versus-a-copy\n",
            "/usr/local/lib/python3.7/dist-packages/ipykernel_launcher.py:25: SettingWithCopyWarning: \n",
            "A value is trying to be set on a copy of a slice from a DataFrame.\n",
            "Try using .loc[row_indexer,col_indexer] = value instead\n",
            "\n",
            "See the caveats in the documentation: https://pandas.pydata.org/pandas-docs/stable/user_guide/indexing.html#returning-a-view-versus-a-copy\n",
            "/usr/local/lib/python3.7/dist-packages/ipykernel_launcher.py:26: SettingWithCopyWarning: \n",
            "A value is trying to be set on a copy of a slice from a DataFrame.\n",
            "Try using .loc[row_indexer,col_indexer] = value instead\n",
            "\n",
            "See the caveats in the documentation: https://pandas.pydata.org/pandas-docs/stable/user_guide/indexing.html#returning-a-view-versus-a-copy\n"
          ]
        },
        {
          "output_type": "execute_result",
          "data": {
            "text/html": [
              "<div>\n",
              "<style scoped>\n",
              "    .dataframe tbody tr th:only-of-type {\n",
              "        vertical-align: middle;\n",
              "    }\n",
              "\n",
              "    .dataframe tbody tr th {\n",
              "        vertical-align: top;\n",
              "    }\n",
              "\n",
              "    .dataframe thead th {\n",
              "        text-align: right;\n",
              "    }\n",
              "</style>\n",
              "<table border=\"1\" class=\"dataframe\">\n",
              "  <thead>\n",
              "    <tr style=\"text-align: right;\">\n",
              "      <th></th>\n",
              "      <th>X</th>\n",
              "      <th>Y</th>\n",
              "      <th>OBJECTID</th>\n",
              "      <th>DOCUMENT_NBR</th>\n",
              "      <th>CRASH_YEAR</th>\n",
              "      <th>CRASH_DT</th>\n",
              "      <th>CRASH_MILITARY_TM</th>\n",
              "      <th>CRASH_SEVERITY</th>\n",
              "      <th>K_PEOPLE</th>\n",
              "      <th>A_PEOPLE</th>\n",
              "      <th>B_PEOPLE</th>\n",
              "      <th>C_PEOPLE</th>\n",
              "      <th>PERSONS_INJURED</th>\n",
              "      <th>PEDESTRIANS_KILLED</th>\n",
              "      <th>PEDESTRIANS_INJURED</th>\n",
              "      <th>VEH_COUNT</th>\n",
              "      <th>COLLISION_TYPE</th>\n",
              "      <th>WEATHER_CONDITION</th>\n",
              "      <th>LIGHT_CONDITION</th>\n",
              "      <th>RD_TYPE</th>\n",
              "      <th>ROADWAY_SURFACE_COND</th>\n",
              "      <th>RELATION_TO_ROADWAY</th>\n",
              "      <th>ROADWAY_ALIGNMENT</th>\n",
              "      <th>ROADWAY_SURFACE_TYPE</th>\n",
              "      <th>ROADWAY_DEFECT</th>\n",
              "      <th>ROADWAY_DESCRIPTION</th>\n",
              "      <th>INTERSECTION_TYPE</th>\n",
              "      <th>TRAFFIC_CONTROL_TYPE</th>\n",
              "      <th>TRFC_CTRL_STATUS_TYPE</th>\n",
              "      <th>WORK_ZONE_RELATED</th>\n",
              "      <th>WORK_ZONE_LOCATION</th>\n",
              "      <th>WORK_ZONE_TYPE</th>\n",
              "      <th>FIRST_HARMFUL_EVENT</th>\n",
              "      <th>FIRST_HARMFUL_EVENT_LOC</th>\n",
              "      <th>ALCOHOL_NOTALCOHOL</th>\n",
              "      <th>BELTED_UNBELTED</th>\n",
              "      <th>BIKE_NONBIKE</th>\n",
              "      <th>DISTRACTED_NOTDISTRACTED</th>\n",
              "      <th>DROWSY_NOTDROWSY</th>\n",
              "      <th>DRUG_NODRUG</th>\n",
              "      <th>GR_NOGR</th>\n",
              "      <th>HITRUN_NOT_HITRUN</th>\n",
              "      <th>LGTRUCK_NONLGTRUCK</th>\n",
              "      <th>MOTOR_NONMOTOR</th>\n",
              "      <th>PED_NONPED</th>\n",
              "      <th>SPEED_NOTSPEED</th>\n",
              "      <th>SCHOOL_ZONE</th>\n",
              "      <th>SENIOR_NOTSENIOR</th>\n",
              "      <th>YOUNG_NOTYOUNG</th>\n",
              "      <th>MAINLINE_YN</th>\n",
              "      <th>NIGHT</th>\n",
              "      <th>VDOT_DISTRICT</th>\n",
              "      <th>JURIS_CODE</th>\n",
              "      <th>PHYSICAL_JURIS</th>\n",
              "      <th>FUN</th>\n",
              "      <th>FAC</th>\n",
              "      <th>AREA_TYPE</th>\n",
              "      <th>SYSTEM</th>\n",
              "      <th>VSP</th>\n",
              "      <th>OWNERSHIP</th>\n",
              "      <th>INTERSECTION_ANALYSIS</th>\n",
              "      <th>PLAN_DISTRICT</th>\n",
              "      <th>MPO_NAME</th>\n",
              "      <th>RTE_NM</th>\n",
              "      <th>RNS_MP</th>\n",
              "      <th>NODE</th>\n",
              "      <th>OFFSET</th>\n",
              "      <th>ANIMAL</th>\n",
              "      <th>SPEED_DIFF_MAX</th>\n",
              "    </tr>\n",
              "  </thead>\n",
              "  <tbody>\n",
              "    <tr>\n",
              "      <th>2</th>\n",
              "      <td>-77.220990</td>\n",
              "      <td>38.762770</td>\n",
              "      <td>3</td>\n",
              "      <td>141740135</td>\n",
              "      <td>2014</td>\n",
              "      <td>2014-03-01</td>\n",
              "      <td>1746</td>\n",
              "      <td>C. Nonvisible Injury</td>\n",
              "      <td>0</td>\n",
              "      <td>0</td>\n",
              "      <td>0</td>\n",
              "      <td>1</td>\n",
              "      <td>1</td>\n",
              "      <td>0</td>\n",
              "      <td>0</td>\n",
              "      <td>2</td>\n",
              "      <td>1. Rear End</td>\n",
              "      <td>1. No Adverse Condition (Clear/Cloudy)</td>\n",
              "      <td>2. Daylight</td>\n",
              "      <td>NOT_RD</td>\n",
              "      <td>1. Dry</td>\n",
              "      <td>10. Intersection Related - Within 150 Feet</td>\n",
              "      <td>1. Straight - Level</td>\n",
              "      <td>2. Blacktop, Asphalt, Bituminous</td>\n",
              "      <td>1. No Defects</td>\n",
              "      <td>2. Two-Way, Divided, Unprotected Median</td>\n",
              "      <td>2. Two Approaches</td>\n",
              "      <td>6. Traffic Lanes Marked</td>\n",
              "      <td>6. No Traffic Control Device Present</td>\n",
              "      <td>2. No</td>\n",
              "      <td>NaN</td>\n",
              "      <td>NaN</td>\n",
              "      <td>20. Motor Vehicle In Transport</td>\n",
              "      <td>1. On Roadway</td>\n",
              "      <td>No</td>\n",
              "      <td>Belted</td>\n",
              "      <td>No</td>\n",
              "      <td>Yes</td>\n",
              "      <td>No</td>\n",
              "      <td>No</td>\n",
              "      <td>No</td>\n",
              "      <td>No</td>\n",
              "      <td>No</td>\n",
              "      <td>No</td>\n",
              "      <td>No</td>\n",
              "      <td>No</td>\n",
              "      <td>3. No</td>\n",
              "      <td>No</td>\n",
              "      <td>No</td>\n",
              "      <td>No</td>\n",
              "      <td>No</td>\n",
              "      <td>9. Northern Virginia</td>\n",
              "      <td>29.0</td>\n",
              "      <td>029. Fairfax County</td>\n",
              "      <td>H. Urban Minor Arterial</td>\n",
              "      <td>4. One-way, part of a one-way system</td>\n",
              "      <td>Urban</td>\n",
              "      <td>SECONDARY</td>\n",
              "      <td>7.0</td>\n",
              "      <td>VDOT_SEC</td>\n",
              "      <td>VDOT Intersection</td>\n",
              "      <td>Northern Virginia</td>\n",
              "      <td>Northern Virginia Portion of The Metropolitan ...</td>\n",
              "      <td>R-VA029SC06945NB      RMP001.00A</td>\n",
              "      <td>0.03</td>\n",
              "      <td>757276.0</td>\n",
              "      <td>0.0</td>\n",
              "      <td>No</td>\n",
              "      <td>NaN</td>\n",
              "    </tr>\n",
              "    <tr>\n",
              "      <th>4</th>\n",
              "      <td>-77.306306</td>\n",
              "      <td>38.847087</td>\n",
              "      <td>5</td>\n",
              "      <td>141715186</td>\n",
              "      <td>2014</td>\n",
              "      <td>2014-06-01</td>\n",
              "      <td>806</td>\n",
              "      <td>B. Visible Injury</td>\n",
              "      <td>0</td>\n",
              "      <td>0</td>\n",
              "      <td>1</td>\n",
              "      <td>0</td>\n",
              "      <td>1</td>\n",
              "      <td>0</td>\n",
              "      <td>0</td>\n",
              "      <td>2</td>\n",
              "      <td>1. Rear End</td>\n",
              "      <td>1. No Adverse Condition (Clear/Cloudy)</td>\n",
              "      <td>2. Daylight</td>\n",
              "      <td>NOT_RD</td>\n",
              "      <td>1. Dry</td>\n",
              "      <td>8. Non-Intersection</td>\n",
              "      <td>1. Straight - Level</td>\n",
              "      <td>2. Blacktop, Asphalt, Bituminous</td>\n",
              "      <td>1. No Defects</td>\n",
              "      <td>1. Two-Way, Not Divided</td>\n",
              "      <td>1. Not at Intersection</td>\n",
              "      <td>6. Traffic Lanes Marked</td>\n",
              "      <td>1. Yes - Working</td>\n",
              "      <td>2. No</td>\n",
              "      <td>NaN</td>\n",
              "      <td>NaN</td>\n",
              "      <td>20. Motor Vehicle In Transport</td>\n",
              "      <td>1. On Roadway</td>\n",
              "      <td>No</td>\n",
              "      <td>Unbelted</td>\n",
              "      <td>No</td>\n",
              "      <td>No</td>\n",
              "      <td>No</td>\n",
              "      <td>No</td>\n",
              "      <td>No</td>\n",
              "      <td>No</td>\n",
              "      <td>No</td>\n",
              "      <td>No</td>\n",
              "      <td>No</td>\n",
              "      <td>No</td>\n",
              "      <td>3. No</td>\n",
              "      <td>No</td>\n",
              "      <td>Yes</td>\n",
              "      <td>Yes</td>\n",
              "      <td>No</td>\n",
              "      <td>9. Northern Virginia</td>\n",
              "      <td>151.0</td>\n",
              "      <td>151. City of Fairfax</td>\n",
              "      <td>E. Urban Other Principal Arterials; Connecting...</td>\n",
              "      <td>0. Two-way, non-divided</td>\n",
              "      <td>Urban</td>\n",
              "      <td>OTHER</td>\n",
              "      <td>7.0</td>\n",
              "      <td>URBAN_PRI</td>\n",
              "      <td>Urban Intersection</td>\n",
              "      <td>Northern Virginia</td>\n",
              "      <td>Northern Virginia Portion of The Metropolitan ...</td>\n",
              "      <td>R-VA   SR00123SB</td>\n",
              "      <td>15.01</td>\n",
              "      <td>278857.0</td>\n",
              "      <td>53.0</td>\n",
              "      <td>No</td>\n",
              "      <td>NaN</td>\n",
              "    </tr>\n",
              "    <tr>\n",
              "      <th>12</th>\n",
              "      <td>-77.670294</td>\n",
              "      <td>38.883672</td>\n",
              "      <td>13</td>\n",
              "      <td>141675203</td>\n",
              "      <td>2014</td>\n",
              "      <td>2014-06-01</td>\n",
              "      <td>1400</td>\n",
              "      <td>B. Visible Injury</td>\n",
              "      <td>0</td>\n",
              "      <td>0</td>\n",
              "      <td>1</td>\n",
              "      <td>0</td>\n",
              "      <td>1</td>\n",
              "      <td>0</td>\n",
              "      <td>0</td>\n",
              "      <td>2</td>\n",
              "      <td>2. Angle</td>\n",
              "      <td>1. No Adverse Condition (Clear/Cloudy)</td>\n",
              "      <td>2. Daylight</td>\n",
              "      <td>NOT_RD</td>\n",
              "      <td>1. Dry</td>\n",
              "      <td>9. Within Intersection</td>\n",
              "      <td>5. Hillcrest - Straight</td>\n",
              "      <td>2. Blacktop, Asphalt, Bituminous</td>\n",
              "      <td>1. No Defects</td>\n",
              "      <td>2. Two-Way, Divided, Unprotected Median</td>\n",
              "      <td>2. Two Approaches</td>\n",
              "      <td>4. Stop Sign</td>\n",
              "      <td>1. Yes - Working</td>\n",
              "      <td>2. No</td>\n",
              "      <td>NaN</td>\n",
              "      <td>NaN</td>\n",
              "      <td>20. Motor Vehicle In Transport</td>\n",
              "      <td>1. On Roadway</td>\n",
              "      <td>No</td>\n",
              "      <td>Belted</td>\n",
              "      <td>Yes</td>\n",
              "      <td>Yes</td>\n",
              "      <td>No</td>\n",
              "      <td>No</td>\n",
              "      <td>No</td>\n",
              "      <td>No</td>\n",
              "      <td>No</td>\n",
              "      <td>No</td>\n",
              "      <td>No</td>\n",
              "      <td>No</td>\n",
              "      <td>3. No</td>\n",
              "      <td>No</td>\n",
              "      <td>No</td>\n",
              "      <td>Yes</td>\n",
              "      <td>No</td>\n",
              "      <td>9. Northern Virginia</td>\n",
              "      <td>76.0</td>\n",
              "      <td>076. Prince William County</td>\n",
              "      <td>6. Rural Local</td>\n",
              "      <td>0. Two-way, non-divided</td>\n",
              "      <td>Rural</td>\n",
              "      <td>SECONDARY</td>\n",
              "      <td>7.0</td>\n",
              "      <td>VDOT_SEC</td>\n",
              "      <td>VDOT Intersection</td>\n",
              "      <td>Northern Virginia</td>\n",
              "      <td>Northern Virginia Portion of The Metropolitan ...</td>\n",
              "      <td>R-VA076SC00600SB</td>\n",
              "      <td>2.22</td>\n",
              "      <td>546004.0</td>\n",
              "      <td>95.0</td>\n",
              "      <td>No</td>\n",
              "      <td>NaN</td>\n",
              "    </tr>\n",
              "    <tr>\n",
              "      <th>19</th>\n",
              "      <td>-77.300515</td>\n",
              "      <td>38.850329</td>\n",
              "      <td>20</td>\n",
              "      <td>143525245</td>\n",
              "      <td>2014</td>\n",
              "      <td>2014-12-01</td>\n",
              "      <td>900</td>\n",
              "      <td>B. Visible Injury</td>\n",
              "      <td>0</td>\n",
              "      <td>0</td>\n",
              "      <td>1</td>\n",
              "      <td>1</td>\n",
              "      <td>2</td>\n",
              "      <td>0</td>\n",
              "      <td>0</td>\n",
              "      <td>2</td>\n",
              "      <td>4. Sideswipe - Same Direction</td>\n",
              "      <td>1. No Adverse Condition (Clear/Cloudy)</td>\n",
              "      <td>2. Daylight</td>\n",
              "      <td>NOT_RD</td>\n",
              "      <td>1. Dry</td>\n",
              "      <td>10. Intersection Related - Within 150 Feet</td>\n",
              "      <td>1. Straight - Level</td>\n",
              "      <td>2. Blacktop, Asphalt, Bituminous</td>\n",
              "      <td>1. No Defects</td>\n",
              "      <td>1. Two-Way, Not Divided</td>\n",
              "      <td>4. Four Approaches</td>\n",
              "      <td>4. Stop Sign</td>\n",
              "      <td>1. Yes - Working</td>\n",
              "      <td>2. No</td>\n",
              "      <td>NaN</td>\n",
              "      <td>NaN</td>\n",
              "      <td>20. Motor Vehicle In Transport</td>\n",
              "      <td>1. On Roadway</td>\n",
              "      <td>No</td>\n",
              "      <td>Belted</td>\n",
              "      <td>No</td>\n",
              "      <td>No</td>\n",
              "      <td>No</td>\n",
              "      <td>No</td>\n",
              "      <td>No</td>\n",
              "      <td>No</td>\n",
              "      <td>No</td>\n",
              "      <td>No</td>\n",
              "      <td>No</td>\n",
              "      <td>No</td>\n",
              "      <td>3. No</td>\n",
              "      <td>No</td>\n",
              "      <td>No</td>\n",
              "      <td>Yes</td>\n",
              "      <td>No</td>\n",
              "      <td>9. Northern Virginia</td>\n",
              "      <td>151.0</td>\n",
              "      <td>151. City of Fairfax</td>\n",
              "      <td>I. Urban Collector</td>\n",
              "      <td>0. Two-way, non-divided</td>\n",
              "      <td>Urban</td>\n",
              "      <td>OTHER</td>\n",
              "      <td>7.0</td>\n",
              "      <td>URBAN_SEC</td>\n",
              "      <td>Urban Intersection</td>\n",
              "      <td>Northern Virginia</td>\n",
              "      <td>Northern Virginia Portion of The Metropolitan ...</td>\n",
              "      <td>R-VA151UR00003WB</td>\n",
              "      <td>0.22</td>\n",
              "      <td>279681.0</td>\n",
              "      <td>359.0</td>\n",
              "      <td>No</td>\n",
              "      <td>NaN</td>\n",
              "    </tr>\n",
              "    <tr>\n",
              "      <th>20</th>\n",
              "      <td>-77.068308</td>\n",
              "      <td>38.855431</td>\n",
              "      <td>21</td>\n",
              "      <td>142005120</td>\n",
              "      <td>2014</td>\n",
              "      <td>2014-07-01</td>\n",
              "      <td>1156</td>\n",
              "      <td>PDO. Property Damage Only</td>\n",
              "      <td>0</td>\n",
              "      <td>0</td>\n",
              "      <td>0</td>\n",
              "      <td>0</td>\n",
              "      <td>0</td>\n",
              "      <td>0</td>\n",
              "      <td>0</td>\n",
              "      <td>3</td>\n",
              "      <td>1. Rear End</td>\n",
              "      <td>1. No Adverse Condition (Clear/Cloudy)</td>\n",
              "      <td>2. Daylight</td>\n",
              "      <td>NOT_RD</td>\n",
              "      <td>1. Dry</td>\n",
              "      <td>10. Intersection Related - Within 150 Feet</td>\n",
              "      <td>1. Straight - Level</td>\n",
              "      <td>2. Blacktop, Asphalt, Bituminous</td>\n",
              "      <td>1. No Defects</td>\n",
              "      <td>2. Two-Way, Divided, Unprotected Median</td>\n",
              "      <td>4. Four Approaches</td>\n",
              "      <td>8. Yield Sign</td>\n",
              "      <td>1. Yes - Working</td>\n",
              "      <td>2. No</td>\n",
              "      <td>NaN</td>\n",
              "      <td>NaN</td>\n",
              "      <td>20. Motor Vehicle In Transport</td>\n",
              "      <td>1. On Roadway</td>\n",
              "      <td>No</td>\n",
              "      <td>Belted</td>\n",
              "      <td>No</td>\n",
              "      <td>No</td>\n",
              "      <td>No</td>\n",
              "      <td>No</td>\n",
              "      <td>No</td>\n",
              "      <td>No</td>\n",
              "      <td>No</td>\n",
              "      <td>No</td>\n",
              "      <td>No</td>\n",
              "      <td>No</td>\n",
              "      <td>3. No</td>\n",
              "      <td>No</td>\n",
              "      <td>No</td>\n",
              "      <td>Yes</td>\n",
              "      <td>No</td>\n",
              "      <td>9. Northern Virginia</td>\n",
              "      <td>0.0</td>\n",
              "      <td>000. Arlington County</td>\n",
              "      <td>H. Urban Minor Arterial</td>\n",
              "      <td>0. Two-way, non-divided</td>\n",
              "      <td>Urban</td>\n",
              "      <td>OTHER</td>\n",
              "      <td>7.0</td>\n",
              "      <td>URBAN_SEC</td>\n",
              "      <td>Urban Intersection</td>\n",
              "      <td>Northern Virginia</td>\n",
              "      <td>Northern Virginia Portion of The Metropolitan ...</td>\n",
              "      <td>R-VA000SC06591NB</td>\n",
              "      <td>0.78</td>\n",
              "      <td>100773.0</td>\n",
              "      <td>829.0</td>\n",
              "      <td>No</td>\n",
              "      <td>NaN</td>\n",
              "    </tr>\n",
              "  </tbody>\n",
              "</table>\n",
              "</div>"
            ],
            "text/plain": [
              "            X          Y  OBJECTID  ...  OFFSET  ANIMAL SPEED_DIFF_MAX\n",
              "2  -77.220990  38.762770         3  ...     0.0      No            NaN\n",
              "4  -77.306306  38.847087         5  ...    53.0      No            NaN\n",
              "12 -77.670294  38.883672        13  ...    95.0      No            NaN\n",
              "19 -77.300515  38.850329        20  ...   359.0      No            NaN\n",
              "20 -77.068308  38.855431        21  ...   829.0      No            NaN\n",
              "\n",
              "[5 rows x 69 columns]"
            ]
          },
          "metadata": {},
          "execution_count": 121
        }
      ]
    },
    {
      "cell_type": "code",
      "metadata": {
        "colab": {
          "base_uri": "https://localhost:8080/"
        },
        "id": "E4QYqJWHeI1-",
        "outputId": "9f64df2c-9e30-4fd6-f0c7-c7c396e6f4f0"
      },
      "source": [
        "data1['WORK_ZONE_LOCATION'].value_counts()"
      ],
      "execution_count": null,
      "outputs": [
        {
          "output_type": "execute_result",
          "data": {
            "text/plain": [
              "3. Activity Area           5216\n",
              "1. Advance Warning Area    1086\n",
              "2. Transition Area          772\n",
              "4. Termination Area         316\n",
              "Name: WORK_ZONE_LOCATION, dtype: int64"
            ]
          },
          "metadata": {},
          "execution_count": 122
        }
      ]
    },
    {
      "cell_type": "code",
      "metadata": {
        "id": "H3U5UTm-eI1-"
      },
      "source": [
        "#data1.set_index('RTE_NM', inplace=True)"
      ],
      "execution_count": null,
      "outputs": []
    },
    {
      "cell_type": "code",
      "metadata": {
        "id": "-ljGN6FXeI1_"
      },
      "source": [
        "#data1.head()"
      ],
      "execution_count": null,
      "outputs": []
    },
    {
      "cell_type": "code",
      "metadata": {
        "id": "HvhVHsGCeI1_"
      },
      "source": [
        "#, Suspected Serious Injury (A), \n",
        "#Suspected Minor Injury (B), Possible Injury (C), and No Apparent Injury (O)"
      ],
      "execution_count": null,
      "outputs": []
    },
    {
      "cell_type": "code",
      "metadata": {
        "id": "OwM-8M8geI2A"
      },
      "source": [
        "data1 = data1[['CRASH_DT','K_PEOPLE', 'PERSONS_INJURED', 'PEDESTRIANS_KILLED',\n",
        "       'PEDESTRIANS_INJURED']]\n",
        "data2 = data2[['CRASH_DT','K_PEOPLE', 'PERSONS_INJURED', 'PEDESTRIANS_KILLED',\n",
        "       'PEDESTRIANS_INJURED']]\n",
        "data3 = data3[['CRASH_DT','K_PEOPLE', 'PERSONS_INJURED', 'PEDESTRIANS_KILLED',\n",
        "       'PEDESTRIANS_INJURED']]\n",
        "data4 = data4[['CRASH_DT','K_PEOPLE', 'PERSONS_INJURED', 'PEDESTRIANS_KILLED',\n",
        "       'PEDESTRIANS_INJURED']]\n",
        "data5 = data5[['CRASH_DT','K_PEOPLE', 'PERSONS_INJURED', 'PEDESTRIANS_KILLED',\n",
        "       'PEDESTRIANS_INJURED']]\n",
        "data6 = data6[['CRASH_DT','K_PEOPLE', 'PERSONS_INJURED', 'PEDESTRIANS_KILLED',\n",
        "       'PEDESTRIANS_INJURED']]\n",
        "data7 = data7[['CRASH_DT','K_PEOPLE', 'PERSONS_INJURED', 'PEDESTRIANS_KILLED',\n",
        "       'PEDESTRIANS_INJURED']]\n",
        "data8 = data8[['CRASH_DT','K_PEOPLE', 'PERSONS_INJURED', 'PEDESTRIANS_KILLED',\n",
        "       'PEDESTRIANS_INJURED']]     \n",
        "data9 = data9[['CRASH_DT','K_PEOPLE', 'PERSONS_INJURED', 'PEDESTRIANS_KILLED',\n",
        "       'PEDESTRIANS_INJURED']]              "
      ],
      "execution_count": null,
      "outputs": []
    },
    {
      "cell_type": "code",
      "metadata": {
        "id": "DBlafyp2eI2B"
      },
      "source": [
        "grouped1 = data1.groupby(by = [\"CRASH_DT\"]).sum()\n",
        "grouped2 = data2.groupby(by = [\"CRASH_DT\"]).sum()\n",
        "grouped3 = data3.groupby(by = [\"CRASH_DT\"]).sum()\n",
        "grouped4 = data4.groupby(by = [\"CRASH_DT\"]).sum()\n",
        "grouped5 = data5.groupby(by = [\"CRASH_DT\"]).sum()\n",
        "grouped6 = data6.groupby(by = [\"CRASH_DT\"]).sum()\n",
        "grouped7 = data7.groupby(by = [\"CRASH_DT\"]).sum()\n",
        "grouped8 = data8.groupby(by = [\"CRASH_DT\"]).sum()\n",
        "grouped9 = data9.groupby(by = [\"CRASH_DT\"]).sum()"
      ],
      "execution_count": null,
      "outputs": []
    },
    {
      "cell_type": "code",
      "metadata": {
        "id": "iAAC7ekZeI2B"
      },
      "source": [
        "\n",
        "#crashed_dt = grouped.sum()\n",
        "#CRASH_DT.loc[rows, columns]"
      ],
      "execution_count": null,
      "outputs": []
    },
    {
      "cell_type": "code",
      "metadata": {
        "colab": {
          "base_uri": "https://localhost:8080/",
          "height": 235
        },
        "id": "iHHoEXOQeI2B",
        "outputId": "1a71fa6a-f713-4214-9eea-05e788378da2"
      },
      "source": [
        "grouped1.head()"
      ],
      "execution_count": null,
      "outputs": [
        {
          "output_type": "execute_result",
          "data": {
            "text/html": [
              "<div>\n",
              "<style scoped>\n",
              "    .dataframe tbody tr th:only-of-type {\n",
              "        vertical-align: middle;\n",
              "    }\n",
              "\n",
              "    .dataframe tbody tr th {\n",
              "        vertical-align: top;\n",
              "    }\n",
              "\n",
              "    .dataframe thead th {\n",
              "        text-align: right;\n",
              "    }\n",
              "</style>\n",
              "<table border=\"1\" class=\"dataframe\">\n",
              "  <thead>\n",
              "    <tr style=\"text-align: right;\">\n",
              "      <th></th>\n",
              "      <th>K_PEOPLE</th>\n",
              "      <th>PERSONS_INJURED</th>\n",
              "      <th>PEDESTRIANS_KILLED</th>\n",
              "      <th>PEDESTRIANS_INJURED</th>\n",
              "    </tr>\n",
              "    <tr>\n",
              "      <th>CRASH_DT</th>\n",
              "      <th></th>\n",
              "      <th></th>\n",
              "      <th></th>\n",
              "      <th></th>\n",
              "    </tr>\n",
              "  </thead>\n",
              "  <tbody>\n",
              "    <tr>\n",
              "      <th>2014-01-01</th>\n",
              "      <td>7</td>\n",
              "      <td>1135</td>\n",
              "      <td>1</td>\n",
              "      <td>51</td>\n",
              "    </tr>\n",
              "    <tr>\n",
              "      <th>2014-02-01</th>\n",
              "      <td>9</td>\n",
              "      <td>1000</td>\n",
              "      <td>3</td>\n",
              "      <td>32</td>\n",
              "    </tr>\n",
              "    <tr>\n",
              "      <th>2014-03-01</th>\n",
              "      <td>7</td>\n",
              "      <td>1166</td>\n",
              "      <td>3</td>\n",
              "      <td>22</td>\n",
              "    </tr>\n",
              "    <tr>\n",
              "      <th>2014-04-01</th>\n",
              "      <td>3</td>\n",
              "      <td>1271</td>\n",
              "      <td>0</td>\n",
              "      <td>44</td>\n",
              "    </tr>\n",
              "    <tr>\n",
              "      <th>2014-05-01</th>\n",
              "      <td>12</td>\n",
              "      <td>1514</td>\n",
              "      <td>2</td>\n",
              "      <td>47</td>\n",
              "    </tr>\n",
              "  </tbody>\n",
              "</table>\n",
              "</div>"
            ],
            "text/plain": [
              "            K_PEOPLE  PERSONS_INJURED  PEDESTRIANS_KILLED  PEDESTRIANS_INJURED\n",
              "CRASH_DT                                                                      \n",
              "2014-01-01         7             1135                   1                   51\n",
              "2014-02-01         9             1000                   3                   32\n",
              "2014-03-01         7             1166                   3                   22\n",
              "2014-04-01         3             1271                   0                   44\n",
              "2014-05-01        12             1514                   2                   47"
            ]
          },
          "metadata": {},
          "execution_count": 129
        }
      ]
    },
    {
      "cell_type": "code",
      "metadata": {
        "id": "_NvPw7NneI2C"
      },
      "source": [
        "#check if stationary"
      ],
      "execution_count": null,
      "outputs": []
    },
    {
      "cell_type": "code",
      "metadata": {
        "id": "5zcXUVUdeI2C"
      },
      "source": [
        ""
      ],
      "execution_count": null,
      "outputs": []
    },
    {
      "cell_type": "code",
      "metadata": {
        "colab": {
          "base_uri": "https://localhost:8080/"
        },
        "id": "0EUeAYJQeI2C",
        "outputId": "a075e852-d39d-410a-b2bf-648fdb49c571"
      },
      "source": [
        "grouped1.dtypes\n"
      ],
      "execution_count": null,
      "outputs": [
        {
          "output_type": "execute_result",
          "data": {
            "text/plain": [
              "K_PEOPLE               int64\n",
              "PERSONS_INJURED        int64\n",
              "PEDESTRIANS_KILLED     int64\n",
              "PEDESTRIANS_INJURED    int64\n",
              "dtype: object"
            ]
          },
          "metadata": {},
          "execution_count": 131
        }
      ]
    },
    {
      "cell_type": "code",
      "metadata": {
        "id": "yxNAfEyGeI2D"
      },
      "source": [
        "#checking stationary"
      ],
      "execution_count": null,
      "outputs": []
    },
    {
      "cell_type": "code",
      "metadata": {
        "id": "OB7J4JELeI2D"
      },
      "source": [
        "from statsmodels.tsa.vector_ar.vecm import coint_johansen\n"
      ],
      "execution_count": null,
      "outputs": []
    },
    {
      "cell_type": "code",
      "metadata": {
        "colab": {
          "base_uri": "https://localhost:8080/"
        },
        "id": "0Qn3NN4feI2E",
        "outputId": "41d408ed-3955-4057-d14d-a5df83f86022"
      },
      "source": [
        "coint_johansen(grouped1,-1,1).eig\n",
        "coint_johansen(grouped2,-1,1).eig\n",
        "coint_johansen(grouped3,-1,1).eig\n",
        "coint_johansen(grouped4,-1,1).eig\n",
        "coint_johansen(grouped5,-1,1).eig\n",
        "coint_johansen(grouped6,-1,1).eig\n",
        "coint_johansen(grouped7,-1,1).eig\n",
        "coint_johansen(grouped8,-1,1).eig\n",
        "coint_johansen(grouped9,-1,1).eig\n"
      ],
      "execution_count": null,
      "outputs": [
        {
          "output_type": "execute_result",
          "data": {
            "text/plain": [
              "array([0.44943551, 0.26472482, 0.23459534, 0.00284976])"
            ]
          },
          "metadata": {},
          "execution_count": 134
        }
      ]
    },
    {
      "cell_type": "code",
      "metadata": {
        "id": "YT0bczCceI2E"
      },
      "source": [
        "#creating a train & validation set"
      ],
      "execution_count": null,
      "outputs": []
    },
    {
      "cell_type": "code",
      "metadata": {
        "id": "dfoBI3SreI2E"
      },
      "source": [
        "train1 = grouped1[:int(0.8*(len(grouped1)))]\n",
        "valid1 = grouped1[int(0.8*(len(grouped1))):]\n",
        "\n",
        "train2 = grouped2[:int(0.8*(len(grouped2)))]\n",
        "valid2 = grouped2[int(0.8*(len(grouped2))):]\n",
        "\n",
        "train3 = grouped3[:int(0.8*(len(grouped3)))]\n",
        "valid3 = grouped3[int(0.8*(len(grouped3))):]\n",
        "\n",
        "train4 = grouped4[:int(0.8*(len(grouped4)))]\n",
        "valid4 = grouped4[int(0.8*(len(grouped4))):]\n",
        "\n",
        "train5 = grouped5[:int(0.8*(len(grouped5)))]\n",
        "valid5 = grouped5[int(0.8*(len(grouped5))):]\n",
        "\n",
        "train6 = grouped6[:int(0.8*(len(grouped6)))]\n",
        "valid6 = grouped6[int(0.8*(len(grouped6))):]\n",
        "\n",
        "train7 = grouped7[:int(0.8*(len(grouped7)))]\n",
        "valid7 = grouped7[int(0.8*(len(grouped7))):]\n",
        "\n",
        "train8 = grouped8[:int(0.8*(len(grouped8)))]\n",
        "valid8 = grouped8[int(0.8*(len(grouped8))):]\n",
        "\n",
        "train9 = grouped9[:int(0.8*(len(grouped9)))]\n",
        "valid9 = grouped9[int(0.8*(len(grouped9))):]"
      ],
      "execution_count": null,
      "outputs": []
    },
    {
      "cell_type": "code",
      "metadata": {
        "id": "SOanEGAneI2E"
      },
      "source": [
        "from statsmodels.tsa.vector_ar.var_model import VAR\n"
      ],
      "execution_count": null,
      "outputs": []
    },
    {
      "cell_type": "code",
      "metadata": {
        "colab": {
          "base_uri": "https://localhost:8080/"
        },
        "id": "jmToTYnIeI2F",
        "outputId": "b6972b4c-fcf6-4ef8-8c12-e64d5ba93a48"
      },
      "source": [
        "model1 = VAR(endog=train1)\n",
        "model_fit1 = model1.fit()\n",
        "\n",
        "model2 = VAR(endog=train2)\n",
        "model_fit2 = model2.fit()\n",
        "\n",
        "model3 = VAR(endog=train3)\n",
        "model_fit3 = model3.fit()\n",
        "\n",
        "model4 = VAR(endog=train4)\n",
        "model_fit4 = model4.fit()\n",
        "\n",
        "model5 = VAR(endog=train5)\n",
        "model_fit5 = model5.fit()\n",
        "\n",
        "model6 = VAR(endog=train6)\n",
        "model_fit6 = model6.fit()\n",
        "\n",
        "model7 = VAR(endog=train7)\n",
        "model_fit7 = model7.fit()\n",
        "\n",
        "model8 = VAR(endog=train8)\n",
        "model_fit8 = model8.fit()\n",
        "\n",
        "model9 = VAR(endog=train9)\n",
        "model_fit9 = model9.fit()\n",
        "\n",
        "\n"
      ],
      "execution_count": null,
      "outputs": [
        {
          "output_type": "stream",
          "name": "stderr",
          "text": [
            "/usr/local/lib/python3.7/dist-packages/statsmodels/tsa/base/tsa_model.py:165: ValueWarning: No frequency information was provided, so inferred frequency MS will be used.\n",
            "  % freq, ValueWarning)\n",
            "/usr/local/lib/python3.7/dist-packages/statsmodels/tsa/base/tsa_model.py:165: ValueWarning: No frequency information was provided, so inferred frequency MS will be used.\n",
            "  % freq, ValueWarning)\n",
            "/usr/local/lib/python3.7/dist-packages/statsmodels/tsa/base/tsa_model.py:165: ValueWarning: No frequency information was provided, so inferred frequency MS will be used.\n",
            "  % freq, ValueWarning)\n",
            "/usr/local/lib/python3.7/dist-packages/statsmodels/tsa/base/tsa_model.py:165: ValueWarning: No frequency information was provided, so inferred frequency MS will be used.\n",
            "  % freq, ValueWarning)\n",
            "/usr/local/lib/python3.7/dist-packages/statsmodels/tsa/base/tsa_model.py:165: ValueWarning: No frequency information was provided, so inferred frequency MS will be used.\n",
            "  % freq, ValueWarning)\n",
            "/usr/local/lib/python3.7/dist-packages/statsmodels/tsa/base/tsa_model.py:165: ValueWarning: No frequency information was provided, so inferred frequency MS will be used.\n",
            "  % freq, ValueWarning)\n",
            "/usr/local/lib/python3.7/dist-packages/statsmodels/tsa/base/tsa_model.py:165: ValueWarning: No frequency information was provided, so inferred frequency MS will be used.\n",
            "  % freq, ValueWarning)\n",
            "/usr/local/lib/python3.7/dist-packages/statsmodels/tsa/base/tsa_model.py:165: ValueWarning: No frequency information was provided, so inferred frequency MS will be used.\n",
            "  % freq, ValueWarning)\n",
            "/usr/local/lib/python3.7/dist-packages/statsmodels/tsa/base/tsa_model.py:165: ValueWarning: No frequency information was provided, so inferred frequency MS will be used.\n",
            "  % freq, ValueWarning)\n"
          ]
        }
      ]
    },
    {
      "cell_type": "code",
      "metadata": {
        "colab": {
          "base_uri": "https://localhost:8080/"
        },
        "id": "7K7U8-IieI2F",
        "outputId": "103db13a-5e11-41a1-a55a-8a40c9e9ea21"
      },
      "source": [
        "prediction1 = model_fit1.forecast(model_fit1.y, steps=len(valid1))\n",
        "\n",
        "prediction2 = model_fit2.forecast(model_fit2.y, steps=len(valid2))\n",
        "\n",
        "prediction3 = model_fit3.forecast(model_fit3.y, steps=len(valid3))\n",
        "\n",
        "prediction4 = model_fit4.forecast(model_fit4.y, steps=len(valid4))\n",
        "\n",
        "prediction5 = model_fit5.forecast(model_fit5.y, steps=len(valid5))\n",
        "\n",
        "prediction6 = model_fit6.forecast(model_fit6.y, steps=len(valid6))\n",
        "\n",
        "prediction7 = model_fit7.forecast(model_fit7.y, steps=len(valid7))\n",
        "\n",
        "prediction8 = model_fit8.forecast(model_fit8.y, steps=len(valid8))\n",
        "\n",
        "prediction9 = model_fit9.forecast(model_fit9.y, steps=len(valid9))\n",
        "\n"
      ],
      "execution_count": null,
      "outputs": [
        {
          "output_type": "stream",
          "name": "stderr",
          "text": [
            "/usr/local/lib/python3.7/dist-packages/statsmodels/base/wrapper.py:35: FutureWarning: y is a deprecated alias for endog, will be removed in version 0.11.0\n",
            "  obj = getattr(results, attr)\n"
          ]
        }
      ]
    },
    {
      "cell_type": "code",
      "metadata": {
        "id": "rXIA_OZceI2F"
      },
      "source": [
        "from math import sqrt\n",
        "from sklearn.metrics import mean_squared_error\n"
      ],
      "execution_count": null,
      "outputs": []
    },
    {
      "cell_type": "code",
      "metadata": {
        "colab": {
          "base_uri": "https://localhost:8080/",
          "height": 198
        },
        "id": "IlLR6DZ3eI2F",
        "outputId": "d62f7ac9-7e41-41f7-fb78-082f248932ca"
      },
      "source": [
        "cols = grouped2.columns\n",
        "\n",
        "pred2 = pd.DataFrame(index=range(0,len(prediction2)),columns=[cols])\n",
        "for j in range(0,4):\n",
        "    for i in range(0, len(prediction2)):\n",
        "        pred2.iloc[i][j] = prediction2[i][j]\n",
        "\n",
        "#check rmse\n",
        "#for i in cols:\n",
        "    #print('rmse value for', i, 'is : ', sqrt(mean_squared_error(pred2[i], valid2[i])))"
      ],
      "execution_count": null,
      "outputs": [
        {
          "output_type": "error",
          "ename": "TypeError",
          "evalue": "ignored",
          "traceback": [
            "\u001b[0;31m---------------------------------------------------------------------------\u001b[0m",
            "\u001b[0;31mTypeError\u001b[0m                                 Traceback (most recent call last)",
            "\u001b[0;32m<ipython-input-191-c280a66ed364>\u001b[0m in \u001b[0;36m<module>\u001b[0;34m()\u001b[0m\n\u001b[1;32m     10\u001b[0m     \u001b[0;31m#print('rmse value for', i, 'is : ', sqrt(mean_squared_error(pred2[i], valid2[i])))\u001b[0m\u001b[0;34m\u001b[0m\u001b[0;34m\u001b[0m\u001b[0;34m\u001b[0m\u001b[0m\n\u001b[1;32m     11\u001b[0m \u001b[0ms\u001b[0m \u001b[0;34m=\u001b[0m \u001b[0mpred2\u001b[0m\u001b[0;34m.\u001b[0m\u001b[0mto_numpy\u001b[0m\u001b[0;34m\u001b[0m\u001b[0;34m\u001b[0m\u001b[0m\n\u001b[0;32m---> 12\u001b[0;31m \u001b[0ms\u001b[0m\u001b[0;34m[\u001b[0m\u001b[0;34m'K_PEOPLE'\u001b[0m\u001b[0;34m]\u001b[0m\u001b[0;34m\u001b[0m\u001b[0;34m\u001b[0m\u001b[0m\n\u001b[0m",
            "\u001b[0;31mTypeError\u001b[0m: 'method' object is not subscriptable"
          ]
        }
      ]
    },
    {
      "cell_type": "code",
      "metadata": {
        "id": "lO8y3dWxwQbi"
      },
      "source": [
        "cols = grouped2.columns\n",
        "\n",
        "pred2 = pd.DataFrame(index=range(0,len(prediction2)),columns=[cols])\n",
        "for j in range(0,4):\n",
        "    for i in range(0, len(prediction2)):\n",
        "        pred2.iloc[i][j] = prediction2[i][j]\n",
        "\n",
        "#check rmse\n",
        "for i in cols:\n",
        "    print('rmse value for', i, 'is : ', sqrt(mean_squared_error(pred2[i], valid2[i])))"
      ],
      "execution_count": null,
      "outputs": []
    },
    {
      "cell_type": "code",
      "metadata": {
        "id": "OoF1pPnmwhRk"
      },
      "source": [
        "pred3 = pd.DataFrame(index=range(0,len(prediction3)),columns=[cols])\n",
        "for j in range(0,4):\n",
        "    for i in range(0, len(prediction3)):\n",
        "        pred3.iloc[i][j] = prediction3[i][j]\n",
        "\n",
        "#check rmse\n",
        "for i in cols:\n",
        "    print('rmse value for', i, 'is : ', sqrt(mean_squared_error(pred3[i], valid3[i])))"
      ],
      "execution_count": null,
      "outputs": []
    },
    {
      "cell_type": "code",
      "metadata": {
        "id": "YlufOssPwhyo"
      },
      "source": [
        "pred4 = pd.DataFrame(index=range(0,len(prediction4)),columns=[cols])\n",
        "for j in range(0,4):\n",
        "    for i in range(0, len(prediction4)):\n",
        "        pred4.iloc[i][j] = prediction4[i][j]\n",
        "\n",
        "#check rmse\n",
        "for i in cols:\n",
        "    print('rmse value for', i, 'is : ', sqrt(mean_squared_error(pred4[i], valid4[i])))"
      ],
      "execution_count": null,
      "outputs": []
    },
    {
      "cell_type": "code",
      "metadata": {
        "id": "VBmE2UZKwiRQ"
      },
      "source": [
        "pred5 = pd.DataFrame(index=range(0,len(prediction5)),columns=[cols])\n",
        "for j in range(0,4):\n",
        "    for i in range(0, len(prediction5)):\n",
        "        pred5.iloc[i][j] = prediction5[i][j]\n",
        "\n",
        "#check rmse\n",
        "for i in cols:\n",
        "    print('rmse value for', i, 'is : ', sqrt(mean_squared_error(pred5[i], valid5[i])))"
      ],
      "execution_count": null,
      "outputs": []
    },
    {
      "cell_type": "code",
      "metadata": {
        "id": "FRAEH4_Awiky"
      },
      "source": [
        "pred6 = pd.DataFrame(index=range(0,len(prediction6)),columns=[cols])\n",
        "for j in range(0,4):\n",
        "    for i in range(0, len(prediction6)):\n",
        "        pred6.iloc[i][j] = prediction6[i][j]\n",
        "\n",
        "#check rmse\n",
        "for i in cols:\n",
        "    print('rmse value for', i, 'is : ', sqrt(mean_squared_error(pred6[i], valid6[i])))"
      ],
      "execution_count": null,
      "outputs": []
    },
    {
      "cell_type": "code",
      "metadata": {
        "id": "u_F5iK6Zwi3T"
      },
      "source": [
        "pred7 = pd.DataFrame(index=range(0,len(prediction7)),columns=[cols])\n",
        "for j in range(0,4):\n",
        "    for i in range(0, len(prediction7)):\n",
        "        pred7.iloc[i][j] = prediction7[i][j]\n",
        "\n",
        "#check rmse\n",
        "for i in cols:\n",
        "    print('rmse value for', i, 'is : ', sqrt(mean_squared_error(pred7[i], valid7[i])))"
      ],
      "execution_count": null,
      "outputs": []
    },
    {
      "cell_type": "code",
      "metadata": {
        "id": "yzjPAFwBwjI5"
      },
      "source": [
        "pred8 = pd.DataFrame(index=range(0,len(prediction8)),columns=[cols])\n",
        "for j in range(0,4):\n",
        "    for i in range(0, len(prediction8)):\n",
        "        pred8.iloc[i][j] = prediction8[i][j]\n",
        "\n",
        "#check rmse\n",
        "for i in cols:\n",
        "    print('rmse value for', i, 'is : ', sqrt(mean_squared_error(pred8[i], valid8[i])))"
      ],
      "execution_count": null,
      "outputs": []
    },
    {
      "cell_type": "code",
      "metadata": {
        "colab": {
          "base_uri": "https://localhost:8080/",
          "height": 341
        },
        "id": "SfIoRT3swjiC",
        "outputId": "825f2653-d665-4203-ae18-68319f53c6d7"
      },
      "source": [
        "pred9 = pd.DataFrame(index=range(0,len(prediction9)),columns=[cols])\n",
        "for j in range(0,4):\n",
        "    for i in range(0, len(prediction9)):\n",
        "        pred9.iloc[i][j] = prediction9[i][j]\n",
        "\n",
        "#check rmse\n",
        "for i in cols:\n",
        "    print('rmse value for', i, 'is : ', sqrt(mean_squared_error(pred9[i], valid9[i])))"
      ],
      "execution_count": null,
      "outputs": [
        {
          "output_type": "error",
          "ename": "TypeError",
          "evalue": "ignored",
          "traceback": [
            "\u001b[0;31m---------------------------------------------------------------------------\u001b[0m",
            "\u001b[0;31mTypeError\u001b[0m                                 Traceback (most recent call last)",
            "\u001b[0;32m<ipython-input-142-c503d44bd5d6>\u001b[0m in \u001b[0;36m<module>\u001b[0;34m()\u001b[0m\n\u001b[1;32m      6\u001b[0m \u001b[0;31m#check rmse\u001b[0m\u001b[0;34m\u001b[0m\u001b[0;34m\u001b[0m\u001b[0;34m\u001b[0m\u001b[0m\n\u001b[1;32m      7\u001b[0m \u001b[0;32mfor\u001b[0m \u001b[0mi\u001b[0m \u001b[0;32min\u001b[0m \u001b[0mcols\u001b[0m\u001b[0;34m:\u001b[0m\u001b[0;34m\u001b[0m\u001b[0;34m\u001b[0m\u001b[0m\n\u001b[0;32m----> 8\u001b[0;31m     \u001b[0mprint\u001b[0m\u001b[0;34m(\u001b[0m\u001b[0;34m'rmse value for'\u001b[0m\u001b[0;34m,\u001b[0m \u001b[0mi\u001b[0m\u001b[0;34m,\u001b[0m \u001b[0;34m'is : '\u001b[0m\u001b[0;34m,\u001b[0m \u001b[0msqrt\u001b[0m\u001b[0;34m(\u001b[0m\u001b[0mmean_squared_error\u001b[0m\u001b[0;34m(\u001b[0m\u001b[0mpred9\u001b[0m\u001b[0;34m[\u001b[0m\u001b[0mi\u001b[0m\u001b[0;34m]\u001b[0m\u001b[0;34m,\u001b[0m \u001b[0mvalid9\u001b[0m\u001b[0;34m[\u001b[0m\u001b[0mi\u001b[0m\u001b[0;34m]\u001b[0m\u001b[0;34m)\u001b[0m\u001b[0;34m)\u001b[0m\u001b[0;34m)\u001b[0m\u001b[0;34m\u001b[0m\u001b[0;34m\u001b[0m\u001b[0m\n\u001b[0m",
            "\u001b[0;32m/usr/local/lib/python3.7/dist-packages/pandas/core/frame.py\u001b[0m in \u001b[0;36m__getitem__\u001b[0;34m(self, key)\u001b[0m\n\u001b[1;32m   2876\u001b[0m                 \u001b[0;32mif\u001b[0m \u001b[0mself\u001b[0m\u001b[0;34m.\u001b[0m\u001b[0mcolumns\u001b[0m\u001b[0;34m.\u001b[0m\u001b[0mnlevels\u001b[0m \u001b[0;34m>\u001b[0m \u001b[0;36m1\u001b[0m\u001b[0;34m:\u001b[0m\u001b[0;34m\u001b[0m\u001b[0;34m\u001b[0m\u001b[0m\n\u001b[1;32m   2877\u001b[0m                     \u001b[0;32mreturn\u001b[0m \u001b[0mself\u001b[0m\u001b[0;34m.\u001b[0m\u001b[0m_getitem_multilevel\u001b[0m\u001b[0;34m(\u001b[0m\u001b[0mkey\u001b[0m\u001b[0;34m)\u001b[0m\u001b[0;34m\u001b[0m\u001b[0;34m\u001b[0m\u001b[0m\n\u001b[0;32m-> 2878\u001b[0;31m                 \u001b[0;32mreturn\u001b[0m \u001b[0mself\u001b[0m\u001b[0;34m.\u001b[0m\u001b[0m_get_item_cache\u001b[0m\u001b[0;34m(\u001b[0m\u001b[0mkey\u001b[0m\u001b[0;34m)\u001b[0m\u001b[0;34m\u001b[0m\u001b[0;34m\u001b[0m\u001b[0m\n\u001b[0m\u001b[1;32m   2879\u001b[0m \u001b[0;34m\u001b[0m\u001b[0m\n\u001b[1;32m   2880\u001b[0m         \u001b[0;31m# Do we have a slicer (on rows)?\u001b[0m\u001b[0;34m\u001b[0m\u001b[0;34m\u001b[0m\u001b[0;34m\u001b[0m\u001b[0m\n",
            "\u001b[0;32m/usr/local/lib/python3.7/dist-packages/pandas/core/generic.py\u001b[0m in \u001b[0;36m_get_item_cache\u001b[0;34m(self, item)\u001b[0m\n\u001b[1;32m   3541\u001b[0m \u001b[0;34m\u001b[0m\u001b[0m\n\u001b[1;32m   3542\u001b[0m             \u001b[0mloc\u001b[0m \u001b[0;34m=\u001b[0m \u001b[0mself\u001b[0m\u001b[0;34m.\u001b[0m\u001b[0mcolumns\u001b[0m\u001b[0;34m.\u001b[0m\u001b[0mget_loc\u001b[0m\u001b[0;34m(\u001b[0m\u001b[0mitem\u001b[0m\u001b[0;34m)\u001b[0m\u001b[0;34m\u001b[0m\u001b[0;34m\u001b[0m\u001b[0m\n\u001b[0;32m-> 3543\u001b[0;31m             \u001b[0mvalues\u001b[0m \u001b[0;34m=\u001b[0m \u001b[0mself\u001b[0m\u001b[0;34m.\u001b[0m\u001b[0m_mgr\u001b[0m\u001b[0;34m.\u001b[0m\u001b[0miget\u001b[0m\u001b[0;34m(\u001b[0m\u001b[0mloc\u001b[0m\u001b[0;34m)\u001b[0m\u001b[0;34m\u001b[0m\u001b[0;34m\u001b[0m\u001b[0m\n\u001b[0m\u001b[1;32m   3544\u001b[0m             \u001b[0mres\u001b[0m \u001b[0;34m=\u001b[0m \u001b[0mself\u001b[0m\u001b[0;34m.\u001b[0m\u001b[0m_box_col_values\u001b[0m\u001b[0;34m(\u001b[0m\u001b[0mvalues\u001b[0m\u001b[0;34m,\u001b[0m \u001b[0mloc\u001b[0m\u001b[0;34m)\u001b[0m\u001b[0;34m\u001b[0m\u001b[0;34m\u001b[0m\u001b[0m\n\u001b[1;32m   3545\u001b[0m \u001b[0;34m\u001b[0m\u001b[0m\n",
            "\u001b[0;32m/usr/local/lib/python3.7/dist-packages/pandas/core/internals/managers.py\u001b[0m in \u001b[0;36miget\u001b[0;34m(self, i)\u001b[0m\n\u001b[1;32m    995\u001b[0m         \u001b[0mReturn\u001b[0m \u001b[0mthe\u001b[0m \u001b[0mdata\u001b[0m \u001b[0;32mas\u001b[0m \u001b[0ma\u001b[0m \u001b[0mSingleBlockManager\u001b[0m\u001b[0;34m.\u001b[0m\u001b[0;34m\u001b[0m\u001b[0;34m\u001b[0m\u001b[0m\n\u001b[1;32m    996\u001b[0m         \"\"\"\n\u001b[0;32m--> 997\u001b[0;31m         \u001b[0mblock\u001b[0m \u001b[0;34m=\u001b[0m \u001b[0mself\u001b[0m\u001b[0;34m.\u001b[0m\u001b[0mblocks\u001b[0m\u001b[0;34m[\u001b[0m\u001b[0mself\u001b[0m\u001b[0;34m.\u001b[0m\u001b[0mblknos\u001b[0m\u001b[0;34m[\u001b[0m\u001b[0mi\u001b[0m\u001b[0;34m]\u001b[0m\u001b[0;34m]\u001b[0m\u001b[0;34m\u001b[0m\u001b[0;34m\u001b[0m\u001b[0m\n\u001b[0m\u001b[1;32m    998\u001b[0m         \u001b[0mvalues\u001b[0m \u001b[0;34m=\u001b[0m \u001b[0mblock\u001b[0m\u001b[0;34m.\u001b[0m\u001b[0miget\u001b[0m\u001b[0;34m(\u001b[0m\u001b[0mself\u001b[0m\u001b[0;34m.\u001b[0m\u001b[0mblklocs\u001b[0m\u001b[0;34m[\u001b[0m\u001b[0mi\u001b[0m\u001b[0;34m]\u001b[0m\u001b[0;34m)\u001b[0m\u001b[0;34m\u001b[0m\u001b[0;34m\u001b[0m\u001b[0m\n\u001b[1;32m    999\u001b[0m \u001b[0;34m\u001b[0m\u001b[0m\n",
            "\u001b[0;31mTypeError\u001b[0m: only integer scalar arrays can be converted to a scalar index"
          ]
        }
      ]
    },
    {
      "cell_type": "code",
      "metadata": {
        "colab": {
          "base_uri": "https://localhost:8080/"
        },
        "id": "DSXv91OqeI2G",
        "outputId": "0b414cf7-a3f2-44ce-cc1e-4e231d596a33"
      },
      "source": [
        "model1 = VAR(endog=grouped1)\n",
        "model_fit1 = model1.fit()\n",
        "yhat1 = model_fit1.forecast(model_fit1.y, steps=3)\n",
        "print(yhat1)\n"
      ],
      "execution_count": null,
      "outputs": [
        {
          "output_type": "stream",
          "name": "stdout",
          "text": [
            "[[   6.55688057 1161.71784396    1.88847862   47.09157241]\n",
            " [   6.94786922 1177.7363701     1.98894097   43.80660811]\n",
            " [   6.92371095 1198.28049907    2.04270357   43.46832612]]\n"
          ]
        },
        {
          "output_type": "stream",
          "name": "stderr",
          "text": [
            "/usr/local/lib/python3.7/dist-packages/statsmodels/tsa/base/tsa_model.py:165: ValueWarning: No frequency information was provided, so inferred frequency MS will be used.\n",
            "  % freq, ValueWarning)\n",
            "/usr/local/lib/python3.7/dist-packages/statsmodels/base/wrapper.py:35: FutureWarning: y is a deprecated alias for endog, will be removed in version 0.11.0\n",
            "  obj = getattr(results, attr)\n"
          ]
        }
      ]
    },
    {
      "cell_type": "code",
      "metadata": {
        "colab": {
          "base_uri": "https://localhost:8080/"
        },
        "id": "2fP5rimOeI2G",
        "outputId": "470a411c-7dde-4158-bd25-a7a855587bd5"
      },
      "source": [
        "model2 = VAR(endog=grouped2)\n",
        "model_fit2 = model2.fit()\n",
        "yhat2 = model_fit2.forecast(model_fit2.y, steps=3)\n",
        "print(yhat2)"
      ],
      "execution_count": null,
      "outputs": [
        {
          "output_type": "stream",
          "name": "stdout",
          "text": [
            "[[  11.20178154 1335.03423327    2.673097     34.16529353]\n",
            " [  11.05323435 1318.65422255    2.15893601   33.54669434]\n",
            " [  10.91941926 1316.63198468    2.06035991   33.09097177]]\n"
          ]
        },
        {
          "output_type": "stream",
          "name": "stderr",
          "text": [
            "/usr/local/lib/python3.7/dist-packages/statsmodels/tsa/base/tsa_model.py:165: ValueWarning: No frequency information was provided, so inferred frequency MS will be used.\n",
            "  % freq, ValueWarning)\n",
            "/usr/local/lib/python3.7/dist-packages/statsmodels/base/wrapper.py:35: FutureWarning: y is a deprecated alias for endog, will be removed in version 0.11.0\n",
            "  obj = getattr(results, attr)\n"
          ]
        }
      ]
    },
    {
      "cell_type": "code",
      "metadata": {
        "colab": {
          "base_uri": "https://localhost:8080/"
        },
        "id": "ndtrEP0ieI2G",
        "outputId": "d94ffedc-32d5-4d3e-fdad-721feacf5876"
      },
      "source": [
        "model3 = VAR(endog=grouped3)\n",
        "model_fit3 = model3.fit()\n",
        "yhat3 = model_fit3.forecast(model_fit3.y, steps=3)\n",
        "print(yhat3)"
      ],
      "execution_count": null,
      "outputs": [
        {
          "output_type": "stream",
          "name": "stdout",
          "text": [
            "[[  2.84772957 239.67389904   0.3169487    3.61059011]\n",
            " [  3.04865125 248.9548571    0.31074938   3.76232727]\n",
            " [  3.23720672 252.33914526   0.36080871   3.73461635]]\n"
          ]
        },
        {
          "output_type": "stream",
          "name": "stderr",
          "text": [
            "/usr/local/lib/python3.7/dist-packages/statsmodels/tsa/base/tsa_model.py:165: ValueWarning: No frequency information was provided, so inferred frequency MS will be used.\n",
            "  % freq, ValueWarning)\n",
            "/usr/local/lib/python3.7/dist-packages/statsmodels/base/wrapper.py:35: FutureWarning: y is a deprecated alias for endog, will be removed in version 0.11.0\n",
            "  obj = getattr(results, attr)\n"
          ]
        }
      ]
    },
    {
      "cell_type": "code",
      "metadata": {
        "colab": {
          "base_uri": "https://localhost:8080/"
        },
        "id": "RYGU0AfZxRq_",
        "outputId": "cadc1780-bfd7-41f7-dc5b-fd43ebe58403"
      },
      "source": [
        "model4 = VAR(endog=grouped4)\n",
        "model_fit4 = model4.fit()\n",
        "yhat4 = model_fit4.forecast(model_fit4.y, steps=3)\n",
        "print(yhat4)"
      ],
      "execution_count": null,
      "outputs": [
        {
          "output_type": "stream",
          "name": "stdout",
          "text": [
            "[[3.29762137e+00 1.91142651e+02 1.87525335e-01 3.25811627e+00]\n",
            " [3.22984322e+00 1.93720447e+02 2.51057601e-01 3.31833453e+00]\n",
            " [3.21026530e+00 1.93853383e+02 2.54653981e-01 3.31955726e+00]]\n"
          ]
        },
        {
          "output_type": "stream",
          "name": "stderr",
          "text": [
            "/usr/local/lib/python3.7/dist-packages/statsmodels/tsa/base/tsa_model.py:165: ValueWarning: No frequency information was provided, so inferred frequency MS will be used.\n",
            "  % freq, ValueWarning)\n",
            "/usr/local/lib/python3.7/dist-packages/statsmodels/base/wrapper.py:35: FutureWarning: y is a deprecated alias for endog, will be removed in version 0.11.0\n",
            "  obj = getattr(results, attr)\n"
          ]
        }
      ]
    },
    {
      "cell_type": "code",
      "metadata": {
        "colab": {
          "base_uri": "https://localhost:8080/"
        },
        "id": "P4WIbNrJxSFK",
        "outputId": "8a76bf1a-5940-4bd9-fd3a-8624c991752a"
      },
      "source": [
        "model5 = VAR(endog=grouped5)\n",
        "model_fit5 = model5.fit()\n",
        "yhat5 = model_fit5.forecast(model_fit5.y, steps=3)\n",
        "print(yhat5)"
      ],
      "execution_count": null,
      "outputs": [
        {
          "output_type": "stream",
          "name": "stdout",
          "text": [
            "[[  2.20838037 152.52192017   0.33467409   3.75072405]\n",
            " [  2.07371993 150.19463991   0.33811242   3.9878071 ]\n",
            " [  2.08369754 149.43063616   0.33798715   3.97450014]]\n"
          ]
        },
        {
          "output_type": "stream",
          "name": "stderr",
          "text": [
            "/usr/local/lib/python3.7/dist-packages/statsmodels/tsa/base/tsa_model.py:165: ValueWarning: No frequency information was provided, so inferred frequency MS will be used.\n",
            "  % freq, ValueWarning)\n",
            "/usr/local/lib/python3.7/dist-packages/statsmodels/base/wrapper.py:35: FutureWarning: y is a deprecated alias for endog, will be removed in version 0.11.0\n",
            "  obj = getattr(results, attr)\n"
          ]
        }
      ]
    },
    {
      "cell_type": "code",
      "metadata": {
        "colab": {
          "base_uri": "https://localhost:8080/"
        },
        "id": "Sz0qoPONxSU2",
        "outputId": "f6506348-c96a-4c95-ea14-6fd1339555e9"
      },
      "source": [
        "model6 = VAR(endog=grouped6)\n",
        "model_fit6 = model6.fit()\n",
        "yhat6 = model_fit6.forecast(model_fit6.y, steps=3)\n",
        "print(yhat6)"
      ],
      "execution_count": null,
      "outputs": [
        {
          "output_type": "stream",
          "name": "stdout",
          "text": [
            "[[  2.75689045 174.92677636   0.44912207   3.10024264]\n",
            " [  2.65331414 164.20673257   0.32346577   3.49161289]\n",
            " [  2.64970069 158.64245975   0.28750422   3.61851177]]\n"
          ]
        },
        {
          "output_type": "stream",
          "name": "stderr",
          "text": [
            "/usr/local/lib/python3.7/dist-packages/statsmodels/tsa/base/tsa_model.py:165: ValueWarning: No frequency information was provided, so inferred frequency MS will be used.\n",
            "  % freq, ValueWarning)\n",
            "/usr/local/lib/python3.7/dist-packages/statsmodels/base/wrapper.py:35: FutureWarning: y is a deprecated alias for endog, will be removed in version 0.11.0\n",
            "  obj = getattr(results, attr)\n"
          ]
        }
      ]
    },
    {
      "cell_type": "code",
      "metadata": {
        "colab": {
          "base_uri": "https://localhost:8080/"
        },
        "id": "bkCmzXgvxSlM",
        "outputId": "d5e3202e-e13f-4484-b6fe-7bc7d0bfa1ff"
      },
      "source": [
        "model7 = VAR(endog=grouped7)\n",
        "model_fit7 = model7.fit()\n",
        "yhat7 = model_fit7.forecast(model_fit7.y, steps=3)\n",
        "print(yhat7)"
      ],
      "execution_count": null,
      "outputs": [
        {
          "output_type": "stream",
          "name": "stdout",
          "text": [
            "[[2.62329554e+00 1.52496425e+02 2.43615469e-01 2.58834839e+00]\n",
            " [2.69973312e+00 1.57025363e+02 1.41172185e-01 2.38875263e+00]\n",
            " [2.71166664e+00 1.59969781e+02 1.36512220e-01 2.34138595e+00]]\n"
          ]
        },
        {
          "output_type": "stream",
          "name": "stderr",
          "text": [
            "/usr/local/lib/python3.7/dist-packages/statsmodels/tsa/base/tsa_model.py:165: ValueWarning: No frequency information was provided, so inferred frequency MS will be used.\n",
            "  % freq, ValueWarning)\n",
            "/usr/local/lib/python3.7/dist-packages/statsmodels/base/wrapper.py:35: FutureWarning: y is a deprecated alias for endog, will be removed in version 0.11.0\n",
            "  obj = getattr(results, attr)\n"
          ]
        }
      ]
    },
    {
      "cell_type": "code",
      "metadata": {
        "colab": {
          "base_uri": "https://localhost:8080/"
        },
        "id": "S81fFR-nxS2R",
        "outputId": "b1485f7f-83d5-470e-b4b2-4b62d9f0969d"
      },
      "source": [
        "model8 = VAR(endog=grouped8)\n",
        "model_fit8 = model8.fit()\n",
        "yhat8 = model_fit8.forecast(model_fit8.y, steps=3)\n",
        "print(yhat8)"
      ],
      "execution_count": null,
      "outputs": [
        {
          "output_type": "stream",
          "name": "stdout",
          "text": [
            "[[  2.08813772 112.04943016   0.21755312   2.05124727]\n",
            " [  2.70763782 120.62951962   0.27684798   2.38246851]\n",
            " [  2.68513532 122.93661527   0.25546188   2.54796417]]\n"
          ]
        },
        {
          "output_type": "stream",
          "name": "stderr",
          "text": [
            "/usr/local/lib/python3.7/dist-packages/statsmodels/tsa/base/tsa_model.py:165: ValueWarning: No frequency information was provided, so inferred frequency MS will be used.\n",
            "  % freq, ValueWarning)\n",
            "/usr/local/lib/python3.7/dist-packages/statsmodels/base/wrapper.py:35: FutureWarning: y is a deprecated alias for endog, will be removed in version 0.11.0\n",
            "  obj = getattr(results, attr)\n"
          ]
        }
      ]
    },
    {
      "cell_type": "code",
      "metadata": {
        "colab": {
          "base_uri": "https://localhost:8080/"
        },
        "id": "OfR5w_YixTGV",
        "outputId": "219ac8f6-ded5-48c0-b9ca-f9a0dbf9c5e2"
      },
      "source": [
        "model9 = VAR(endog=grouped9)\n",
        "model_fit9 = model9.fit()\n",
        "yhat9 = model_fit9.forecast(model_fit9.y, steps=3)\n",
        "print(yhat9)"
      ],
      "execution_count": null,
      "outputs": [
        {
          "output_type": "stream",
          "name": "stdout",
          "text": [
            "[[  2.80793722 150.49071112   0.17103873   1.24095038]\n",
            " [  2.60775357 150.80993692   0.18042047   1.31084516]\n",
            " [  2.62134868 150.0149849    0.19056387   1.28910233]]\n"
          ]
        },
        {
          "output_type": "stream",
          "name": "stderr",
          "text": [
            "/usr/local/lib/python3.7/dist-packages/statsmodels/tsa/base/tsa_model.py:165: ValueWarning: No frequency information was provided, so inferred frequency MS will be used.\n",
            "  % freq, ValueWarning)\n",
            "/usr/local/lib/python3.7/dist-packages/statsmodels/base/wrapper.py:35: FutureWarning: y is a deprecated alias for endog, will be removed in version 0.11.0\n",
            "  obj = getattr(results, attr)\n"
          ]
        }
      ]
    },
    {
      "cell_type": "code",
      "metadata": {
        "colab": {
          "base_uri": "https://localhost:8080/",
          "height": 235
        },
        "id": "evhM_bwd08-h",
        "outputId": "1ac6a9cd-def5-4b43-cbd6-4e2eaaec7b33"
      },
      "source": [
        "grouped9.head()"
      ],
      "execution_count": null,
      "outputs": [
        {
          "output_type": "execute_result",
          "data": {
            "text/html": [
              "<div>\n",
              "<style scoped>\n",
              "    .dataframe tbody tr th:only-of-type {\n",
              "        vertical-align: middle;\n",
              "    }\n",
              "\n",
              "    .dataframe tbody tr th {\n",
              "        vertical-align: top;\n",
              "    }\n",
              "\n",
              "    .dataframe thead th {\n",
              "        text-align: right;\n",
              "    }\n",
              "</style>\n",
              "<table border=\"1\" class=\"dataframe\">\n",
              "  <thead>\n",
              "    <tr style=\"text-align: right;\">\n",
              "      <th></th>\n",
              "      <th>K_PEOPLE</th>\n",
              "      <th>PERSONS_INJURED</th>\n",
              "      <th>PEDESTRIANS_KILLED</th>\n",
              "      <th>PEDESTRIANS_INJURED</th>\n",
              "    </tr>\n",
              "    <tr>\n",
              "      <th>CRASH_DT</th>\n",
              "      <th></th>\n",
              "      <th></th>\n",
              "      <th></th>\n",
              "      <th></th>\n",
              "    </tr>\n",
              "  </thead>\n",
              "  <tbody>\n",
              "    <tr>\n",
              "      <th>2014-01-01</th>\n",
              "      <td>3</td>\n",
              "      <td>128</td>\n",
              "      <td>0</td>\n",
              "      <td>2</td>\n",
              "    </tr>\n",
              "    <tr>\n",
              "      <th>2014-02-01</th>\n",
              "      <td>0</td>\n",
              "      <td>115</td>\n",
              "      <td>0</td>\n",
              "      <td>2</td>\n",
              "    </tr>\n",
              "    <tr>\n",
              "      <th>2014-03-01</th>\n",
              "      <td>3</td>\n",
              "      <td>112</td>\n",
              "      <td>0</td>\n",
              "      <td>3</td>\n",
              "    </tr>\n",
              "    <tr>\n",
              "      <th>2014-04-01</th>\n",
              "      <td>3</td>\n",
              "      <td>149</td>\n",
              "      <td>0</td>\n",
              "      <td>2</td>\n",
              "    </tr>\n",
              "    <tr>\n",
              "      <th>2014-05-01</th>\n",
              "      <td>2</td>\n",
              "      <td>178</td>\n",
              "      <td>0</td>\n",
              "      <td>2</td>\n",
              "    </tr>\n",
              "  </tbody>\n",
              "</table>\n",
              "</div>"
            ],
            "text/plain": [
              "            K_PEOPLE  PERSONS_INJURED  PEDESTRIANS_KILLED  PEDESTRIANS_INJURED\n",
              "CRASH_DT                                                                      \n",
              "2014-01-01         3              128                   0                    2\n",
              "2014-02-01         0              115                   0                    2\n",
              "2014-03-01         3              112                   0                    3\n",
              "2014-04-01         3              149                   0                    2\n",
              "2014-05-01         2              178                   0                    2"
            ]
          },
          "metadata": {},
          "execution_count": 152
        }
      ]
    },
    {
      "cell_type": "code",
      "metadata": {
        "id": "4H-wS8LY1SkF"
      },
      "source": [
        ""
      ],
      "execution_count": null,
      "outputs": []
    }
  ]
}